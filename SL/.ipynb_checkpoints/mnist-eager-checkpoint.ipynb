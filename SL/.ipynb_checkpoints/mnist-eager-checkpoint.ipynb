{
 "cells": [
  {
   "cell_type": "markdown",
   "metadata": {},
   "source": [
    "# Eager Mode Mnist"
   ]
  },
  {
   "cell_type": "code",
   "execution_count": 1,
   "metadata": {
    "collapsed": true
   },
   "outputs": [],
   "source": [
    "from __future__ import absolute_import, division, print_function\n",
    "import tensorflow as tf\n",
    "import tensorflow.contrib.eager as tfe\n",
    "tf.enable_eager_execution()"
   ]
  },
  {
   "cell_type": "markdown",
   "metadata": {},
   "source": [
    "mnist image : 28,28 "
   ]
  },
  {
   "cell_type": "code",
   "execution_count": 2,
   "metadata": {},
   "outputs": [],
   "source": [
    "mnist = tf.keras.datasets.mnist"
   ]
  },
  {
   "cell_type": "markdown",
   "metadata": {},
   "source": [
    "# Create Model"
   ]
  },
  {
   "cell_type": "code",
   "execution_count": 3,
   "metadata": {},
   "outputs": [],
   "source": [
    "def create_model():\n",
    "    model = tf.keras.Sequential()\n",
    "    # Build the model\n",
    "    model.add(tf.keras.layers.Conv2D(16,[3,3], activation='relu'))\n",
    "    model.add(tf.keras.layers.Conv2D(16,[3,3], activation='relu'))\n",
    "    model.add(tf.keras.layers.GlobalAveragePooling2D())\n",
    "    model.add(tf.keras.layers.Dense(10))\n",
    "    return model "
   ]
  },
  {
   "cell_type": "code",
   "execution_count": 4,
   "metadata": {},
   "outputs": [],
   "source": [
    "def create_model2():\n",
    "    model = tf.keras.Sequential()\n",
    "    # Build the model\n",
    "    model.add(tf.keras.layers.Conv2D(16,[3,3], activation='relu', use_bias=False))\n",
    "    model.add(tf.keras.layers.BatchNormalization())\n",
    "    model.add(tf.keras.layers.Conv2D(16,[3,3], activation='relu', use_bias=False))\n",
    "    model.add(tf.keras.layers.BatchNormalization())\n",
    "    model.add(tf.keras.layers.GlobalAveragePooling2D())\n",
    "    model.add(tf.keras.layers.Dense(10))\n",
    "    return model "
   ]
  },
  {
   "cell_type": "code",
   "execution_count": 5,
   "metadata": {},
   "outputs": [
    {
     "name": "stdout",
     "output_type": "stream",
     "text": [
      "<tensorflow.python.keras.engine.sequential.Sequential object at 0x7f53c8933588>\n"
     ]
    }
   ],
   "source": [
    "model = create_model2()\n",
    "print(model)"
   ]
  },
  {
   "cell_type": "markdown",
   "metadata": {},
   "source": [
    "# Load Model "
   ]
  },
  {
   "cell_type": "code",
   "execution_count": 6,
   "metadata": {
    "collapsed": true
   },
   "outputs": [],
   "source": [
    "# Fetch and format the mnist data\n",
    "(mnist_images, mnist_labels), _ = tf.keras.datasets.mnist.load_data()\n",
    "\n",
    "dataset = tf.data.Dataset.from_tensor_slices(\n",
    "  (tf.cast(mnist_images[...,tf.newaxis]/255, tf.float32),\n",
    "   tf.cast(mnist_labels,tf.int64)))\n",
    "dataset = dataset.shuffle(1000).batch(32)"
   ]
  },
  {
   "cell_type": "code",
   "execution_count": 7,
   "metadata": {},
   "outputs": [
    {
     "name": "stdout",
     "output_type": "stream",
     "text": [
      "(1, 28, 28, 1)\n",
      "Logis tf.Tensor(\n",
      "[[-0.13618481  0.03267801  0.02558108  0.06387131  0.02490517 -0.01797117\n",
      "   0.08664734  0.01698757  0.00121153  0.0305122 ]], shape=(1, 10), dtype=float32)\n"
     ]
    }
   ],
   "source": [
    "for images, labels in dataset.take(1):\n",
    "    print(images[0:1].shape)\n",
    "    print(\"Logis\", model(images[0:1].numpy()))"
   ]
  },
  {
   "cell_type": "markdown",
   "metadata": {},
   "source": [
    "# Define Optimizer"
   ]
  },
  {
   "cell_type": "code",
   "execution_count": 8,
   "metadata": {
    "collapsed": true
   },
   "outputs": [],
   "source": [
    "optimizer = tf.train.AdamOptimizer()\n"
   ]
  },
  {
   "cell_type": "markdown",
   "metadata": {},
   "source": [
    "# Train"
   ]
  },
  {
   "cell_type": "code",
   "execution_count": 9,
   "metadata": {},
   "outputs": [],
   "source": [
    "# loss_history = []\n",
    "# for ( batch, (images, labels)) in enumerate(dataset.take(400)):\n",
    "#     if batch % 80== 0 :\n",
    "#         print()\n",
    "#     print('.', end='')\n",
    "#     with tf.GradientTape() as tape:\n",
    "#         logits = model(images, training=True)\n",
    "#         loss_value = tf.losses.sparse_softmax_cross_entropy(labels, logits)\n",
    "        \n",
    "#     loss_history.append(loss_value.numpy())\n",
    "#     grads = tape.gradient(loss_value, model.variables)\n",
    "#     optimizer.apply_gradients(zip(grads, model.variables), \n",
    "#                              global_step=tf.train.get_or_create_global_step())"
   ]
  },
  {
   "cell_type": "code",
   "execution_count": 10,
   "metadata": {},
   "outputs": [
    {
     "ename": "NameError",
     "evalue": "name 'loss_history' is not defined",
     "output_type": "error",
     "traceback": [
      "\u001b[0;31m---------------------------------------------------------------------------\u001b[0m",
      "\u001b[0;31mNameError\u001b[0m                                 Traceback (most recent call last)",
      "\u001b[0;32m<ipython-input-10-9aa4a302f514>\u001b[0m in \u001b[0;36m<module>\u001b[0;34m()\u001b[0m\n\u001b[1;32m      1\u001b[0m \u001b[0;32mimport\u001b[0m \u001b[0mmatplotlib\u001b[0m\u001b[0;34m.\u001b[0m\u001b[0mpyplot\u001b[0m \u001b[0;32mas\u001b[0m \u001b[0mplt\u001b[0m\u001b[0;34m\u001b[0m\u001b[0m\n\u001b[0;32m----> 2\u001b[0;31m \u001b[0mplt\u001b[0m\u001b[0;34m.\u001b[0m\u001b[0mplot\u001b[0m\u001b[0;34m(\u001b[0m\u001b[0mloss_history\u001b[0m\u001b[0;34m)\u001b[0m\u001b[0;34m\u001b[0m\u001b[0m\n\u001b[0m\u001b[1;32m      3\u001b[0m \u001b[0mplt\u001b[0m\u001b[0;34m.\u001b[0m\u001b[0mxlabel\u001b[0m\u001b[0;34m(\u001b[0m\u001b[0;34m'Batch #'\u001b[0m\u001b[0;34m)\u001b[0m\u001b[0;34m\u001b[0m\u001b[0m\n\u001b[1;32m      4\u001b[0m \u001b[0mplt\u001b[0m\u001b[0;34m.\u001b[0m\u001b[0mylabel\u001b[0m\u001b[0;34m(\u001b[0m\u001b[0;34m'Loss [entropy]'\u001b[0m\u001b[0;34m)\u001b[0m\u001b[0;34m\u001b[0m\u001b[0m\n\u001b[1;32m      5\u001b[0m \u001b[0mplt\u001b[0m\u001b[0;34m.\u001b[0m\u001b[0mshow\u001b[0m\u001b[0;34m(\u001b[0m\u001b[0;34m)\u001b[0m\u001b[0;34m\u001b[0m\u001b[0m\n",
      "\u001b[0;31mNameError\u001b[0m: name 'loss_history' is not defined"
     ]
    }
   ],
   "source": [
    "import matplotlib.pyplot as plt\n",
    "plt.plot(loss_history)\n",
    "plt.xlabel('Batch #')\n",
    "plt.ylabel('Loss [entropy]')\n",
    "plt.show()\n",
    "#Text(0, 0.5, 'Loss [entropy]')"
   ]
  },
  {
   "cell_type": "code",
   "execution_count": 11,
   "metadata": {},
   "outputs": [],
   "source": [
    "def loss(model, inputs, targets):\n",
    "    error = model(inputs) - targets\n",
    "    return tf.resuce_mean(tf.square(error))"
   ]
  },
  {
   "cell_type": "code",
   "execution_count": 12,
   "metadata": {
    "scrolled": true
   },
   "outputs": [
    {
     "name": "stdout",
     "output_type": "stream",
     "text": [
      "Loss at step 000: 2.294, Accu : 0.125\n",
      "Loss at step 020: 2.213, Accu : 0.344\n",
      "Loss at step 040: 2.013, Accu : 0.438\n",
      "Loss at step 060: 2.191, Accu : 0.281\n",
      "Loss at step 080: 2.033, Accu : 0.312\n",
      "Loss at step 100: 1.987, Accu : 0.438\n",
      "Loss at step 120: 2.052, Accu : 0.250\n",
      "Loss at step 140: 1.723, Accu : 0.500\n",
      "Loss at step 160: 1.898, Accu : 0.312\n",
      "Loss at step 180: 1.984, Accu : 0.281\n",
      "Loss at step 200: 1.810, Accu : 0.375\n",
      "Loss at step 220: 1.704, Accu : 0.562\n",
      "Loss at step 240: 1.746, Accu : 0.312\n",
      "Loss at step 260: 1.664, Accu : 0.438\n",
      "Loss at step 280: 1.551, Accu : 0.500\n",
      "Loss at step 300: 1.819, Accu : 0.375\n",
      "Loss at step 320: 1.517, Accu : 0.469\n",
      "Loss at step 340: 1.709, Accu : 0.406\n",
      "Loss at step 360: 1.527, Accu : 0.438\n",
      "Loss at step 380: 1.860, Accu : 0.438\n",
      "Loss at step 400: 1.493, Accu : 0.500\n",
      "Loss at step 420: 1.433, Accu : 0.594\n",
      "Loss at step 440: 1.546, Accu : 0.688\n",
      "Loss at step 460: 1.397, Accu : 0.594\n",
      "Loss at step 480: 1.338, Accu : 0.719\n",
      "Loss at step 500: 1.521, Accu : 0.656\n",
      "Loss at step 520: 1.182, Accu : 0.781\n",
      "Loss at step 540: 1.392, Accu : 0.625\n",
      "Loss at step 560: 1.409, Accu : 0.625\n",
      "Loss at step 580: 1.378, Accu : 0.688\n",
      "Loss at step 600: 1.172, Accu : 0.719\n",
      "Loss at step 620: 1.465, Accu : 0.469\n",
      "Loss at step 640: 1.286, Accu : 0.656\n",
      "Loss at step 660: 1.036, Accu : 0.844\n",
      "Loss at step 680: 1.345, Accu : 0.625\n",
      "Loss at step 700: 1.307, Accu : 0.719\n",
      "Loss at step 720: 1.361, Accu : 0.531\n",
      "Loss at step 740: 1.217, Accu : 0.625\n",
      "Loss at step 760: 1.380, Accu : 0.625\n",
      "Loss at step 780: 1.256, Accu : 0.688\n",
      "Loss at step 800: 1.150, Accu : 0.656\n",
      "Loss at step 820: 1.162, Accu : 0.781\n",
      "Loss at step 840: 0.887, Accu : 0.875\n",
      "Loss at step 860: 1.207, Accu : 0.625\n",
      "Loss at step 880: 1.141, Accu : 0.656\n",
      "Loss at step 900: 1.104, Accu : 0.719\n",
      "Loss at step 920: 1.015, Accu : 0.875\n",
      "Loss at step 940: 1.173, Accu : 0.688\n",
      "Loss at step 960: 0.890, Accu : 0.812\n",
      "Loss at step 980: 1.195, Accu : 0.688\n",
      "Loss at step 1000: 1.160, Accu : 0.656\n",
      "Loss at step 1020: 0.845, Accu : 0.875\n",
      "Loss at step 1040: 1.058, Accu : 0.781\n",
      "Loss at step 1060: 0.849, Accu : 0.812\n",
      "Loss at step 1080: 0.968, Accu : 0.812\n",
      "Loss at step 1100: 0.959, Accu : 0.844\n",
      "Loss at step 1120: 1.101, Accu : 0.750\n",
      "Loss at step 1140: 1.091, Accu : 0.656\n",
      "Loss at step 1160: 0.963, Accu : 0.781\n",
      "Loss at step 1180: 0.739, Accu : 0.906\n",
      "Loss at step 1200: 0.766, Accu : 0.906\n",
      "Loss at step 1220: 0.874, Accu : 0.781\n",
      "Loss at step 1240: 0.771, Accu : 0.906\n",
      "Loss at step 1260: 0.912, Accu : 0.812\n",
      "Loss at step 1280: 0.779, Accu : 0.781\n",
      "Loss at step 1300: 1.076, Accu : 0.688\n",
      "Loss at step 1320: 0.668, Accu : 0.938\n",
      "Loss at step 1340: 0.839, Accu : 0.875\n",
      "Loss at step 1360: 0.765, Accu : 0.906\n",
      "Loss at step 1380: 0.851, Accu : 0.781\n",
      "Loss at step 1400: 0.783, Accu : 0.844\n",
      "Loss at step 1420: 0.890, Accu : 0.781\n",
      "Loss at step 1440: 0.770, Accu : 0.750\n",
      "Loss at step 1460: 0.657, Accu : 0.875\n",
      "Loss at step 1480: 0.696, Accu : 0.844\n",
      "Loss at step 1500: 0.879, Accu : 0.719\n",
      "Loss at step 1520: 0.937, Accu : 0.625\n",
      "Loss at step 1540: 0.742, Accu : 0.844\n",
      "Loss at step 1560: 0.722, Accu : 0.844\n",
      "Loss at step 1580: 0.572, Accu : 0.906\n",
      "Loss at step 1600: 0.754, Accu : 0.812\n",
      "Loss at step 1620: 0.572, Accu : 0.906\n",
      "Loss at step 1640: 0.706, Accu : 0.812\n",
      "Loss at step 1660: 0.530, Accu : 0.906\n",
      "Loss at step 1680: 0.620, Accu : 0.906\n",
      "Loss at step 1700: 0.636, Accu : 0.906\n",
      "Loss at step 1720: 0.611, Accu : 0.844\n",
      "Loss at step 1740: 0.464, Accu : 0.906\n",
      "Loss at step 1760: 0.557, Accu : 0.906\n",
      "Loss at step 1780: 0.481, Accu : 0.906\n",
      "Loss at step 1800: 0.619, Accu : 0.844\n",
      "Loss at step 1820: 0.455, Accu : 0.938\n",
      "Loss at step 1840: 0.505, Accu : 0.906\n",
      "Loss at step 1860: 0.836, Accu : 0.719\n",
      "Loss at step 000: 0.568, Accu : 0.844\n",
      "Loss at step 020: 0.636, Accu : 0.875\n",
      "Loss at step 040: 0.511, Accu : 0.906\n",
      "Loss at step 060: 0.574, Accu : 0.844\n",
      "Loss at step 080: 0.640, Accu : 0.812\n",
      "Loss at step 100: 0.576, Accu : 0.875\n",
      "Loss at step 120: 0.727, Accu : 0.781\n",
      "Loss at step 140: 0.753, Accu : 0.812\n",
      "Loss at step 160: 0.517, Accu : 0.844\n",
      "Loss at step 180: 0.579, Accu : 0.875\n",
      "Loss at step 200: 0.496, Accu : 0.875\n",
      "Loss at step 220: 0.577, Accu : 0.875\n",
      "Loss at step 240: 0.574, Accu : 0.875\n",
      "Loss at step 260: 0.558, Accu : 0.875\n",
      "Loss at step 280: 0.513, Accu : 0.875\n",
      "Loss at step 300: 0.522, Accu : 0.844\n",
      "Loss at step 320: 0.486, Accu : 0.875\n",
      "Loss at step 340: 0.695, Accu : 0.750\n",
      "Loss at step 360: 0.538, Accu : 0.781\n",
      "Loss at step 380: 0.525, Accu : 0.812\n",
      "Loss at step 400: 0.398, Accu : 0.938\n",
      "Loss at step 420: 0.633, Accu : 0.844\n",
      "Loss at step 440: 0.610, Accu : 0.812\n",
      "Loss at step 460: 0.417, Accu : 0.938\n",
      "Loss at step 480: 0.532, Accu : 0.844\n",
      "Loss at step 500: 0.605, Accu : 0.812\n",
      "Loss at step 520: 0.427, Accu : 0.938\n",
      "Loss at step 540: 0.471, Accu : 0.875\n",
      "Loss at step 560: 0.509, Accu : 0.844\n",
      "Loss at step 580: 0.373, Accu : 0.906\n",
      "Loss at step 600: 0.593, Accu : 0.750\n",
      "Loss at step 620: 0.507, Accu : 0.844\n",
      "Loss at step 640: 0.517, Accu : 0.875\n",
      "Loss at step 660: 0.585, Accu : 0.875\n",
      "Loss at step 680: 0.475, Accu : 0.906\n",
      "Loss at step 700: 0.388, Accu : 0.938\n",
      "Loss at step 720: 0.365, Accu : 0.906\n",
      "Loss at step 740: 0.422, Accu : 0.906\n",
      "Loss at step 760: 0.375, Accu : 0.938\n",
      "Loss at step 780: 0.401, Accu : 0.906\n",
      "Loss at step 800: 0.794, Accu : 0.781\n",
      "Loss at step 820: 0.460, Accu : 0.938\n",
      "Loss at step 840: 0.389, Accu : 1.000\n",
      "Loss at step 860: 0.535, Accu : 0.781\n",
      "Loss at step 880: 0.313, Accu : 1.000\n",
      "Loss at step 900: 0.263, Accu : 0.969\n",
      "Loss at step 920: 0.488, Accu : 0.875\n",
      "Loss at step 940: 0.233, Accu : 1.000\n",
      "Loss at step 960: 0.378, Accu : 0.938\n",
      "Loss at step 980: 0.597, Accu : 0.781\n",
      "Loss at step 1000: 0.339, Accu : 0.875\n",
      "Loss at step 1020: 0.300, Accu : 0.938\n",
      "Loss at step 1040: 0.406, Accu : 0.906\n",
      "Loss at step 1060: 0.268, Accu : 0.969\n",
      "Loss at step 1080: 0.344, Accu : 0.906\n",
      "Loss at step 1100: 0.470, Accu : 0.906\n",
      "Loss at step 1120: 0.288, Accu : 0.906\n",
      "Loss at step 1140: 0.407, Accu : 0.875\n",
      "Loss at step 1160: 0.373, Accu : 0.906\n",
      "Loss at step 1180: 0.270, Accu : 0.906\n",
      "Loss at step 1200: 0.271, Accu : 0.969\n",
      "Loss at step 1220: 0.468, Accu : 0.844\n",
      "Loss at step 1240: 0.322, Accu : 0.906\n",
      "Loss at step 1260: 0.367, Accu : 0.938\n",
      "Loss at step 1280: 0.282, Accu : 0.969\n",
      "Loss at step 1300: 0.389, Accu : 0.906\n",
      "Loss at step 1320: 0.323, Accu : 0.906\n",
      "Loss at step 1340: 0.344, Accu : 0.875\n",
      "Loss at step 1360: 0.265, Accu : 0.969\n",
      "Loss at step 1380: 0.507, Accu : 0.844\n",
      "Loss at step 1400: 0.240, Accu : 0.938\n",
      "Loss at step 1420: 0.449, Accu : 0.844\n",
      "Loss at step 1440: 0.707, Accu : 0.812\n",
      "Loss at step 1460: 0.380, Accu : 0.875\n",
      "Loss at step 1480: 0.335, Accu : 0.969\n",
      "Loss at step 1500: 0.357, Accu : 0.906\n",
      "Loss at step 1520: 0.386, Accu : 0.938\n",
      "Loss at step 1540: 0.308, Accu : 0.906\n",
      "Loss at step 1560: 0.272, Accu : 0.938\n",
      "Loss at step 1580: 0.546, Accu : 0.812\n",
      "Loss at step 1600: 0.301, Accu : 0.938\n",
      "Loss at step 1620: 0.337, Accu : 0.906\n",
      "Loss at step 1640: 0.412, Accu : 0.938\n",
      "Loss at step 1660: 0.375, Accu : 0.906\n",
      "Loss at step 1680: 0.166, Accu : 0.969\n",
      "Loss at step 1700: 0.126, Accu : 0.969\n",
      "Loss at step 1720: 0.346, Accu : 0.906\n",
      "Loss at step 1740: 0.399, Accu : 0.875\n",
      "Loss at step 1760: 0.247, Accu : 0.906\n",
      "Loss at step 1780: 0.407, Accu : 0.938\n",
      "Loss at step 1800: 0.311, Accu : 0.938\n",
      "Loss at step 1820: 0.289, Accu : 0.938\n",
      "Loss at step 1840: 0.257, Accu : 0.969\n",
      "Loss at step 1860: 0.271, Accu : 0.906\n"
     ]
    }
   ],
   "source": [
    "epoch=2\n",
    "loss_history = []\n",
    "acc_history = []\n",
    "for _ in range(epoch):\n",
    "    for ( batch, (images, labels)) in enumerate(dataset.take(6000)):\n",
    "        accuracy = tfe.metrics.Accuracy('accuracy', dtype=tf.float32)\n",
    "        with tf.GradientTape() as tape:\n",
    "            logits = model(images, training=True)\n",
    "            loss_value = tf.losses.sparse_softmax_cross_entropy(labels, logits)\n",
    "            accuracy(tf.argmax(logits, axis=1, output_type=tf.int64),\n",
    "                    tf.cast(labels, tf.int64))\n",
    "\n",
    "        loss_history.append(loss_value.numpy())\n",
    "        acc_history.append(accuracy.result())\n",
    "        grads = tape.gradient(loss_value, model.variables)\n",
    "        optimizer.apply_gradients(zip(grads, model.variables), \n",
    "                                 global_step=tf.train.get_or_create_global_step())\n",
    "        if batch % 20== 0 :\n",
    "            print(\"Loss at step {:03d}: {:.3f}, Accu : {:.3f}\".format(batch, loss_value, accuracy.result()))\n",
    "        "
   ]
  },
  {
   "cell_type": "code",
   "execution_count": 13,
   "metadata": {},
   "outputs": [
    {
     "data": {
      "image/png": "[encoded data removed]",
      "text/plain": [
       "<Figure size 432x288 with 1 Axes>"
      ]
     },
     "metadata": {},
     "output_type": "display_data"
    }
   ],
   "source": [
    "import matplotlib.pyplot as plt\n",
    "plt.plot(loss_history)\n",
    "plt.plot(acc_history)\n",
    "plt.xlabel('Batch #')\n",
    "plt.ylabel('Loss [entropy]')\n",
    "plt.show()"
   ]
  },
  {
   "cell_type": "code",
   "execution_count": null,
   "metadata": {
    "collapsed": true
   },
   "outputs": [],
   "source": []
  }
 ],
 "metadata": {
  "kernelspec": {
   "display_name": "Python 3",
   "language": "python",
   "name": "python3"
  },
  "language_info": {
   "codemirror_mode": {
    "name": "ipython",
    "version": 3
   },
   "file_extension": ".py",
   "mimetype": "text/x-python",
   "name": "python",
   "nbconvert_exporter": "python",
   "pygments_lexer": "ipython3",
   "version": "3.5.4"
  }
 },
 "nbformat": 4,
 "nbformat_minor": 2
}
