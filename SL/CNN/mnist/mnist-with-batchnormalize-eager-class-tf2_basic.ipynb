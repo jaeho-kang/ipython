{
 "cells": [
  {
   "cell_type": "markdown",
   "metadata": {},
   "source": [
    "#  set autocomplete"
   ]
  },
  {
   "cell_type": "code",
   "execution_count": 1,
   "metadata": {},
   "outputs": [],
   "source": [
    "# %config IPCompleter.greedy=True"
   ]
  },
  {
   "cell_type": "markdown",
   "metadata": {},
   "source": [
    "# Eager Mode Mnist"
   ]
  },
  {
   "cell_type": "code",
   "execution_count": 2,
   "metadata": {},
   "outputs": [
    {
     "name": "stdout",
     "output_type": "stream",
     "text": [
      "2.0.0-alpha0\n"
     ]
    }
   ],
   "source": [
    "from __future__ import absolute_import, division, print_function\n",
    "import tensorflow as tf\n",
    "import tensorflow.data as tfds \n",
    "from tensorflow.keras import Model\n",
    "from tensorflow.keras.layers import Conv2D \n",
    "from tensorflow.keras.layers import BatchNormalization, Flatten, Dense\n",
    "import numpy as np\n",
    "# tf.enable_eager_execution()\n",
    "print(tf.__version__)"
   ]
  },
  {
   "cell_type": "markdown",
   "metadata": {},
   "source": [
    "mnist image : 28,28 "
   ]
  },
  {
   "cell_type": "code",
   "execution_count": 3,
   "metadata": {},
   "outputs": [],
   "source": [
    "mnist = tf.keras.datasets.mnist"
   ]
  },
  {
   "cell_type": "markdown",
   "metadata": {},
   "source": [
    "# Load Data <br>\n",
    "데이터를 로딩함."
   ]
  },
  {
   "cell_type": "code",
   "execution_count": 4,
   "metadata": {},
   "outputs": [],
   "source": [
    "# Fetch and format the mnist data\n",
    "(mnist_images, mnist_labels), _ = tf.keras.datasets.mnist.load_data()\n",
    "\n",
    "dataset = tfds.Dataset.from_tensor_slices(\n",
    "  (tf.cast(mnist_images[...,tf.newaxis]/255.0, tf.float32),\n",
    "   tf.cast(mnist_labels,tf.int64)))\n",
    "dataset = dataset.shuffle(1000).batch(32)"
   ]
  },
  {
   "cell_type": "markdown",
   "metadata": {},
   "source": [
    "# Create Model<br>\n",
    "mnist 분류기 모델을 정의 <br>\n",
    "conv2d<br>\n",
    "activation relu <br>\n",
    "batch normalize <br>\n",
    "conv2d<br>\n",
    "activation relu<br>\n",
    "batch normalize<br>\n",
    "flatten<br>\n",
    "dense(10)<br>"
   ]
  },
  {
   "cell_type": "code",
   "execution_count": 5,
   "metadata": {},
   "outputs": [],
   "source": [
    "class Mnist_with_BN(tf.keras.Model):\n",
    "    def __init__(self):\n",
    "        super(Mnist_with_BN, self).__init__()\n",
    "        self.conv1 = Conv2D(16,[3,3], activation='relu')\n",
    "        self.bn1 = BatchNormalization()\n",
    "        self.conv2 = Conv2D(16,[3,3], activation='relu')\n",
    "        self.bn2 = BatchNormalization()\n",
    "        self.conv3 = Conv2D(16,[3,3], activation='relu')\n",
    "        self.bn3 = BatchNormalization()\n",
    "        self.flat = Flatten()\n",
    "        self.dense =  Dense(10, activation=\"softmax\")\n",
    "    \n",
    "    @tf.function\n",
    "    def call(self, x):\n",
    "        x = self.conv1(x)\n",
    "        x = self.bn1(x)\n",
    "        x = self.conv2(x)\n",
    "        x = self.bn2(x)\n",
    "        x = self.conv3(x)\n",
    "        x = self.bn3(x)\n",
    "        x = self.flat(x)\n",
    "        x = self.dense(x)\n",
    "        return x\n",
    "    \n",
    "model = Mnist_with_BN()"
   ]
  },
  {
   "cell_type": "markdown",
   "metadata": {},
   "source": [
    "이미지 차원 및 결과물 차원 확인"
   ]
  },
  {
   "cell_type": "code",
   "execution_count": 6,
   "metadata": {
    "scrolled": true
   },
   "outputs": [
    {
     "name": "stdout",
     "output_type": "stream",
     "text": [
      "(1, 28, 28, 1)\n",
      "Logis (1, 10)\n"
     ]
    }
   ],
   "source": [
    "for images, labels in dataset.take(1):\n",
    "    print(images[0:1].shape)\n",
    "    print(\"Logis\", model(images[0:1]).shape)"
   ]
  },
  {
   "cell_type": "markdown",
   "metadata": {},
   "source": [
    "# Define Optimizer"
   ]
  },
  {
   "cell_type": "markdown",
   "metadata": {},
   "source": [
    "AdamOptimizer를 사용함"
   ]
  },
  {
   "cell_type": "code",
   "execution_count": 7,
   "metadata": {},
   "outputs": [],
   "source": [
    "optimizer = tf.keras.optimizers.Adam()\n",
    "loss_object = tf.keras.losses.SparseCategoricalCrossentropy()\n",
    "\n",
    "train_loss = tf.keras.metrics.Mean(name='train_loss')\n",
    "train_accuracy = tf.keras.metrics.SparseCategoricalAccuracy(name='train_accuracy')\n",
    "\n",
    "test_loss = tf.keras.metrics.Mean(name='test_loss')\n",
    "test_accuracy = tf.keras.metrics.SparseCategoricalAccuracy(name='test_accuracy')"
   ]
  },
  {
   "cell_type": "markdown",
   "metadata": {},
   "source": [
    "# Train"
   ]
  },
  {
   "cell_type": "code",
   "execution_count": 8,
   "metadata": {},
   "outputs": [],
   "source": [
    "@tf.function\n",
    "def train_step(model, image, label):\n",
    "    with tf.device(tf.test.gpu_device_name()) :\n",
    "        with tf.GradientTape() as tape:\n",
    "            predictions = model(image)\n",
    "            loss = loss_object(label, predictions)\n",
    "        gradients = tape.gradient(loss, model.trainable_variables)\n",
    "        optimizer.apply_gradients(zip(gradients, model.trainable_variables))\n",
    "\n",
    "        train_loss(loss)\n",
    "        train_accuracy(label, predictions)\n",
    "  #print(f\"loss : {loss.result()}, acc : {train_accuracy.result()*100}\")\n",
    "    "
   ]
  },
  {
   "cell_type": "code",
   "execution_count": 9,
   "metadata": {},
   "outputs": [],
   "source": [
    "#device = '/cpu:0' if tf.num_gpus() == 0 else '/gpu:0'\n",
    "#print('using device %s' %device)\n",
    "\n",
    "def train(epochs=100):\n",
    "    loss_history = []\n",
    "    acc_history = []\n",
    "\n",
    "    for epoch in range(epochs):\n",
    "        for images, labels in dataset:\n",
    "            train_step(model, images, labels)\n",
    "        print(f\"epoch:{epoch:2}, loss:{train_loss.result():3.4}, acc:{train_accuracy.result()*100:3.6}\")    \n",
    "\n",
    "    print (\"complete\")"
   ]
  },
  {
   "cell_type": "code",
   "execution_count": 10,
   "metadata": {},
   "outputs": [
    {
     "name": "stdout",
     "output_type": "stream",
     "text": [
      "epoch: 0, loss:0.133, acc:96.0633\n",
      "epoch: 1, loss:0.08993, acc:97.3242\n",
      "epoch: 2, loss:0.0704, acc:97.9078\n",
      "epoch: 3, loss:0.05839, acc:98.2608\n",
      "epoch: 4, loss:0.05035, acc:98.4937\n",
      "epoch: 5, loss:0.04433, acc:98.6617\n",
      "epoch: 6, loss:0.03977, acc:98.7957\n",
      "epoch: 7, loss:0.03609, acc:98.9035\n",
      "epoch: 8, loss:0.03314, acc:98.9909\n",
      "epoch: 9, loss:0.03068, acc:99.0638\n",
      "complete\n",
      "58.9817681312561\n"
     ]
    }
   ],
   "source": [
    "import time\n",
    "start = time.time()\n",
    "train(10)\n",
    "end = time.time()\n",
    "print(end - start)"
   ]
  },
  {
   "cell_type": "code",
   "execution_count": null,
   "metadata": {},
   "outputs": [],
   "source": []
  },
  {
   "cell_type": "code",
   "execution_count": null,
   "metadata": {},
   "outputs": [],
   "source": []
  },
  {
   "cell_type": "code",
   "execution_count": null,
   "metadata": {},
   "outputs": [],
   "source": []
  }
 ],
 "metadata": {
  "kernelspec": {
   "display_name": "tf2_basic",
   "language": "python",
   "name": "tf_basic"
  },
  "language_info": {
   "codemirror_mode": {
    "name": "ipython",
    "version": 3
   },
   "file_extension": ".py",
   "mimetype": "text/x-python",
   "name": "python",
   "nbconvert_exporter": "python",
   "pygments_lexer": "ipython3",
   "version": "3.6.7"
  },
  "latex_envs": {
   "LaTeX_envs_menu_present": true,
   "autoclose": false,
   "autocomplete": true,
   "bibliofile": "biblio.bib",
   "cite_by": "apalike",
   "current_citInitial": 1,
   "eqLabelWithNumbers": true,
   "eqNumInitial": 1,
   "hotkeys": {
    "equation": "Ctrl-E",
    "itemize": "Ctrl-I"
   },
   "labels_anchors": false,
   "latex_user_defs": false,
   "report_style_numbering": false,
   "user_envs_cfg": false
  }
 },
 "nbformat": 4,
 "nbformat_minor": 2
}
