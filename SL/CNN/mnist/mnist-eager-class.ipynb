{
 "cells": [
  {
   "cell_type": "markdown",
   "metadata": {
    "pycharm": {}
   },
   "source": [
    "#  set autocomplete"
   ]
  },
  {
   "cell_type": "code",
   "execution_count": 1,
<<<<<<< HEAD
   "metadata": {
    "pycharm": {
     "is_executing": false
    }
   },
=======
   "metadata": {},
>>>>>>> master
   "outputs": [],
   "source": [
    "%config IPCompleter.greedy=True"
   ]
  },
  {
   "cell_type": "markdown",
   "metadata": {
    "pycharm": {}
   },
   "source": [
    "# Eager Mode Mnist"
   ]
  },
  {
   "cell_type": "code",
<<<<<<< HEAD
   "execution_count": 18,
   "metadata": {
    "pycharm": {
     "is_executing": false
    }
   },
=======
   "execution_count": 13,
   "metadata": {},
>>>>>>> master
   "outputs": [],
   "source": [
    "from __future__ import absolute_import, division, print_function\n",
    "import tensorflow as tf\n",
<<<<<<< HEAD
    "from tensorflow.keras import Model \n",
    "from tensorflow.keras.layers import Conv2D, Flatten, Dense\n",
    "import numpy as np"
=======
    "import tensorflow.contrib.eager as tfe\n",
    "tf.enable_eager_execution()\n",
    "import numpy as np\n",
    "%matplotlib inline"
>>>>>>> master
   ]
  },
  {
   "cell_type": "code",
   "execution_count": 20,
   "metadata": {},
   "outputs": [
    {
     "name": "stdout",
     "output_type": "stream",
     "text": [
      "True\n"
     ]
    }
   ],
   "source": [
    "print(tf.__version__=='2.0.0-alpha0')"
   ]
  },
  {
   "cell_type": "markdown",
   "metadata": {
    "pycharm": {}
   },
   "source": [
    "mnist image : 28,28 "
   ]
  },
  {
   "cell_type": "code",
<<<<<<< HEAD
   "execution_count": 3,
   "metadata": {
    "pycharm": {
     "is_executing": false
    }
   },
=======
   "execution_count": 14,
   "metadata": {},
>>>>>>> master
   "outputs": [],
   "source": [
    "mnist = tf.keras.datasets.mnist"
   ]
  },
  {
   "cell_type": "markdown",
   "metadata": {
    "pycharm": {}
   },
   "source": [
    "# Create Model"
   ]
  },
  {
   "cell_type": "code",
<<<<<<< HEAD
   "execution_count": 4,
   "metadata": {
    "pycharm": {
     "is_executing": false
    }
   },
=======
   "execution_count": 15,
   "metadata": {},
>>>>>>> master
   "outputs": [],
   "source": [
    "from tensorflow.keras import layers\n",
    "\n",
    "class Mnist(tf.keras.Sequential):\n",
    "    def __init__(self):\n",
    "        super(Mnist, self).__init__()\n",
    "        self.conv1 = Conv2D(16,[3,3], activation='relu')\n",
    "        self.conv2 = Conv2D(16,[3,3], activation='relu')\n",
    "        self.conv3 = Conv2D(16,[3,3], activation='relu')\n",
    "        self.flat  = Flatten()\n",
    "        self.dense = Dense(10, activation='softmax')\n",
    "    \n",
    "    def __call__(self, x):\n",
    "        x = self.conv1(x)\n",
    "        x = self.conv2(x)\n",
    "        x = self.conv3(x)\n",
    "        x = self.flat(x)\n",
    "        x = self.dense(x)\n",
    "        return x\n",
    "\n",
    "# model = Mnist()\n",
    "# print(model)\n",
    "# random_state = 42\n",
    "# test1 = tf.cast(tf.random.normal([1,28,28,1]), tf.float32)\n",
    "# test2 = tf.cast(tf.random.normal([1,28,28,1]), tf.float64)\n",
    "# print(model(test1))\n",
    "# print(model(test2))"
   ]
  },
  {
<<<<<<< HEAD
   "cell_type": "markdown",
   "metadata": {
    "pycharm": {}
   },
=======
   "cell_type": "code",
   "execution_count": 16,
   "metadata": {},
   "outputs": [
    {
     "name": "stdout",
     "output_type": "stream",
     "text": [
      "<__main__.Mnist object at 0x7f709c102518>\n",
      "(1, 10)\n"
     ]
    }
   ],
   "source": [
    "model = Mnist()\n",
    "print(model)\n",
    "x = tf.random_normal([1,28,28,1])\n",
    "print(model(x).shape)"
   ]
  },
  {
   "cell_type": "markdown",
   "metadata": {},
>>>>>>> master
   "source": [
    "# Load Data "
   ]
  },
  {
   "cell_type": "code",
<<<<<<< HEAD
   "execution_count": 12,
   "metadata": {
    "pycharm": {
     "is_executing": false
    }
   },
   "outputs": [
    {
     "name": "stdout",
     "output_type": "stream",
     "text": [
      "trainset size : <BatchDataset shapes: ((None, 28, 28, 1), (None,)), types: (tf.float64, tf.uint8)>\n",
      "testset  size : <BatchDataset shapes: ((None, 28, 28, 1), (None,)), types: (tf.float64, tf.uint8)>\n"
     ]
    }
   ],
=======
   "execution_count": 17,
   "metadata": {},
   "outputs": [],
>>>>>>> master
   "source": [
    "# Fetch and format the mnist data\n",
    "(x_train, y_train), (x_test, y_test) = tf.keras.datasets.mnist.load_data()\n",
    "\n",
    "# Add a channels dimension\n",
    "x_train = x_train[..., tf.newaxis]\n",
    "x_test = x_test[..., tf.newaxis]\n",
    "x_train = x_train / 255.0\n",
    "x_test = x_test / 255.0\n",
    "\n",
    "train_dataset = tf.data.Dataset.from_tensor_slices(\n",
    "    (x_train, y_train)).shuffle(10000).batch(32)\n",
    "test_dataset = tf.data.Dataset.from_tensor_slices((x_test, y_test)).batch(32)\n",
    "\n",
    "print(f\"trainset size : {train_dataset}\")\n",
    "print(f\"testset  size : {test_dataset}\")\n",
    "# dataset = dataset.shuffle(1000).batch(32)"
   ]
  },
  {
   "cell_type": "code",
<<<<<<< HEAD
   "execution_count": 13,
   "metadata": {
    "pycharm": {
     "is_executing": false
    }
=======
   "execution_count": 18,
   "metadata": {
    "scrolled": true
>>>>>>> master
   },
   "outputs": [
    {
     "name": "stdout",
     "output_type": "stream",
     "text": [
      "(1, 28, 28, 1)\n",
      "Logis (1, 10)\n"
     ]
    }
   ],
   "source": [
    "model = Mnist()"
   ]
  },
  {
   "cell_type": "markdown",
   "metadata": {
    "pycharm": {}
   },
   "source": [
    "# Define Optimizer"
   ]
  },
  {
   "cell_type": "code",
<<<<<<< HEAD
   "execution_count": 14,
   "metadata": {
    "pycharm": {
     "is_executing": false
    }
   },
=======
   "execution_count": 19,
   "metadata": {},
>>>>>>> master
   "outputs": [],
   "source": [
    "loss_object = tf.keras.losses.SparseCategoricalCrossentropy()\n",
    "\n",
    "optimizer = tf.keras.optimizers.Adam()\n",
    "\n",
    "train_loss = tf.keras.metrics.Mean(name='train_loss')\n",
    "train_accuracy = tf.keras.metrics.SparseCategoricalAccuracy(name='train_accuracy')\n",
    "\n",
    "test_loss = tf.keras.metrics.Mean(name='test_loss')\n",
    "test_accuracy = tf.keras.metrics.SparseCategoricalAccuracy(name='test_accuracy')"
   ]
  },
  {
   "cell_type": "markdown",
<<<<<<< HEAD
   "metadata": {
    "pycharm": {}
   },
   "source": [
    "# Train"
=======
   "metadata": {},
   "source": [
    "# Train"
   ]
  },
  {
   "cell_type": "code",
   "execution_count": 20,
   "metadata": {
    "scrolled": false
   },
   "outputs": [
    {
     "name": "stdout",
     "output_type": "stream",
     "text": [
      "Loss at step 000: 2.278, Accu : 0.219\n",
      "Loss at step 020: 1.040, Accu : 0.688\n",
      "Loss at step 040: 0.534, Accu : 0.812\n",
      "Loss at step 060: 0.695, Accu : 0.906\n",
      "Loss at step 080: 0.490, Accu : 0.750\n",
      "Loss at step 100: 0.384, Accu : 0.906\n",
      "Loss at step 120: 0.113, Accu : 0.906\n",
      "Loss at step 140: 0.231, Accu : 0.969\n",
      "Loss at step 160: 0.148, Accu : 0.969\n",
      "Loss at step 180: 0.579, Accu : 0.844\n",
      "Loss at step 200: 0.398, Accu : 0.906\n",
      "Loss at step 220: 0.365, Accu : 0.906\n",
      "Loss at step 240: 0.224, Accu : 0.906\n",
      "Loss at step 260: 0.139, Accu : 0.969\n",
      "Loss at step 280: 0.290, Accu : 0.875\n",
      "Loss at step 300: 0.299, Accu : 0.875\n",
      "Loss at step 320: 0.329, Accu : 0.938\n",
      "Loss at step 340: 0.040, Accu : 1.000\n",
      "Loss at step 360: 0.075, Accu : 1.000\n",
      "Loss at step 380: 0.242, Accu : 0.938\n",
      "Loss at step 400: 0.066, Accu : 0.969\n",
      "Loss at step 420: 0.032, Accu : 1.000\n",
      "Loss at step 440: 0.111, Accu : 0.938\n",
      "Loss at step 460: 0.059, Accu : 0.969\n",
      "Loss at step 480: 0.208, Accu : 0.938\n",
      "Loss at step 500: 0.126, Accu : 0.938\n",
      "Loss at step 520: 0.123, Accu : 0.969\n",
      "Loss at step 540: 0.202, Accu : 0.969\n",
      "Loss at step 560: 0.081, Accu : 0.938\n",
      "Loss at step 580: 0.035, Accu : 1.000\n",
      "Loss at step 600: 0.038, Accu : 1.000\n",
      "Loss at step 620: 0.134, Accu : 0.938\n",
      "Loss at step 640: 0.060, Accu : 0.969\n",
      "Loss at step 660: 0.191, Accu : 0.938\n",
      "Loss at step 680: 0.036, Accu : 1.000\n",
      "Loss at step 700: 0.259, Accu : 0.938\n",
      "Loss at step 720: 0.040, Accu : 1.000\n",
      "Loss at step 740: 0.004, Accu : 1.000\n",
      "Loss at step 760: 0.101, Accu : 0.969\n",
      "Loss at step 780: 0.071, Accu : 0.969\n",
      "Loss at step 800: 0.067, Accu : 0.969\n",
      "Loss at step 820: 0.050, Accu : 0.969\n",
      "Loss at step 840: 0.347, Accu : 0.938\n",
      "Loss at step 860: 0.114, Accu : 0.938\n",
      "Loss at step 880: 0.029, Accu : 1.000\n",
      "Loss at step 900: 0.018, Accu : 1.000\n",
      "Loss at step 920: 0.015, Accu : 1.000\n",
      "Loss at step 940: 0.151, Accu : 0.938\n",
      "Loss at step 960: 0.064, Accu : 0.969\n",
      "Loss at step 980: 0.153, Accu : 0.969\n",
      "Loss at step 1000: 0.125, Accu : 0.969\n",
      "Loss at step 1020: 0.023, Accu : 1.000\n",
      "Loss at step 1040: 0.095, Accu : 0.938\n",
      "Loss at step 1060: 0.009, Accu : 1.000\n",
      "Loss at step 1080: 0.009, Accu : 1.000\n",
      "Loss at step 1100: 0.012, Accu : 1.000\n",
      "Loss at step 1120: 0.052, Accu : 0.969\n",
      "Loss at step 1140: 0.020, Accu : 1.000\n",
      "Loss at step 1160: 0.010, Accu : 1.000\n",
      "Loss at step 1180: 0.025, Accu : 1.000\n",
      "Loss at step 1200: 0.180, Accu : 0.938\n",
      "Loss at step 1220: 0.013, Accu : 1.000\n",
      "Loss at step 1240: 0.008, Accu : 1.000\n",
      "Loss at step 1260: 0.025, Accu : 1.000\n",
      "Loss at step 1280: 0.021, Accu : 1.000\n",
      "Loss at step 1300: 0.027, Accu : 1.000\n",
      "Loss at step 1320: 0.098, Accu : 0.938\n",
      "Loss at step 1340: 0.090, Accu : 0.938\n",
      "Loss at step 1360: 0.062, Accu : 1.000\n",
      "Loss at step 1380: 0.062, Accu : 0.969\n",
      "Loss at step 1400: 0.060, Accu : 0.969\n",
      "Loss at step 1420: 0.015, Accu : 1.000\n",
      "Loss at step 1440: 0.060, Accu : 0.969\n",
      "Loss at step 1460: 0.070, Accu : 0.938\n",
      "Loss at step 1480: 0.078, Accu : 0.938\n",
      "Loss at step 1500: 0.105, Accu : 0.969\n",
      "Loss at step 1520: 0.274, Accu : 0.906\n",
      "Loss at step 1540: 0.030, Accu : 1.000\n",
      "Loss at step 1560: 0.106, Accu : 0.969\n",
      "Loss at step 1580: 0.028, Accu : 0.969\n",
      "Loss at step 1600: 0.032, Accu : 0.969\n",
      "Loss at step 1620: 0.144, Accu : 0.938\n",
      "Loss at step 1640: 0.299, Accu : 0.938\n",
      "Loss at step 1660: 0.218, Accu : 0.969\n",
      "Loss at step 1680: 0.007, Accu : 1.000\n",
      "Loss at step 1700: 0.047, Accu : 0.969\n",
      "Loss at step 1720: 0.061, Accu : 0.969\n",
      "Loss at step 1740: 0.042, Accu : 0.969\n",
      "Loss at step 1760: 0.082, Accu : 0.969\n",
      "Loss at step 1780: 0.029, Accu : 1.000\n",
      "Loss at step 1800: 0.133, Accu : 0.969\n",
      "Loss at step 1820: 0.014, Accu : 1.000\n",
      "Loss at step 1840: 0.091, Accu : 0.969\n",
      "Loss at step 1860: 0.025, Accu : 0.969\n",
      "Loss at step 000: 0.225, Accu : 0.969\n",
      "Loss at step 020: 0.202, Accu : 0.938\n",
      "Loss at step 040: 0.011, Accu : 1.000\n",
      "Loss at step 060: 0.484, Accu : 0.969\n",
      "Loss at step 080: 0.013, Accu : 1.000\n",
      "Loss at step 100: 0.121, Accu : 0.938\n",
      "Loss at step 120: 0.003, Accu : 1.000\n",
      "Loss at step 140: 0.344, Accu : 0.938\n",
      "Loss at step 160: 0.051, Accu : 0.969\n",
      "Loss at step 180: 0.301, Accu : 0.969\n",
      "Loss at step 200: 0.295, Accu : 0.938\n",
      "Loss at step 220: 0.011, Accu : 1.000\n",
      "Loss at step 240: 0.081, Accu : 1.000\n",
      "Loss at step 260: 0.005, Accu : 1.000\n",
      "Loss at step 280: 0.160, Accu : 0.938\n",
      "Loss at step 300: 0.050, Accu : 1.000\n",
      "Loss at step 320: 0.040, Accu : 0.969\n",
      "Loss at step 340: 0.122, Accu : 0.969\n",
      "Loss at step 360: 0.006, Accu : 1.000\n",
      "Loss at step 380: 0.013, Accu : 1.000\n",
      "Loss at step 400: 0.009, Accu : 1.000\n",
      "Loss at step 420: 0.002, Accu : 1.000\n",
      "Loss at step 440: 0.012, Accu : 1.000\n",
      "Loss at step 460: 0.018, Accu : 1.000\n",
      "Loss at step 480: 0.077, Accu : 0.938\n",
      "Loss at step 500: 0.042, Accu : 0.969\n",
      "Loss at step 520: 0.025, Accu : 1.000\n",
      "Loss at step 540: 0.191, Accu : 0.969\n",
      "Loss at step 560: 0.021, Accu : 1.000\n",
      "Loss at step 580: 0.041, Accu : 0.969\n",
      "Loss at step 600: 0.062, Accu : 0.969\n",
      "Loss at step 620: 0.067, Accu : 0.969\n",
      "Loss at step 640: 0.033, Accu : 1.000\n",
      "Loss at step 660: 0.074, Accu : 0.969\n",
      "Loss at step 680: 0.010, Accu : 1.000\n",
      "Loss at step 700: 0.037, Accu : 1.000\n",
      "Loss at step 720: 0.022, Accu : 1.000\n",
      "Loss at step 740: 0.001, Accu : 1.000\n",
      "Loss at step 760: 0.059, Accu : 0.969\n",
      "Loss at step 780: 0.033, Accu : 0.969\n",
      "Loss at step 800: 0.036, Accu : 0.969\n",
      "Loss at step 820: 0.010, Accu : 1.000\n",
      "Loss at step 840: 0.117, Accu : 0.969\n",
      "Loss at step 860: 0.115, Accu : 0.969\n",
      "Loss at step 880: 0.014, Accu : 1.000\n",
      "Loss at step 900: 0.005, Accu : 1.000\n",
      "Loss at step 920: 0.014, Accu : 1.000\n",
      "Loss at step 940: 0.030, Accu : 1.000\n",
      "Loss at step 960: 0.013, Accu : 1.000\n",
      "Loss at step 980: 0.104, Accu : 0.969\n",
      "Loss at step 1000: 0.148, Accu : 0.969\n",
      "Loss at step 1020: 0.003, Accu : 1.000\n",
      "Loss at step 1040: 0.075, Accu : 0.969\n",
      "Loss at step 1060: 0.006, Accu : 1.000\n",
      "Loss at step 1080: 0.003, Accu : 1.000\n",
      "Loss at step 1100: 0.003, Accu : 1.000\n",
      "Loss at step 1120: 0.034, Accu : 0.969\n",
      "Loss at step 1140: 0.012, Accu : 1.000\n",
      "Loss at step 1160: 0.002, Accu : 1.000\n",
      "Loss at step 1180: 0.005, Accu : 1.000\n",
      "Loss at step 1200: 0.063, Accu : 0.969\n",
      "Loss at step 1220: 0.013, Accu : 1.000\n",
      "Loss at step 1240: 0.003, Accu : 1.000\n",
      "Loss at step 1260: 0.005, Accu : 1.000\n",
      "Loss at step 1280: 0.011, Accu : 1.000\n",
      "Loss at step 1300: 0.019, Accu : 1.000\n",
      "Loss at step 1320: 0.037, Accu : 0.969\n",
      "Loss at step 1340: 0.029, Accu : 1.000\n",
      "Loss at step 1360: 0.073, Accu : 0.969\n",
      "Loss at step 1380: 0.059, Accu : 0.969\n",
      "Loss at step 1400: 0.005, Accu : 1.000\n",
      "Loss at step 1420: 0.014, Accu : 1.000\n",
      "Loss at step 1440: 0.040, Accu : 1.000\n",
      "Loss at step 1460: 0.026, Accu : 1.000\n",
      "Loss at step 1480: 0.019, Accu : 1.000\n",
      "Loss at step 1500: 0.035, Accu : 1.000\n",
      "Loss at step 1520: 0.096, Accu : 0.969\n",
      "Loss at step 1540: 0.017, Accu : 1.000\n",
      "Loss at step 1560: 0.026, Accu : 1.000\n",
      "Loss at step 1580: 0.008, Accu : 1.000\n",
      "Loss at step 1600: 0.012, Accu : 1.000\n",
      "Loss at step 1620: 0.067, Accu : 0.969\n",
      "Loss at step 1640: 0.247, Accu : 0.938\n",
      "Loss at step 1660: 0.210, Accu : 0.969\n",
      "Loss at step 1680: 0.005, Accu : 1.000\n",
      "Loss at step 1700: 0.004, Accu : 1.000\n",
      "Loss at step 1720: 0.020, Accu : 1.000\n",
      "Loss at step 1740: 0.049, Accu : 0.969\n",
      "Loss at step 1760: 0.023, Accu : 1.000\n",
      "Loss at step 1780: 0.020, Accu : 1.000\n",
      "Loss at step 1800: 0.089, Accu : 0.969\n",
      "Loss at step 1820: 0.003, Accu : 1.000\n",
      "Loss at step 1840: 0.100, Accu : 0.969\n",
      "Loss at step 1860: 0.028, Accu : 0.969\n"
     ]
    }
   ],
   "source": [
    "epoch=2\n",
    "loss_history = []\n",
    "acc_history = []\n",
    "\n",
    "#print(dataset.shape)\n",
    "\n",
    "for _ in range(epoch):\n",
    "    for ( batch, (images, labels)) in enumerate(dataset.take(6000)):\n",
    "        accuracy = tfe.metrics.Accuracy('accuracy', dtype=tf.float32)\n",
    "        with tf.GradientTape() as tape:\n",
    "            logits = model(images)\n",
    "            loss_value = tf.losses.sparse_softmax_cross_entropy(labels, logits)\n",
    "            accuracy(tf.argmax(logits, axis=1, output_type=tf.int64),\n",
    "                    tf.cast(labels, tf.int64))\n",
    "\n",
    "        loss_history.append(loss_value.numpy())\n",
    "        acc_history.append(accuracy.result())\n",
    "        grads = tape.gradient(loss_value, model.variables)\n",
    "        optimizer.apply_gradients(zip(grads, model.variables), \n",
    "                                 global_step=tf.train.get_or_create_global_step())\n",
    "        if batch % 20== 0 :\n",
    "            print(\"Loss at step {:03d}: {:.3f}, Accu : {:.3f}\".format(batch, loss_value, accuracy.result()))\n",
    "        "
>>>>>>> master
   ]
  },
  {
   "cell_type": "code",
<<<<<<< HEAD
   "execution_count": 15,
   "metadata": {},
   "outputs": [],
=======
   "execution_count": 21,
   "metadata": {},
   "outputs": [
    {
     "data": {
      "image/png": "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\n",
      "text/plain": [
       "<Figure size 432x288 with 1 Axes>"
      ]
     },
     "metadata": {
      "needs_background": "light"
     },
     "output_type": "display_data"
    }
   ],
>>>>>>> master
   "source": [
    "@tf.function\n",
    "def train_step(model, image, label):\n",
    "  with tf.GradientTape() as tape:\n",
    "    predictions = model(image)\n",
    "    loss = loss_object(label, predictions)\n",
    "  gradients = tape.gradient(loss, model.trainable_variables)\n",
    "  optimizer.apply_gradients(zip(gradients, model.trainable_variables))\n",
    "\n",
    "  train_loss(loss)\n",
    "  train_accuracy(label, predictions)"
   ]
  },
  {
   "cell_type": "code",
<<<<<<< HEAD
   "execution_count": 16,
   "metadata": {
    "pycharm": {
     "is_executing": true
    },
    "scrolled": true
   },
   "outputs": [
    {
     "name": "stdout",
     "output_type": "stream",
     "text": [
      "epoch:0, loss:0.1466822624206543, acc:95.63999938964844\n",
      "epoch:1, loss:0.09928521513938904, acc:97.02083587646484\n"
     ]
=======
   "execution_count": 22,
   "metadata": {},
   "outputs": [
    {
     "data": {
      "image/png": "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\n",
      "text/plain": [
       "<Figure size 432x288 with 1 Axes>"
      ]
     },
     "metadata": {
      "needs_background": "light"
     },
     "output_type": "display_data"
>>>>>>> master
    }
   ],
   "source": [
    "epochs=2\n",
    "\n",
    "for epoch in range(epochs):\n",
    "    for image, label in train_dataset:\n",
    "        train_step(model, image, label)    \n",
    "    print(f\"epoch:{epoch}, loss:{train_loss.result()}, acc:{train_accuracy.result()*100}\")        "
   ]
  },
  {
   "cell_type": "code",
   "execution_count": null,
   "metadata": {},
   "outputs": [],
   "source": []
  }
 ],
 "metadata": {
  "kernelspec": {
<<<<<<< HEAD
   "display_name": "tf2",
   "language": "python",
   "name": "tf2"
=======
   "display_name": "tf2_basic",
   "language": "python",
   "name": "tf_basic"
>>>>>>> master
  },
  "language_info": {
   "codemirror_mode": {
    "name": "ipython",
    "version": 3
   },
   "file_extension": ".py",
   "mimetype": "text/x-python",
   "name": "python",
   "nbconvert_exporter": "python",
   "pygments_lexer": "ipython3",
   "version": "3.6.8"
  },
  "latex_envs": {
   "LaTeX_envs_menu_present": true,
   "autoclose": false,
   "autocomplete": true,
   "bibliofile": "biblio.bib",
   "cite_by": "apalike",
   "current_citInitial": 1,
   "eqLabelWithNumbers": true,
   "eqNumInitial": 1,
   "hotkeys": {
    "equation": "Ctrl-E",
    "itemize": "Ctrl-I"
   },
   "labels_anchors": false,
   "latex_user_defs": false,
   "report_style_numbering": false,
   "user_envs_cfg": false
  }
 },
 "nbformat": 4,
 "nbformat_minor": 2
}
