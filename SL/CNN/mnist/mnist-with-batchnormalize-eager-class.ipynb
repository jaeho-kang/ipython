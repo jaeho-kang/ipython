{
  "cells": [
    {
      "cell_type": "markdown",
      "metadata": {
        "pycharm": {}
      },
      "source": [
        "#  set autocomplete"
      ]
    },
    {
      "cell_type": "code",
      "execution_count": 1,
      "metadata": {
        "pycharm": {
          "is_executing": false
        }
      },
      "outputs": [],
      "source": [
        "%config IPCompleter.greedy\u003dTrue"
      ]
    },
    {
      "cell_type": "markdown",
      "metadata": {
        "pycharm": {}
      },
      "source": [
        "# Eager Mode Mnist"
      ]
    },
    {
      "cell_type": "code",
      "execution_count": 2,
      "metadata": {
        "pycharm": {
          "is_executing": false
        }
      },
      "outputs": [],
      "source": [
        "from __future__ import absolute_import, division, print_function\n",
        "import tensorflow as tf\n",
        "from tensorflow.keras import Model\n",
        "from tensorflow.keras.layers import Conv2D \n",
        "from tensorflow.keras.layers import BatchNormalization, Flatten, Dense\n",
        "import numpy as np"
      ]
    },
    {
      "cell_type": "markdown",
      "metadata": {
        "pycharm": {}
      },
      "source": [
        "mnist image : 28,28 "
      ]
    },
    {
      "cell_type": "code",
      "execution_count": 3,
      "metadata": {
        "pycharm": {
          "is_executing": false
        }
      },
      "outputs": [],
      "source": [
        "mnist \u003d tf.keras.datasets.mnist"
      ]
    },
    {
      "cell_type": "markdown",
      "metadata": {
        "pycharm": {}
      },
      "source": [
        "# Create Model\u003cbr\u003e\n",
        "mnist 분류기 모델을 정의 \u003cbr\u003e\n",
        "conv2d\u003cbr\u003e\n",
        "activation relu \u003cbr\u003e\n",
        "batch normalize \u003cbr\u003e\n",
        "conv2d\u003cbr\u003e\n",
        "activation relu\u003cbr\u003e\n",
        "batch normalize\u003cbr\u003e\n",
        "flatten\u003cbr\u003e\n",
        "dense(10)\u003cbr\u003e"
      ]
    },
    {
      "cell_type": "code",
      "execution_count": 4,
      "metadata": {
        "pycharm": {
          "is_executing": false
        }
      },
      "outputs": [],
      "source": [
        "class Mnist_with_BN(tf.keras.Model):\n",
        "    def __init__(self):\n",
        "        super(Mnist_with_BN, self).__init__()\n",
        "        self.conv1 \u003d Conv2D(16,[3,3], activation\u003d\u0027relu\u0027)\n",
        "        self.bn1 \u003d BatchNormalization()\n",
        "        self.conv2 \u003d Conv2D(16,[3,3], activation\u003d\u0027relu\u0027)\n",
        "        self.bn2 \u003d BatchNormalization()\n",
        "        self.conv3 \u003d Conv2D(16,[3,3], activation\u003d\u0027relu\u0027)\n",
        "        self.bn3 \u003d BatchNormalization()\n",
        "        self.flat \u003d Flatten()\n",
        "        self.dense \u003d  Dense(10, activation\u003d\"softmax\")\n",
        "    \n",
        "    def __call__(self, x):\n",
        "        x \u003d self.conv1(x)\n",
        "        x \u003d self.bn1(x)\n",
        "        x \u003d self.conv2(x)\n",
        "        x \u003d self.bn2(x)\n",
        "        x \u003d self.conv3(x)\n",
        "        x \u003d self.bn3(x)\n",
        "        x \u003d self.flat(x)\n",
        "        x \u003d self.dense(x)\n",
        "        return x\n",
        "    \n",
        "model \u003d Mnist_with_BN()"
      ]
    },
    {
      "cell_type": "markdown",
      "metadata": {
        "pycharm": {}
      },
      "source": [
        "# Load Data \u003cbr\u003e\n",
        "데이터를 로딩함."
      ]
    },
    {
      "cell_type": "code",
      "execution_count": 5,
      "metadata": {
        "pycharm": {
          "is_executing": false
        }
      },
      "outputs": [],
      "source": [
        "# Fetch and format the mnist data\n",
        "(mnist_images, mnist_labels), _ \u003d tf.keras.datasets.mnist.load_data()\n",
        "\n",
        "dataset \u003d tf.data.Dataset.from_tensor_slices(\n",
        "  (tf.cast(mnist_images[...,tf.newaxis]/255.0, tf.float32),\n",
        "   tf.cast(mnist_labels,tf.int64)))\n",
        "dataset \u003d dataset.shuffle(1000).batch(32)"
      ]
    },
    {
      "cell_type": "markdown",
      "metadata": {
        "pycharm": {}
      },
      "source": [
        "이미지 차원 및 결과물 차원 확인"
      ]
    },
    {
      "cell_type": "code",
      "execution_count": 6,
      "metadata": {
        "pycharm": {
          "is_executing": false
        },
        "scrolled": true
      },
      "outputs": [],
      "source": [
        "# for images, labels in dataset.take(1):\n",
        "#     print(images[0:1].shape)\n",
        "#     print(\"Logis\", model(images[0:1]).shape)"
      ]
    },
    {
      "cell_type": "markdown",
      "metadata": {
        "pycharm": {}
      },
      "source": [
        "# Define Optimizer"
      ]
    },
    {
      "cell_type": "markdown",
      "metadata": {
        "pycharm": {}
      },
      "source": [
        "AdamOptimizer를 사용함"
      ]
    },
    {
      "cell_type": "code",
      "execution_count": 7,
      "metadata": {
        "pycharm": {
          "is_executing": false
        }
      },
      "outputs": [],
      "source": [
        "optimizer \u003d tf.keras.optimizers.Adam()\n",
        "loss_object \u003d tf.keras.losses.SparseCategoricalCrossentropy()\n",
        "\n",
        "train_loss \u003d tf.keras.metrics.Mean(name\u003d\u0027train_loss\u0027)\n",
        "train_accuracy \u003d tf.keras.metrics.SparseCategoricalAccuracy(name\u003d\u0027train_accuracy\u0027)\n",
        "\n",
        "test_loss \u003d tf.keras.metrics.Mean(name\u003d\u0027test_loss\u0027)\n",
        "test_accuracy \u003d tf.keras.metrics.SparseCategoricalAccuracy(name\u003d\u0027test_accuracy\u0027)"
      ]
    },
    {
      "cell_type": "markdown",
      "metadata": {
        "pycharm": {}
      },
      "source": [
        "# Train"
      ]
    },
    {
      "cell_type": "code",
      "execution_count": 8,
      "metadata": {
        "pycharm": {
          "is_executing": false,
          "metadata": false,
          "name": "#%%\n"
        }
      },
      "outputs": [],
      "source": [
        "@tf.function\n",
        "def train_step(model, image, label):\n",
        "  with tf.GradientTape() as tape:\n",
        "    predictions \u003d model(image)\n",
        "    loss \u003d loss_object(label, predictions)\n",
        "  gradients \u003d tape.gradient(loss, model.trainable_variables)\n",
        "  optimizer.apply_gradients(zip(gradients, model.trainable_variables))\n",
        "\n",
        "  train_loss(loss)\n",
        "  train_accuracy(label, predictions)\n",
        "  #print(f\"loss : {loss.result()}, acc : {train_accuracy.result()*100}\")\n",
        "    "
      ]
    },
    {
      "cell_type": "code",
      "execution_count": 13,
      "metadata": {
        "pycharm": {
          "is_executing": false
        }
      },
      "outputs": [
        {
          "name": "stdout",
          "output_type": "stream",
          "text": [
            "epoch:2, loss:0.07473435997962952, acc:97.76944732666016\n",
            "epoch:2, loss:0.062029145658016205, acc:98.1379165649414\n"
          ]
        }
      ],
      "source": "#device \u003d \u0027/cpu:0\u0027 if tf.num_gpus() \u003d\u003d 0 else \u0027/gpu:0\u0027\n#print(\u0027using device %s\u0027 %device)\nepoch\u003d2\nloss_history \u003d []\nacc_history \u003d []\n   \nfor _ in range(epoch):\n    for images, labels in dataset:\n        train_step(model, images, labels)\n    print(f\"epoch:{epoch}, loss:{train_loss.result()}, acc:{train_accuracy.result()*100}\")    \n             "
    },
    {
      "cell_type": "code",
      "execution_count": null,
      "outputs": [],
      "source": "\n",
      "metadata": {
        "pycharm": {
          "metadata": false,
          "name": "#%%\n"
        }
      }
    }
  ],
  "metadata": {
    "kernelspec": {
      "display_name": "tf2",
      "language": "python",
      "name": "tf2"
    },
    "language_info": {
      "codemirror_mode": {
        "name": "ipython",
        "version": 3
      },
      "file_extension": ".py",
      "mimetype": "text/x-python",
      "name": "python",
      "nbconvert_exporter": "python",
      "pygments_lexer": "ipython3",
      "version": "3.6.8"
    }
  },
  "nbformat": 4,
  "nbformat_minor": 2
}