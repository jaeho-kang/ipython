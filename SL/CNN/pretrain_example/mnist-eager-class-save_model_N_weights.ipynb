{
 "cells": [
  {
   "cell_type": "markdown",
   "metadata": {},
   "source": [
    "#  set autocomplete"
   ]
  },
  {
   "cell_type": "code",
   "execution_count": 1,
   "metadata": {
    "collapsed": true
   },
   "outputs": [],
   "source": [
    "%config IPCompleter.greedy=True"
   ]
  },
  {
   "cell_type": "markdown",
   "metadata": {},
   "source": [
    "# Eager Mode Mnist"
   ]
  },
  {
   "cell_type": "code",
   "execution_count": 2,
   "metadata": {
    "collapsed": true
   },
   "outputs": [],
   "source": [
    "from __future__ import absolute_import, division, print_function\n",
    "import tensorflow as tf\n",
    "import tensorflow.contrib.eager as tfe\n",
    "tf.enable_eager_execution()\n",
    "import numpy as np"
   ]
  },
  {
   "cell_type": "markdown",
   "metadata": {},
   "source": [
    "mnist image : 28,28 "
   ]
  },
  {
   "cell_type": "code",
   "execution_count": 3,
   "metadata": {
    "collapsed": true
   },
   "outputs": [],
   "source": [
    "mnist = tf.keras.datasets.mnist"
   ]
  },
  {
   "cell_type": "markdown",
   "metadata": {},
   "source": [
    "# Create Model"
   ]
  },
  {
   "cell_type": "code",
   "execution_count": 4,
   "metadata": {
    "collapsed": true
   },
   "outputs": [],
   "source": [
    "from tensorflow.keras import layers\n",
    "\n",
    "class Mnist(tf.keras.Sequential):\n",
    "    def __init__(self):\n",
    "        super(Mnist, self).__init__()\n",
    "        self.conv1 = layers.Conv2D(16,[3,3], activation='relu')\n",
    "        self.conv2 = layers.Conv2D(16,[3,3], activation='relu')\n",
    "        self.conv3 = layers.Conv2D(16,[3,3], activation='relu')\n",
    "        self.flat = layers.Flatten()\n",
    "        self.dense = layers.Dense(10)\n",
    "    \n",
    "    def __call__(self, x):\n",
    "        x = self.conv1(x)\n",
    "        x = self.conv2(x)\n",
    "        x = self.conv3(x)\n",
    "        x = self.flat(x)\n",
    "        x = self.dense(x)\n",
    "        return x"
   ]
  },
  {
   "cell_type": "code",
   "execution_count": 5,
   "metadata": {},
   "outputs": [
    {
     "name": "stdout",
     "output_type": "stream",
     "text": [
      "<__main__.Mnist object at 0x7fdb55e49f60>\n",
      "(1, 10)\n"
     ]
    }
   ],
   "source": [
    "model = Mnist()\n",
    "print(model)\n",
    "x = tf.random_normal([1,28,28,1])\n",
    "print(model(x).shape)"
   ]
  },
  {
   "cell_type": "markdown",
   "metadata": {},
   "source": [
    "# Load Data "
   ]
  },
  {
   "cell_type": "code",
   "execution_count": 6,
   "metadata": {
    "collapsed": true
   },
   "outputs": [],
   "source": [
    "# Fetch and format the mnist data\n",
    "(mnist_images, mnist_labels), _ = tf.keras.datasets.mnist.load_data()\n",
    "\n",
    "dataset = tf.data.Dataset.from_tensor_slices(\n",
    "  (tf.cast(mnist_images[...,tf.newaxis]/255, tf.float32),\n",
    "   tf.cast(mnist_labels,tf.int64)))\n",
    "dataset = dataset.shuffle(1000).batch(32)"
   ]
  },
  {
   "cell_type": "code",
   "execution_count": 7,
   "metadata": {
    "scrolled": true
   },
   "outputs": [
    {
     "name": "stdout",
     "output_type": "stream",
     "text": [
      "(1, 28, 28, 1)\n",
      "Logis (1, 10)\n"
     ]
    }
   ],
   "source": [
    "for images, labels in dataset.take(1):\n",
    "    print(images[0:1].shape)\n",
    "    print(\"Logis\", model(images[0:1]).shape)"
   ]
  },
  {
   "cell_type": "markdown",
   "metadata": {},
   "source": [
    "# Define Optimizer"
   ]
  },
  {
   "cell_type": "code",
   "execution_count": 8,
   "metadata": {
    "collapsed": true
   },
   "outputs": [],
   "source": [
    "optimizer = tf.train.AdamOptimizer()"
   ]
  },
  {
   "cell_type": "markdown",
   "metadata": {},
   "source": [
    "# Train"
   ]
  },
  {
   "cell_type": "code",
   "execution_count": 9,
   "metadata": {
    "scrolled": true
   },
   "outputs": [
    {
     "name": "stdout",
     "output_type": "stream",
     "text": [
      "using device /gpu:0\n",
      "Loss at step 000: 2.307, Accu : 0.031\n",
      "Loss at step 020: 0.771, Accu : 0.688\n",
      "Loss at step 040: 0.368, Accu : 0.844\n",
      "Loss at step 060: 0.241, Accu : 0.906\n",
      "Loss at step 077: 0.162, Accu : 1.000\n"
     ]
    }
   ],
   "source": [
    "device = '/cpu:0' if tfe.num_gpus() == 0 else '/gpu:0'\n",
    "print('using device %s' %device)\n",
    "epoch=2\n",
    "loss_history = []\n",
    "acc_history = []\n",
    "iteration = 0\n",
    "with tf.device(device):  \n",
    "    for _ in range(epoch):\n",
    "        for ( batch, (images, labels)) in enumerate(dataset.take(6000)):\n",
    "            accuracy = tfe.metrics.Accuracy('accuracy', dtype=tf.float32)\n",
    "            with tf.GradientTape() as tape:\n",
    "                logits = model(images)\n",
    "                loss_value = tf.losses.sparse_softmax_cross_entropy(labels, logits)\n",
    "                accuracy(tf.argmax(logits, axis=1, output_type=tf.int64),\n",
    "                        tf.cast(labels, tf.int64))\n",
    "\n",
    "            loss_history.append(loss_value.numpy())\n",
    "            acc_history.append(accuracy.result())\n",
    "            grads = tape.gradient(loss_value, model.variables)\n",
    "            optimizer.apply_gradients(zip(grads, model.variables), \n",
    "                                     global_step=tf.train.get_or_create_global_step())\n",
    "            if (iteration % 20)== 0 :\n",
    "                print(\"Loss at step {:03d}: {:.3f}, Accu : {:.3f}\".format(iteration, loss_value, accuracy.result()))\n",
    "            if accuracy.result() > 0.95 :\n",
    "                break\n",
    "            iteration = iteration + 1\n",
    "print(\"Loss at step {:03d}: {:.3f}, Accu : {:.3f}\".format(iteration, loss_value, accuracy.result()))        "
   ]
  },
  {
   "cell_type": "code",
   "execution_count": 10,
   "metadata": {},
   "outputs": [],
   "source": [
    "import pandas as pd\n",
    "loss_history = pd.DataFrame(loss_history)\n",
    "acc_history = pd.DataFrame(acc_history)"
   ]
  },
  {
   "cell_type": "code",
   "execution_count": 11,
   "metadata": {},
   "outputs": [
    {
     "data": {
      "text/plain": [
       "<matplotlib.legend.Legend at 0x7fda8a795438>"
      ]
     },
     "execution_count": 11,
     "metadata": {},
     "output_type": "execute_result"
    },
    {
     "data": {
      "image/png": "[encoded data removed]",
      "text/plain": [
       "<Figure size 432x288 with 1 Axes>"
      ]
     },
     "metadata": {},
     "output_type": "display_data"
    }
   ],
   "source": [
    "import matplotlib.pyplot as plt\n",
    "%matplotlib inline\n",
    "plt.plot(acc_history, label='acc')\n",
    "plt.plot(loss_history, label='loss')\n",
    "plt.legend()"
   ]
  },
  {
   "cell_type": "markdown",
   "metadata": {
    "collapsed": true
   },
   "source": [
    "# Save Model"
   ]
  },
  {
   "cell_type": "code",
   "execution_count": 12,
   "metadata": {},
   "outputs": [
    {
     "data": {
      "text/plain": [
       "<tensorflow.python.keras.layers.core.Dense at 0x7fdb55e47588>"
      ]
     },
     "execution_count": 12,
     "metadata": {},
     "output_type": "execute_result"
    }
   ],
   "source": [
    "#remove top node\n",
    "model.layers.pop()"
   ]
  },
  {
   "cell_type": "code",
   "execution_count": 13,
   "metadata": {},
   "outputs": [
    {
     "data": {
      "text/plain": [
       "'./model/mnist.cpk'"
      ]
     },
     "execution_count": 13,
     "metadata": {},
     "output_type": "execute_result"
    }
   ],
   "source": [
    "tfe.Saver((model.variables)).save(\"./model/mnist.cpk\")"
   ]
  },
  {
   "cell_type": "code",
   "execution_count": null,
   "metadata": {
    "collapsed": true
   },
   "outputs": [],
   "source": []
  }
 ],
 "metadata": {
  "kernelspec": {
   "display_name": "Python 3",
   "language": "python",
   "name": "python3"
  },
  "language_info": {
   "codemirror_mode": {
    "name": "ipython",
    "version": 3
   },
   "file_extension": ".py",
   "mimetype": "text/x-python",
   "name": "python",
   "nbconvert_exporter": "python",
   "pygments_lexer": "ipython3",
   "version": "3.5.4"
  }
 },
 "nbformat": 4,
 "nbformat_minor": 2
}
