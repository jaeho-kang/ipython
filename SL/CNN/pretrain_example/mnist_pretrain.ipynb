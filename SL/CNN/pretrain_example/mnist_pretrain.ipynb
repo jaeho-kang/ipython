{
 "cells": [
  {
   "cell_type": "markdown",
   "metadata": {},
   "source": [
    "# Load Default imports"
   ]
  },
  {
   "cell_type": "code",
   "execution_count": 1,
   "metadata": {
    "collapsed": true
   },
   "outputs": [],
   "source": [
    "import os \n",
    "from __future__ import absolute_import, division, print_function\n",
    "import tensorflow as tf\n",
    "import tensorflow.contrib.eager as tfe\n",
    "tf.enable_eager_execution()\n",
    "import numpy as np"
   ]
  },
  {
   "cell_type": "markdown",
   "metadata": {},
   "source": [
    "## Declare Two Class"
   ]
  },
  {
   "cell_type": "code",
   "execution_count": 2,
   "metadata": {
    "collapsed": true
   },
   "outputs": [],
   "source": [
    "from tensorflow.keras import layers\n",
    "from tensorflow.keras.models import Model \n",
    "\n",
    "#define class mnist clasification model with out top \n",
    "class Mnist_with_out_top(tf.keras.Model):\n",
    "    def __init__(self):\n",
    "        super(Mnist_with_out_top, self).__init__()\n",
    "        self.conv1 = layers.Conv2D(16,[3,3], activation='relu')\n",
    "        self.conv2 = layers.Conv2D(16,[3,3], activation='relu')\n",
    "        self.conv3 = layers.Conv2D(16,[3,3], activation='relu')\n",
    "        self.flat = layers.Flatten()\n",
    "        \n",
    "    \n",
    "    def __call__(self, x):\n",
    "        x = self.conv1(x)\n",
    "        x = self.conv2(x)\n",
    "        x = self.conv3(x)\n",
    "        x = self.flat(x)\n",
    "        return x\n",
    "    \n",
    "#define class mnist classification with pretain\n",
    "class Mnist_with_Pretrain(tf.keras.Model):\n",
    "    def __init__(self, pretrain):\n",
    "        super(Mnist_with_Pretrain, self).__init__()\n",
    "        self.pretrain = pretrain\n",
    "        self.pretrain.trainable = False\n",
    "        self.dense = layers.Dense(10)\n",
    "    \n",
    "    def __call__(self, x):\n",
    "        x = self.pretrain(x)\n",
    "        x = self.dense(x)\n",
    "        return x"
   ]
  },
  {
   "cell_type": "markdown",
   "metadata": {},
   "source": [
    "---\n",
    "Mnist with out top model output is 7744(dense)\n",
    "---"
   ]
  },
  {
   "cell_type": "code",
   "execution_count": 3,
   "metadata": {},
   "outputs": [
    {
     "name": "stdout",
     "output_type": "stream",
     "text": [
      "(1, 7744)\n"
     ]
    }
   ],
   "source": [
    "model = Mnist_with_out_top()\n",
    "x = tf.random_normal([1,28,28,1])\n",
    "print(model(x).shape)"
   ]
  },
  {
   "cell_type": "markdown",
   "metadata": {},
   "source": [
    "### Load trained weights from cpk "
   ]
  },
  {
   "cell_type": "code",
   "execution_count": 4,
   "metadata": {},
   "outputs": [
    {
     "name": "stdout",
     "output_type": "stream",
     "text": [
      "INFO:tensorflow:Restoring parameters from ./model/mnist.cpk\n"
     ]
    }
   ],
   "source": [
    "tfe.Saver((model.variables)).restore(\"./model/mnist.cpk\")"
   ]
  },
  {
   "cell_type": "markdown",
   "metadata": {},
   "source": [
    "overload Class"
   ]
  },
  {
   "cell_type": "code",
   "execution_count": 5,
   "metadata": {},
   "outputs": [
    {
     "name": "stdout",
     "output_type": "stream",
     "text": [
      "(1, 10)\n"
     ]
    }
   ],
   "source": [
    "new_model = Mnist_with_Pretrain(model)\n",
    "print(new_model(x).shape)\n",
    "optimizer = tf.train.AdamOptimizer()"
   ]
  },
  {
   "cell_type": "markdown",
   "metadata": {},
   "source": [
    "### check trainable "
   ]
  },
  {
   "cell_type": "code",
   "execution_count": 6,
   "metadata": {},
   "outputs": [
    {
     "name": "stdout",
     "output_type": "stream",
     "text": [
      "0 th layer trainable : False\n",
      "1 th layer trainable : True\n"
     ]
    }
   ],
   "source": [
    "for i, layer in enumerate(new_model.layers):\n",
    "    print(\"{} th layer trainable : {}\".format(i, layer.trainable))"
   ]
  },
  {
   "cell_type": "code",
   "execution_count": 7,
   "metadata": {},
   "outputs": [
    {
     "name": "stdout",
     "output_type": "stream",
     "text": [
      "variables:8\n",
      "train_variables:2\n"
     ]
    }
   ],
   "source": [
    "print(\"variables:{}\".format(len(new_model.variables)))\n",
    "print(\"train_variables:{}\".format(len(new_model.trainable_variables)))"
   ]
  },
  {
   "cell_type": "markdown",
   "metadata": {},
   "source": [
    "# Load Dataset"
   ]
  },
  {
   "cell_type": "code",
   "execution_count": 8,
   "metadata": {},
   "outputs": [],
   "source": [
    "# Fetch and format the mnist data\n",
    "mnist = tf.keras.datasets.mnist\n",
    "(mnist_images, mnist_labels), _ = tf.keras.datasets.mnist.load_data()\n",
    "\n",
    "dataset = tf.data.Dataset.from_tensor_slices(\n",
    "  (tf.cast(mnist_images[...,tf.newaxis]/255, tf.float32),\n",
    "   tf.cast(mnist_labels,tf.int64)))\n",
    "dataset = dataset.shuffle(1000).batch(32)"
   ]
  },
  {
   "cell_type": "markdown",
   "metadata": {},
   "source": [
    "### train Model"
   ]
  },
  {
   "cell_type": "code",
   "execution_count": 9,
   "metadata": {},
   "outputs": [
    {
     "name": "stdout",
     "output_type": "stream",
     "text": [
      "using device /gpu:0\n",
      "Loss at step 000: 2.407, Accu : 0.000\n",
      "Loss at step 020: 0.721, Accu : 0.781\n",
      "Loss at step 030: 0.299, Accu : 0.969\n"
     ]
    }
   ],
   "source": [
    "device = '/cpu:0' if tfe.num_gpus() == 0 else '/gpu:0'\n",
    "print('using device %s' %device)\n",
    "epoch=2\n",
    "loss_history = []\n",
    "acc_history = []\n",
    "iteration = 0\n",
    "with tf.device(device):  \n",
    "    for _ in range(epoch):\n",
    "        for ( batch, (images, labels)) in enumerate(dataset.take(6000)):\n",
    "            accuracy = tfe.metrics.Accuracy('accuracy', dtype=tf.float32)\n",
    "            with tf.GradientTape() as tape:\n",
    "                logits = new_model(images)\n",
    "                loss_value = tf.losses.sparse_softmax_cross_entropy(labels, logits)\n",
    "                accuracy(tf.argmax(logits, axis=1, output_type=tf.int64),\n",
    "                        tf.cast(labels, tf.int64))\n",
    "\n",
    "            loss_history.append(loss_value.numpy())\n",
    "            acc_history.append(accuracy.result())\n",
    "            #in pretrain mode \n",
    "            #when calculate grds, use only new_model.trainable_variables not \n",
    "            #new_model.all_variables \n",
    "            grads = tape.gradient(loss_value, new_model.trainable_variables)\n",
    "            optimizer.apply_gradients(zip(grads, new_model.trainable_variables), \n",
    "                                     global_step=tf.train.get_or_create_global_step())\n",
    "            if (iteration % 20)== 0 :\n",
    "                print(\"Loss at step {:03d}: {:.3f}, Accu : {:.3f}\".format(iteration, loss_value, accuracy.result()))\n",
    "            if accuracy.result() > 0.95 :\n",
    "                break\n",
    "            iteration = iteration + 1\n",
    "print(\"Loss at step {:03d}: {:.3f}, Accu : {:.3f}\".format(iteration, loss_value, accuracy.result()))       \n"
   ]
  },
  {
   "cell_type": "code",
   "execution_count": 10,
   "metadata": {
    "collapsed": true
   },
   "outputs": [],
   "source": [
    "import pandas as pd\n",
    "loss_history = pd.DataFrame(loss_history)\n",
    "acc_history = pd.DataFrame(acc_history)"
   ]
  },
  {
   "cell_type": "code",
   "execution_count": 11,
   "metadata": {},
   "outputs": [
    {
     "data": {
      "text/plain": [
       "<matplotlib.legend.Legend at 0x7ff6f3e978d0>"
      ]
     },
     "execution_count": 11,
     "metadata": {},
     "output_type": "execute_result"
    },
    {
     "data": {
      "image/png": "[encoded data removed]",
      "text/plain": [
       "<Figure size 432x288 with 1 Axes>"
      ]
     },
     "metadata": {},
     "output_type": "display_data"
    }
   ],
   "source": [
    "import matplotlib.pyplot as plt\n",
    "%matplotlib inline\n",
    "plt.plot(acc_history, label='acc')\n",
    "plt.plot(loss_history, label='loss')\n",
    "plt.legend()"
   ]
  },
  {
   "cell_type": "code",
   "execution_count": null,
   "metadata": {
    "collapsed": true
   },
   "outputs": [],
   "source": []
  }
 ],
 "metadata": {
  "kernelspec": {
   "display_name": "Python 3",
   "language": "python",
   "name": "python3"
  },
  "language_info": {
   "codemirror_mode": {
    "name": "ipython",
    "version": 3
   },
   "file_extension": ".py",
   "mimetype": "text/x-python",
   "name": "python",
   "nbconvert_exporter": "python",
   "pygments_lexer": "ipython3",
   "version": "3.5.4"
  }
 },
 "nbformat": 4,
 "nbformat_minor": 2
}
