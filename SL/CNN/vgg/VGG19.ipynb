{
 "cells": [
  {
   "cell_type": "code",
   "execution_count": 1,
   "metadata": {
    "collapsed": true
   },
   "outputs": [],
   "source": [
    "%config IPCompleter.greedy=True\n",
    "import os\n",
    "os.environ[\"CUDA_VISIBLE_DEVICES\"]=\"-1\""
   ]
  },
  {
   "cell_type": "code",
   "execution_count": 2,
   "metadata": {
    "collapsed": true
   },
   "outputs": [],
   "source": [
    "import tensorflow as tf\n",
    "import numpy as np\n",
    "from tensorflow.keras import layers\n",
    "import tensorflow.contrib.eager as tfe\n",
    "import tqdm\n",
    "tf.enable_eager_execution()"
   ]
  },
  {
   "cell_type": "markdown",
   "metadata": {},
   "source": [
    "## download imagenet dataset"
   ]
  },
  {
   "cell_type": "code",
   "execution_count": 3,
   "metadata": {},
   "outputs": [],
   "source": [
    "# !wget http://image-net.org/imagenet_data/urls/imagenet_fall11_urls.tgz"
   ]
  },
  {
   "cell_type": "code",
   "execution_count": 4,
   "metadata": {},
   "outputs": [],
   "source": [
    "# !tar -zxvf imagenet_fall11_urls.tgz"
   ]
  },
  {
   "cell_type": "markdown",
   "metadata": {},
   "source": [
    "### download images from urls\n",
    "---\n",
    "imagenet 디렉토리를 생성\n",
    "---"
   ]
  },
  {
   "cell_type": "code",
   "execution_count": null,
   "metadata": {},
   "outputs": [],
   "source": [
    "!mkdir imagenet "
   ]
  },
  {
   "cell_type": "code",
   "execution_count": null,
   "metadata": {},
   "outputs": [
    {
     "name": "stdout",
     "output_type": "stream",
     "text": [
      "downloading now... 30\n",
      "downloading now... 40\n",
      "downloading now... 50\n",
      "downloading now... 60\n",
      "downloading now... 70\n",
      "downloading now... 80\n",
      "downloading now... 90\n",
      "downloading now... 100\n",
      "downloading now... 110\n",
      "downloading now... 120\n",
      "downloading now... 130\n"
     ]
    }
   ],
   "source": [
    "import os\n",
    "import tqdm\n",
    "\n",
    "file_path = \"./fall11_urls.txt\"\n",
    "with open(file_path) as file:\n",
    "#     for line in tqdm(file):\n",
    "    for idx, line in enumerate(file):\n",
    "        sub_line = line.split()\n",
    "        sub_line2 = sub_line[0].split(\"_\")\n",
    "        if len(sub_line2) != 2 :\n",
    "            continue \n",
    "        dir_name = sub_line2[0]\n",
    "        file_name = sub_line2[1]\n",
    "        dir_path = os.path.join(\"./imagenet\",dir_name)\n",
    "        if not os.path.isdir(dir_path) :\n",
    "            os.mkdir(dir_path)\n",
    "        output_path = os.path.join(\"./imagenet\",dir_name,file_name+\".jpg\")\n",
    "        if os.path.exists(output_path):\n",
    "            #이미 파일이 있을 경우 넘어 간다. \n",
    "            continue\n",
    "        cmd = 'wget {} -o {}'.format(sub_line[1], output_path)\n",
    "        os.system(cmd)\n",
    "        if (idx % 10) == 0 :\n",
    "            print(\"downloading now...\",idx)\n"
   ]
  },
  {
   "cell_type": "markdown",
   "metadata": {},
   "source": [
    "VGG19 Model <br>\n",
    "\n",
    "<ul>\n",
    "block 1<Br>\n",
    "conv 3*3, 64<br>\n",
    "conv 3*3, 64<br>\n",
    "maxpool 2 \n",
    "</ul>\n",
    "\n",
    "<ul>\n",
    "block 2<Br>\n",
    "conv 3*3, 128<br>\n",
    "conv 3*3, 128<br>\n",
    "maxpool 2 \n",
    "</ul>\n",
    "\n",
    "<ul>\n",
    "block 3<Br>\n",
    "conv 3*3, 256<br>\n",
    "conv 3*3, 256<br>\n",
    "conv 3*3, 256<br>\n",
    "maxpool 2\n",
    "</ul>\n",
    "\n",
    "<ul>\n",
    "block 4<Br>\n",
    "conv 3*3, 512<br>\n",
    "conv 3*3, 512<br>\n",
    "conv 3*3, 512<br>\n",
    "conv 3*3, 512<br>\n",
    "maxpool 2 \n",
    "</ul>\n",
    "\n",
    "\n",
    "<ul>\n",
    "block 5<Br>\n",
    "conv 3*3, 512<br>\n",
    "conv 3*3, 512<br>\n",
    "conv 3*3, 512<br>\n",
    "conv 3*3, 512<br>\n",
    "maxpool 2 \n",
    "</ul>\n",
    "\n",
    "<ul>\n",
    "block 6 Fully Connect<Br>\n",
    "Fully Connect Network 4096<br>\n",
    "Fully Connect Network 4096<br>\n",
    "Fully Connect Netowrk 100<br>\n",
    "</ul>\n"
   ]
  },
  {
   "cell_type": "code",
   "execution_count": null,
   "metadata": {
    "collapsed": true
   },
   "outputs": [],
   "source": [
    "class ConvLayer2(tf.keras.Model):\n",
    "    def __init__(self, filters, size):\n",
    "        super(ConvLayer2, self).__init__()\n",
    "        #padding이 same이 아닐 경우 이미지 크기가 줄어 들어서 오작동 한다.\n",
    "        self.conv1 = layers.Conv2D(filters, [size,size], activation='relu', padding='same')\n",
    "        self.conv2 = layers.Conv2D(filters, [size,size], activation='relu', padding='same')\n",
    "        self.pool = layers.MaxPool2D()\n",
    "        \n",
    "    def call(self, x):\n",
    "        model = self.conv1(x)\n",
    "        model = self.conv2(model)\n",
    "        model = self.pool(model)\n",
    "        return model\n",
    "\n",
    "class ConvLayer3(tf.keras.Model):\n",
    "    def __init__(self, filters, size):\n",
    "        super(ConvLayer3, self).__init__()\n",
    "        self.conv1 = layers.Conv2D(filters, [size,size], activation='relu', padding='same')\n",
    "        self.conv2 = layers.Conv2D(filters, [size,size], activation='relu', padding='same')\n",
    "        self.conv3 = layers.Conv2D(filters, [size,size], activation='relu', padding='same')\n",
    "        self.pool = layers.MaxPool2D()\n",
    "        \n",
    "    def call(self, x):\n",
    "        model = self.conv1(x)\n",
    "        model = self.conv2(model)\n",
    "        model = self.conv3(model)\n",
    "        model = self.pool(model)\n",
    "        return model\n",
    "\n",
    "class ConvLayer4(tf.keras.Model):\n",
    "    def __init__(self, filters, size):\n",
    "        super(ConvLayer4, self).__init__()\n",
    "        self.conv1 = layers.Conv2D(filters, [size,size], activation='relu', padding='same')\n",
    "        self.conv2 = layers.Conv2D(filters, [size,size], activation='relu', padding='same')\n",
    "        self.conv3 = layers.Conv2D(filters, [size,size], activation='relu', padding='same')\n",
    "        self.conv4 = layers.Conv2D(filters, [size,size], activation='relu', padding='same')\n",
    "        self.pool = layers.MaxPool2D()\n",
    "        \n",
    "    def call(self, x):\n",
    "        model = self.conv1(x)\n",
    "        model = self.conv2(model)\n",
    "        model = self.conv3(model)\n",
    "        model = self.conv4(model)\n",
    "        model = self.pool(model)\n",
    "        return model\n",
    "\n",
    "class VGG19(tf.keras.Model):\n",
    "    def __init__(self, img_class):\n",
    "        super(VGG19, self).__init__()\n",
    "        self.conv_block1 = ConvLayer2(64, 3)\n",
    "        self.conv_block2 = ConvLayer2(128, 3)\n",
    "        self.conv_block3 = ConvLayer3(256, 3)\n",
    "        self.conv_block4 = ConvLayer4(512, 3)\n",
    "        self.conv_block5 = ConvLayer4(512, 3)\n",
    "#         self.conv_block6 = ConvLayer4(512, 3)\n",
    "        self.flat = layers.Flatten()\n",
    "        self.fcn1 = layers.Dense(4096, activation='relu')\n",
    "        self.fcn2 = layers.Dense(4096, activation='relu')\n",
    "        self.fcn3 = layers.Dense(img_class, activation='relu')\n",
    "        \n",
    "    def call(self, x):\n",
    "        model = self.conv_block1(x)\n",
    "        model = self.conv_block2(model)\n",
    "        model = self.conv_block3(model)\n",
    "        model = self.conv_block4(model)\n",
    "        model = self.conv_block5(model)\n",
    "#         model = self.conv_block6(model)\n",
    "        model = self.flat(model)\n",
    "        model = self.fcn1(model)\n",
    "        model = self.fcn2(model)\n",
    "        model = self.fcn3(model)\n",
    "        return model"
   ]
  },
  {
   "cell_type": "code",
   "execution_count": null,
   "metadata": {
    "scrolled": false
   },
   "outputs": [],
   "source": [
    "model = VGG19(100)\n",
    "print(model)\n",
    "x = tf.random_normal([1,224,224,3])\n",
    "print(model(x).shape)"
   ]
  },
  {
   "cell_type": "code",
   "execution_count": null,
   "metadata": {},
   "outputs": [],
   "source": [
    "# tf.keras.datasets.\n",
    "# dataset = cifar100\n",
    "(cifar_images, cifar_labels), _ = cifar100.load_data()\n",
    "dataset = tf.data.Dataset.from_tensor_slices(\n",
    "(tf.cast(cifar_images[...,tf.newaxis]/255, tf.float32),\n",
    " tf.cast(cifar_labels, tf.int64)))\n",
    "dataset = dataset.shuffle(1000).batch(32)"
   ]
  },
  {
   "cell_type": "code",
   "execution_count": null,
   "metadata": {},
   "outputs": [],
   "source": [
    "print(cifar_images[0:1].shape)\n",
    "print(model(cifar_images[0:1]).shape)"
   ]
  },
  {
   "cell_type": "code",
   "execution_count": null,
   "metadata": {},
   "outputs": [],
   "source": [
    "num_batch = len(cifar_images)/ 32\n",
    "optimizer = tf.train.AdamOptimizer()\n",
    "epoch=2\n",
    "loss_history = []\n",
    "acc_history = []\n",
    "\n",
    "for _ in range(epoch):\n",
    "    for ( batch, (images, labels)) in enumerate(dataset.take(num_batch)):\n",
    "        accuracy = tfe.metrics.Accuracy('accuracy', dtype=tf.float32)\n",
    "        with tf.GradientTape() as tape:\n",
    "            logits = model(images)\n",
    "            loss_value = tf.losses.sparse_softmax_cross_entropy(labels, logits)\n",
    "            accuracy(tf.argmax(logits, axis=1, output_type=tf.int64),\n",
    "                    tf.cast(labels, tf.int64))\n",
    "\n",
    "        loss_history.append(loss_value.numpy())\n",
    "        acc_history.append(accuracy.result())\n",
    "        grads = tape.gradient(loss_value, model.variables)\n",
    "        optimizer.apply_gradients(zip(grads, model.variables), \n",
    "                                 global_step=tf.train.get_or_create_global_step())\n",
    "        if batch % 20== 0 :\n",
    "            print(\"Loss at step {:03d}: {:.3f}, Accu : {:.3f}\".format(batch, loss_value, accuracy.result()))\n"
   ]
  },
  {
   "cell_type": "code",
   "execution_count": null,
   "metadata": {
    "collapsed": true
   },
   "outputs": [],
   "source": []
  }
 ],
 "metadata": {
  "kernelspec": {
   "display_name": "Python 3",
   "language": "python",
   "name": "python3"
  },
  "language_info": {
   "codemirror_mode": {
    "name": "ipython",
    "version": 3
   },
   "file_extension": ".py",
   "mimetype": "text/x-python",
   "name": "python",
   "nbconvert_exporter": "python",
   "pygments_lexer": "ipython3",
   "version": "3.5.4"
  }
 },
 "nbformat": 4,
 "nbformat_minor": 2
}
