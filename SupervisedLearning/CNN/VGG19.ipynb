{
 "cells": [
  {
   "cell_type": "code",
   "execution_count": 1,
   "metadata": {
    "collapsed": true
   },
   "outputs": [],
   "source": [
    "%config IPCompleter.greedy=True\n",
    "import os\n",
    "os.environ[\"CUDA_VISIBLE_DEVICES\"]=\"\""
   ]
  },
  {
   "cell_type": "code",
   "execution_count": 2,
   "metadata": {
    "collapsed": true
   },
   "outputs": [],
   "source": [
    "import tensorflow as tf\n",
    "import numpy as np\n",
    "from tensorflow.keras import layers\n",
    "import tensorflow.contrib.eager as tfe\n",
    "tf.enable_eager_execution()"
   ]
  },
  {
   "cell_type": "code",
   "execution_count": 3,
   "metadata": {
    "collapsed": true
   },
   "outputs": [],
   "source": [
    "cifar100 = tf.keras.datasets.cifar100"
   ]
  },
  {
   "cell_type": "markdown",
   "metadata": {},
   "source": [
    "VGG19 Model <br>\n",
    "\n",
    "<ul>\n",
    "block 1<Br>\n",
    "conv 3*3, 64<br>\n",
    "conv 3*3, 64<br>\n",
    "maxpool 2 \n",
    "</ul>\n",
    "\n",
    "<ul>\n",
    "block 2<Br>\n",
    "conv 3*3, 128<br>\n",
    "conv 3*3, 128<br>\n",
    "maxpool 2 \n",
    "</ul>\n",
    "\n",
    "<ul>\n",
    "block 3<Br>\n",
    "conv 3*3, 256<br>\n",
    "conv 3*3, 256<br>\n",
    "conv 3*3, 256<br>\n",
    "maxpool 2\n",
    "</ul>\n",
    "\n",
    "<ul>\n",
    "block 4<Br>\n",
    "conv 3*3, 512<br>\n",
    "conv 3*3, 512<br>\n",
    "conv 3*3, 512<br>\n",
    "conv 3*3, 512<br>\n",
    "maxpool 2 \n",
    "</ul>\n",
    "\n",
    "\n",
    "<ul>\n",
    "block 5<Br>\n",
    "conv 3*3, 512<br>\n",
    "conv 3*3, 512<br>\n",
    "conv 3*3, 512<br>\n",
    "conv 3*3, 512<br>\n",
    "maxpool 2 \n",
    "</ul>\n",
    "\n",
    "<ul>\n",
    "block 6 Fully Connect<Br>\n",
    "Fully Connect Network 4096<br>\n",
    "Fully Connect Network 4096<br>\n",
    "Fully Connect Netowrk 100<br>\n",
    "</ul>\n"
   ]
  },
  {
   "cell_type": "code",
   "execution_count": 4,
   "metadata": {
    "collapsed": true
   },
   "outputs": [],
   "source": [
    "class ConvLayer2(tf.keras.Model):\n",
    "    def __init__(self, filters, size):\n",
    "        super(ConvLayer2, self).__init__()\n",
    "        #padding이 same이 아닐 경우 이미지 크기가 줄어 들어서 오작동 한다.\n",
    "        self.conv1 = layers.Conv2D(filters, [size,size], activation='relu', padding='same')\n",
    "        self.conv2 = layers.Conv2D(filters, [size,size], activation='relu', padding='same')\n",
    "        self.pool = layers.MaxPool2D()\n",
    "        \n",
    "    def call(self, x):\n",
    "        model = self.conv1(x)\n",
    "        model = self.conv2(model)\n",
    "        model = self.pool(model)\n",
    "        return model\n",
    "\n",
    "class ConvLayer3(tf.keras.Model):\n",
    "    def __init__(self, filters, size):\n",
    "        super(ConvLayer3, self).__init__()\n",
    "        self.conv1 = layers.Conv2D(filters, [size,size], activation='relu', padding='same')\n",
    "        self.conv2 = layers.Conv2D(filters, [size,size], activation='relu', padding='same')\n",
    "        self.conv3 = layers.Conv2D(filters, [size,size], activation='relu', padding='same')\n",
    "        self.pool = layers.MaxPool2D()\n",
    "        \n",
    "    def call(self, x):\n",
    "        model = self.conv1(x)\n",
    "        model = self.conv2(model)\n",
    "        model = self.conv3(model)\n",
    "        model = self.pool(model)\n",
    "        return model\n",
    "\n",
    "class ConvLayer4(tf.keras.Model):\n",
    "    def __init__(self, filters, size):\n",
    "        super(ConvLayer4, self).__init__()\n",
    "        self.conv1 = layers.Conv2D(filters, [size,size], activation='relu', padding='same')\n",
    "        self.conv2 = layers.Conv2D(filters, [size,size], activation='relu', padding='same')\n",
    "        self.conv3 = layers.Conv2D(filters, [size,size], activation='relu', padding='same')\n",
    "        self.conv4 = layers.Conv2D(filters, [size,size], activation='relu', padding='same')\n",
    "        self.pool = layers.MaxPool2D()\n",
    "        \n",
    "    def call(self, x):\n",
    "        model = self.conv1(x)\n",
    "        model = self.conv2(model)\n",
    "        model = self.conv3(model)\n",
    "        model = self.conv4(model)\n",
    "        model = self.pool(model)\n",
    "        return model\n",
    "\n",
    "class VGG19(tf.keras.Model):\n",
    "    def __init__(self, img_class):\n",
    "        super(VGG19, self).__init__()\n",
    "        self.conv_block1 = ConvLayer2(64, 3)\n",
    "        self.conv_block2 = ConvLayer2(128, 3)\n",
    "        self.conv_block3 = ConvLayer3(256, 3)\n",
    "        self.conv_block4 = ConvLayer4(512, 3)\n",
    "        self.conv_block5 = ConvLayer4(512, 3)\n",
    "#         self.conv_block6 = ConvLayer4(512, 3)\n",
    "        self.flat = layers.Flatten()\n",
    "        self.fcn1 = layers.Dense(4096, activation='relu')\n",
    "        self.fcn2 = layers.Dense(4096, activation='relu')\n",
    "        self.fcn3 = layers.Dense(img_class, activation='relu')\n",
    "        \n",
    "    def call(self, x):\n",
    "        model = self.conv_block1(x)\n",
    "        model = self.conv_block2(model)\n",
    "        model = self.conv_block3(model)\n",
    "        model = self.conv_block4(model)\n",
    "        model = self.conv_block5(model)\n",
    "#         model = self.conv_block6(model)\n",
    "        model = self.flat(model)\n",
    "        model = self.fcn1(model)\n",
    "        model = self.fcn2(model)\n",
    "        model = self.fcn3(model)\n",
    "        return model"
   ]
  },
  {
   "cell_type": "code",
   "execution_count": 5,
   "metadata": {
    "scrolled": false
   },
   "outputs": [
    {
     "name": "stdout",
     "output_type": "stream",
     "text": [
      "<__main__.VGG19 object at 0x7fe084fc98d0>\n",
      "(1, 1000)\n"
     ]
    }
   ],
   "source": [
    "model = VGG19(1000)\n",
    "print(model)\n",
    "x = tf.random_normal([1,224,224,3])\n",
    "print(model(x).shape)"
   ]
  },
  {
   "cell_type": "code",
   "execution_count": 6,
   "metadata": {},
   "outputs": [],
   "source": [
    "# tf.keras.datasets."
   ]
  },
  {
   "cell_type": "code",
   "execution_count": 7,
   "metadata": {},
   "outputs": [
    {
     "ename": "NameError",
     "evalue": "name 'dataset' is not defined",
     "output_type": "error",
     "traceback": [
      "\u001b[0;31m---------------------------------------------------------------------------\u001b[0m",
      "\u001b[0;31mNameError\u001b[0m                                 Traceback (most recent call last)",
      "\u001b[0;32m<ipython-input-7-924abbcdc945>\u001b[0m in \u001b[0;36m<module>\u001b[0;34m()\u001b[0m\n\u001b[1;32m      5\u001b[0m \u001b[0;34m\u001b[0m\u001b[0m\n\u001b[1;32m      6\u001b[0m \u001b[0;32mfor\u001b[0m \u001b[0m_\u001b[0m \u001b[0;32min\u001b[0m \u001b[0mrange\u001b[0m\u001b[0;34m(\u001b[0m\u001b[0mepoch\u001b[0m\u001b[0;34m)\u001b[0m\u001b[0;34m:\u001b[0m\u001b[0;34m\u001b[0m\u001b[0m\n\u001b[0;32m----> 7\u001b[0;31m     \u001b[0;32mfor\u001b[0m \u001b[0;34m(\u001b[0m \u001b[0mbatch\u001b[0m\u001b[0;34m,\u001b[0m \u001b[0;34m(\u001b[0m\u001b[0mimages\u001b[0m\u001b[0;34m,\u001b[0m \u001b[0mlabels\u001b[0m\u001b[0;34m)\u001b[0m\u001b[0;34m)\u001b[0m \u001b[0;32min\u001b[0m \u001b[0menumerate\u001b[0m\u001b[0;34m(\u001b[0m\u001b[0mdataset\u001b[0m\u001b[0;34m.\u001b[0m\u001b[0mtake\u001b[0m\u001b[0;34m(\u001b[0m\u001b[0;36m6000\u001b[0m\u001b[0;34m)\u001b[0m\u001b[0;34m)\u001b[0m\u001b[0;34m:\u001b[0m\u001b[0;34m\u001b[0m\u001b[0m\n\u001b[0m\u001b[1;32m      8\u001b[0m         \u001b[0maccuracy\u001b[0m \u001b[0;34m=\u001b[0m \u001b[0mtfe\u001b[0m\u001b[0;34m.\u001b[0m\u001b[0mmetrics\u001b[0m\u001b[0;34m.\u001b[0m\u001b[0mAccuracy\u001b[0m\u001b[0;34m(\u001b[0m\u001b[0;34m'accuracy'\u001b[0m\u001b[0;34m,\u001b[0m \u001b[0mdtype\u001b[0m\u001b[0;34m=\u001b[0m\u001b[0mtf\u001b[0m\u001b[0;34m.\u001b[0m\u001b[0mfloat32\u001b[0m\u001b[0;34m)\u001b[0m\u001b[0;34m\u001b[0m\u001b[0m\n\u001b[1;32m      9\u001b[0m         \u001b[0;32mwith\u001b[0m \u001b[0mtf\u001b[0m\u001b[0;34m.\u001b[0m\u001b[0mGradientTape\u001b[0m\u001b[0;34m(\u001b[0m\u001b[0;34m)\u001b[0m \u001b[0;32mas\u001b[0m \u001b[0mtape\u001b[0m\u001b[0;34m:\u001b[0m\u001b[0;34m\u001b[0m\u001b[0m\n",
      "\u001b[0;31mNameError\u001b[0m: name 'dataset' is not defined"
     ]
    }
   ],
   "source": [
    "optimizer = tf.train.AdamOptimizer()\n",
    "epoch=2\n",
    "loss_history = []\n",
    "acc_history = []\n",
    "\n",
    "for _ in range(epoch):\n",
    "    for ( batch, (images, labels)) in enumerate(dataset.take(6000)):\n",
    "        accuracy = tfe.metrics.Accuracy('accuracy', dtype=tf.float32)\n",
    "        with tf.GradientTape() as tape:\n",
    "            logits = model(images)\n",
    "            loss_value = tf.losses.sparse_softmax_cross_entropy(labels, logits)\n",
    "            accuracy(tf.argmax(logits, axis=1, output_type=tf.int64),\n",
    "                    tf.cast(labels, tf.int64))\n",
    "\n",
    "        loss_history.append(loss_value.numpy())\n",
    "        acc_history.append(accuracy.result())\n",
    "        grads = tape.gradient(loss_value, model.variables)\n",
    "        optimizer.apply_gradients(zip(grads, model.variables), \n",
    "                                 global_step=tf.train.get_or_create_global_step())\n",
    "        if batch % 20== 0 :\n",
    "            print(\"Loss at step {:03d}: {:.3f}, Accu : {:.3f}\".format(batch, loss_value, accuracy.result()))\n"
   ]
  }
 ],
 "metadata": {
  "kernelspec": {
   "display_name": "Python 3",
   "language": "python",
   "name": "python3"
  },
  "language_info": {
   "codemirror_mode": {
    "name": "ipython",
    "version": 3
   },
   "file_extension": ".py",
   "mimetype": "text/x-python",
   "name": "python",
   "nbconvert_exporter": "python",
   "pygments_lexer": "ipython3",
   "version": "3.5.4"
  }
 },
 "nbformat": 4,
 "nbformat_minor": 2
}
