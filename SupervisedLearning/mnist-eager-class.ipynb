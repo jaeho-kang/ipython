{
 "cells": [
  {
   "cell_type": "markdown",
   "metadata": {},
   "source": [
    "#  set autocomplete"
   ]
  },
  {
   "cell_type": "code",
   "execution_count": 1,
   "metadata": {
    "collapsed": true
   },
   "outputs": [],
   "source": [
    "%config IPCompleter.greedy=True"
   ]
  },
  {
   "cell_type": "markdown",
   "metadata": {},
   "source": [
    "# Eager Mode Mnist"
   ]
  },
  {
   "cell_type": "code",
   "execution_count": 2,
   "metadata": {
    "collapsed": true
   },
   "outputs": [],
   "source": [
    "from __future__ import absolute_import, division, print_function\n",
    "import tensorflow as tf\n",
    "import tensorflow.contrib.eager as tfe\n",
    "tf.enable_eager_execution()\n",
    "import numpy as np"
   ]
  },
  {
   "cell_type": "markdown",
   "metadata": {},
   "source": [
    "mnist image : 28,28 "
   ]
  },
  {
   "cell_type": "code",
   "execution_count": 3,
   "metadata": {
    "collapsed": true
   },
   "outputs": [],
   "source": [
    "mnist = tf.keras.datasets.mnist"
   ]
  },
  {
   "cell_type": "markdown",
   "metadata": {},
   "source": [
    "# Create Model"
   ]
  },
  {
   "cell_type": "code",
   "execution_count": 4,
   "metadata": {},
   "outputs": [],
   "source": [
    "from tensorflow.keras import layers\n",
    "\n",
    "class Mnist(tf.keras.Sequential):\n",
    "    def __init__(self):\n",
    "        super(Mnist, self).__init__()\n",
    "        self.conv1 = layers.Conv2D(16,[3,3], activation='relu')\n",
    "        self.conv2 = layers.Conv2D(16,[3,3], activation='relu')\n",
    "        self.conv3 = layers.Conv2D(16,[3,3], activation='relu')\n",
    "        self.flat = layers.Flatten()\n",
    "        self.dense = layers.Dense(10)\n",
    "    \n",
    "    def __call__(self, x):\n",
    "        x = self.conv1(x)\n",
    "        x = self.conv2(x)\n",
    "        x = self.conv3(x)\n",
    "        x = self.flat(x)\n",
    "        x = self.dense(x)\n",
    "        return x"
   ]
  },
  {
   "cell_type": "code",
   "execution_count": 5,
   "metadata": {},
   "outputs": [
    {
     "name": "stdout",
     "output_type": "stream",
     "text": [
      "<__main__.Mnist object at 0x7fc489e86f28>\n",
      "(1, 10)\n"
     ]
    }
   ],
   "source": [
    "model = Mnist()\n",
    "print(model)\n",
    "x = tf.random_normal([1,28,28,1])\n",
    "print(model(x).shape)"
   ]
  },
  {
   "cell_type": "markdown",
   "metadata": {},
   "source": [
    "# Load Data "
   ]
  },
  {
   "cell_type": "code",
   "execution_count": 6,
   "metadata": {
    "collapsed": true
   },
   "outputs": [],
   "source": [
    "# Fetch and format the mnist data\n",
    "(mnist_images, mnist_labels), _ = tf.keras.datasets.mnist.load_data()\n",
    "\n",
    "dataset = tf.data.Dataset.from_tensor_slices(\n",
    "  (tf.cast(mnist_images[...,tf.newaxis]/255, tf.float32),\n",
    "   tf.cast(mnist_labels,tf.int64)))\n",
    "dataset = dataset.shuffle(1000).batch(32)"
   ]
  },
  {
   "cell_type": "code",
   "execution_count": 7,
   "metadata": {
    "scrolled": true
   },
   "outputs": [
    {
     "name": "stdout",
     "output_type": "stream",
     "text": [
      "(1, 28, 28, 1)\n",
      "Logis (1, 10)\n"
     ]
    }
   ],
   "source": [
    "for images, labels in dataset.take(1):\n",
    "    print(images[0:1].shape)\n",
    "    print(\"Logis\", model(images[0:1]).shape)"
   ]
  },
  {
   "cell_type": "markdown",
   "metadata": {},
   "source": [
    "# Define Optimizer"
   ]
  },
  {
   "cell_type": "code",
   "execution_count": 8,
   "metadata": {},
   "outputs": [],
   "source": [
    "optimizer = tf.train.AdamOptimizer()"
   ]
  },
  {
   "cell_type": "markdown",
   "metadata": {},
   "source": [
    "# Train"
   ]
  },
  {
   "cell_type": "code",
   "execution_count": 9,
   "metadata": {},
   "outputs": [],
   "source": [
    "# loss_history = []\n",
    "# for ( batch, (images, labels)) in enumerate(dataset.take(400)):\n",
    "#     if batch % 80== 0 :\n",
    "#         print()\n",
    "#     print('.', end='')\n",
    "#     with tf.GradientTape() as tape:\n",
    "#         logits = model(images)\n",
    "#         loss_value = tf.losses.sparse_softmax_cross_entropy(labels, logits)\n",
    "        \n",
    "#     loss_history.append(loss_value.numpy())\n",
    "#     grads = tape.gradient(loss_value, model.variables)\n",
    "#     optimizer.apply_gradients(zip(grads, model.variables), \n",
    "#                              global_step=tf.train.get_or_create_global_step())"
   ]
  },
  {
   "cell_type": "code",
   "execution_count": null,
   "metadata": {},
   "outputs": [],
   "source": []
  },
  {
   "cell_type": "code",
   "execution_count": 10,
   "metadata": {
    "collapsed": true
   },
   "outputs": [],
   "source": [
    "# def loss(model, inputs, targets):\n",
    "#     error = model(inputs) - targets\n",
    "#     return tf.resuce_mean(tf.square(error))"
   ]
  },
  {
   "cell_type": "code",
   "execution_count": 11,
   "metadata": {
    "scrolled": true
   },
   "outputs": [
    {
     "name": "stdout",
     "output_type": "stream",
     "text": [
      "Loss at step 000: 2.293, Accu : 0.219\n",
      "Loss at step 020: 0.623, Accu : 0.844\n",
      "Loss at step 040: 0.533, Accu : 0.750\n",
      "Loss at step 060: 0.508, Accu : 0.812\n",
      "Loss at step 080: 0.354, Accu : 0.906\n",
      "Loss at step 100: 0.506, Accu : 0.844\n",
      "Loss at step 120: 0.276, Accu : 0.844\n",
      "Loss at step 140: 0.111, Accu : 1.000\n",
      "Loss at step 160: 0.104, Accu : 0.938\n",
      "Loss at step 180: 0.196, Accu : 0.969\n",
      "Loss at step 200: 0.629, Accu : 0.844\n",
      "Loss at step 220: 0.215, Accu : 0.938\n",
      "Loss at step 240: 0.143, Accu : 0.906\n",
      "Loss at step 260: 0.023, Accu : 1.000\n",
      "Loss at step 280: 0.418, Accu : 0.875\n",
      "Loss at step 300: 0.229, Accu : 0.906\n",
      "Loss at step 320: 0.043, Accu : 1.000\n",
      "Loss at step 340: 0.148, Accu : 0.938\n",
      "Loss at step 360: 0.206, Accu : 0.969\n",
      "Loss at step 380: 0.029, Accu : 1.000\n",
      "Loss at step 400: 0.203, Accu : 0.969\n",
      "Loss at step 420: 0.179, Accu : 0.875\n",
      "Loss at step 440: 0.087, Accu : 0.969\n",
      "Loss at step 460: 0.089, Accu : 0.969\n",
      "Loss at step 480: 0.159, Accu : 0.938\n",
      "Loss at step 500: 0.146, Accu : 0.969\n",
      "Loss at step 520: 0.077, Accu : 0.969\n",
      "Loss at step 540: 0.161, Accu : 0.969\n",
      "Loss at step 560: 0.053, Accu : 0.969\n",
      "Loss at step 580: 0.188, Accu : 0.938\n",
      "Loss at step 600: 0.017, Accu : 1.000\n",
      "Loss at step 620: 0.054, Accu : 0.969\n",
      "Loss at step 640: 0.082, Accu : 0.969\n",
      "Loss at step 660: 0.151, Accu : 0.938\n",
      "Loss at step 680: 0.162, Accu : 0.906\n",
      "Loss at step 700: 0.038, Accu : 0.969\n",
      "Loss at step 720: 0.304, Accu : 0.938\n",
      "Loss at step 740: 0.099, Accu : 0.938\n",
      "Loss at step 760: 0.015, Accu : 1.000\n",
      "Loss at step 780: 0.180, Accu : 0.938\n",
      "Loss at step 800: 0.063, Accu : 0.969\n",
      "Loss at step 820: 0.015, Accu : 1.000\n",
      "Loss at step 840: 0.194, Accu : 0.969\n",
      "Loss at step 860: 0.088, Accu : 1.000\n",
      "Loss at step 880: 0.029, Accu : 1.000\n",
      "Loss at step 900: 0.181, Accu : 0.969\n",
      "Loss at step 920: 0.223, Accu : 0.938\n",
      "Loss at step 940: 0.089, Accu : 0.938\n",
      "Loss at step 960: 0.008, Accu : 1.000\n",
      "Loss at step 980: 0.026, Accu : 1.000\n",
      "Loss at step 1000: 0.054, Accu : 1.000\n",
      "Loss at step 1020: 0.010, Accu : 1.000\n",
      "Loss at step 1040: 0.131, Accu : 0.969\n",
      "Loss at step 1060: 0.119, Accu : 0.969\n",
      "Loss at step 1080: 0.014, Accu : 1.000\n",
      "Loss at step 1100: 0.024, Accu : 1.000\n",
      "Loss at step 1120: 0.071, Accu : 0.969\n",
      "Loss at step 1140: 0.138, Accu : 0.969\n",
      "Loss at step 1160: 0.091, Accu : 0.969\n",
      "Loss at step 1180: 0.055, Accu : 0.969\n",
      "Loss at step 1200: 0.170, Accu : 0.938\n",
      "Loss at step 1220: 0.128, Accu : 0.969\n",
      "Loss at step 1240: 0.032, Accu : 1.000\n",
      "Loss at step 1260: 0.077, Accu : 0.969\n",
      "Loss at step 1280: 0.016, Accu : 1.000\n",
      "Loss at step 1300: 0.447, Accu : 0.906\n",
      "Loss at step 1320: 0.005, Accu : 1.000\n",
      "Loss at step 1340: 0.082, Accu : 0.969\n",
      "Loss at step 1360: 0.165, Accu : 0.969\n",
      "Loss at step 1380: 0.196, Accu : 0.969\n",
      "Loss at step 1400: 0.145, Accu : 0.938\n",
      "Loss at step 1420: 0.050, Accu : 0.969\n",
      "Loss at step 1440: 0.165, Accu : 0.906\n",
      "Loss at step 1460: 0.019, Accu : 1.000\n",
      "Loss at step 1480: 0.145, Accu : 0.906\n",
      "Loss at step 1500: 0.143, Accu : 0.938\n",
      "Loss at step 1520: 0.190, Accu : 0.938\n",
      "Loss at step 1540: 0.015, Accu : 1.000\n",
      "Loss at step 1560: 0.142, Accu : 0.906\n",
      "Loss at step 1580: 0.009, Accu : 1.000\n",
      "Loss at step 1600: 0.027, Accu : 1.000\n",
      "Loss at step 1620: 0.113, Accu : 0.938\n",
      "Loss at step 1640: 0.005, Accu : 1.000\n",
      "Loss at step 1660: 0.030, Accu : 1.000\n",
      "Loss at step 1680: 0.067, Accu : 0.969\n",
      "Loss at step 1700: 0.018, Accu : 1.000\n",
      "Loss at step 1720: 0.024, Accu : 1.000\n",
      "Loss at step 1740: 0.350, Accu : 0.875\n",
      "Loss at step 1760: 0.017, Accu : 1.000\n",
      "Loss at step 1780: 0.029, Accu : 1.000\n",
      "Loss at step 1800: 0.053, Accu : 0.938\n",
      "Loss at step 1820: 0.003, Accu : 1.000\n",
      "Loss at step 1840: 0.017, Accu : 1.000\n",
      "Loss at step 1860: 0.003, Accu : 1.000\n",
      "Loss at step 000: 0.009, Accu : 1.000\n",
      "Loss at step 020: 0.010, Accu : 1.000\n",
      "Loss at step 040: 0.020, Accu : 1.000\n",
      "Loss at step 060: 0.078, Accu : 0.969\n",
      "Loss at step 080: 0.025, Accu : 1.000\n",
      "Loss at step 100: 0.239, Accu : 0.938\n",
      "Loss at step 120: 0.006, Accu : 1.000\n",
      "Loss at step 140: 0.213, Accu : 0.938\n",
      "Loss at step 160: 0.007, Accu : 1.000\n",
      "Loss at step 180: 0.307, Accu : 0.938\n",
      "Loss at step 200: 0.026, Accu : 1.000\n",
      "Loss at step 220: 0.044, Accu : 0.969\n",
      "Loss at step 240: 0.086, Accu : 0.969\n",
      "Loss at step 260: 0.169, Accu : 0.969\n",
      "Loss at step 280: 0.070, Accu : 0.969\n",
      "Loss at step 300: 0.012, Accu : 1.000\n",
      "Loss at step 320: 0.040, Accu : 0.969\n",
      "Loss at step 340: 0.074, Accu : 0.969\n",
      "Loss at step 360: 0.021, Accu : 1.000\n",
      "Loss at step 380: 0.043, Accu : 1.000\n",
      "Loss at step 400: 0.140, Accu : 0.969\n",
      "Loss at step 420: 0.026, Accu : 1.000\n",
      "Loss at step 440: 0.022, Accu : 1.000\n",
      "Loss at step 460: 0.041, Accu : 0.969\n",
      "Loss at step 480: 0.002, Accu : 1.000\n",
      "Loss at step 500: 0.042, Accu : 0.969\n",
      "Loss at step 520: 0.009, Accu : 1.000\n",
      "Loss at step 540: 0.010, Accu : 1.000\n",
      "Loss at step 560: 0.257, Accu : 0.969\n",
      "Loss at step 580: 0.052, Accu : 1.000\n",
      "Loss at step 600: 0.024, Accu : 1.000\n",
      "Loss at step 620: 0.001, Accu : 1.000\n",
      "Loss at step 640: 0.010, Accu : 1.000\n",
      "Loss at step 660: 0.012, Accu : 1.000\n",
      "Loss at step 680: 0.006, Accu : 1.000\n",
      "Loss at step 700: 0.005, Accu : 1.000\n",
      "Loss at step 720: 0.101, Accu : 0.938\n",
      "Loss at step 740: 0.007, Accu : 1.000\n",
      "Loss at step 760: 0.043, Accu : 0.969\n",
      "Loss at step 780: 0.056, Accu : 1.000\n",
      "Loss at step 800: 0.147, Accu : 0.938\n",
      "Loss at step 820: 0.008, Accu : 1.000\n",
      "Loss at step 840: 0.015, Accu : 1.000\n",
      "Loss at step 860: 0.106, Accu : 0.969\n",
      "Loss at step 880: 0.090, Accu : 0.938\n",
      "Loss at step 900: 0.013, Accu : 1.000\n",
      "Loss at step 920: 0.093, Accu : 0.969\n",
      "Loss at step 940: 0.032, Accu : 1.000\n",
      "Loss at step 960: 0.025, Accu : 1.000\n",
      "Loss at step 980: 0.016, Accu : 1.000\n",
      "Loss at step 1000: 0.011, Accu : 1.000\n",
      "Loss at step 1020: 0.009, Accu : 1.000\n",
      "Loss at step 1040: 0.047, Accu : 0.969\n",
      "Loss at step 1060: 0.063, Accu : 0.969\n",
      "Loss at step 1080: 0.117, Accu : 0.969\n",
      "Loss at step 1100: 0.005, Accu : 1.000\n",
      "Loss at step 1120: 0.008, Accu : 1.000\n",
      "Loss at step 1140: 0.306, Accu : 0.969\n",
      "Loss at step 1160: 0.110, Accu : 0.969\n",
      "Loss at step 1180: 0.004, Accu : 1.000\n",
      "Loss at step 1200: 0.018, Accu : 1.000\n",
      "Loss at step 1220: 0.151, Accu : 0.969\n",
      "Loss at step 1240: 0.039, Accu : 0.969\n",
      "Loss at step 1260: 0.009, Accu : 1.000\n",
      "Loss at step 1280: 0.005, Accu : 1.000\n",
      "Loss at step 1300: 0.016, Accu : 1.000\n",
      "Loss at step 1320: 0.168, Accu : 0.969\n",
      "Loss at step 1340: 0.002, Accu : 1.000\n",
      "Loss at step 1360: 0.012, Accu : 1.000\n",
      "Loss at step 1380: 0.051, Accu : 0.969\n",
      "Loss at step 1400: 0.001, Accu : 1.000\n",
      "Loss at step 1420: 0.019, Accu : 1.000\n",
      "Loss at step 1440: 0.242, Accu : 0.969\n",
      "Loss at step 1460: 0.110, Accu : 0.969\n",
      "Loss at step 1480: 0.085, Accu : 0.969\n",
      "Loss at step 1500: 0.046, Accu : 0.969\n",
      "Loss at step 1520: 0.048, Accu : 0.969\n",
      "Loss at step 1540: 0.062, Accu : 0.969\n",
      "Loss at step 1560: 0.028, Accu : 1.000\n",
      "Loss at step 1580: 0.095, Accu : 0.969\n",
      "Loss at step 1600: 0.002, Accu : 1.000\n",
      "Loss at step 1620: 0.032, Accu : 1.000\n",
      "Loss at step 1640: 0.010, Accu : 1.000\n",
      "Loss at step 1660: 0.119, Accu : 0.938\n",
      "Loss at step 1680: 0.009, Accu : 1.000\n",
      "Loss at step 1700: 0.040, Accu : 0.969\n",
      "Loss at step 1720: 0.252, Accu : 0.938\n",
      "Loss at step 1740: 0.004, Accu : 1.000\n",
      "Loss at step 1760: 0.022, Accu : 1.000\n",
      "Loss at step 1780: 0.002, Accu : 1.000\n",
      "Loss at step 1800: 0.018, Accu : 1.000\n",
      "Loss at step 1820: 0.104, Accu : 0.969\n",
      "Loss at step 1840: 0.002, Accu : 1.000\n",
      "Loss at step 1860: 0.004, Accu : 1.000\n"
     ]
    }
   ],
   "source": [
    "epoch=2\n",
    "loss_history = []\n",
    "acc_history = []\n",
    "\n",
    "for _ in range(epoch):\n",
    "    for ( batch, (images, labels)) in enumerate(dataset.take(6000)):\n",
    "        accuracy = tfe.metrics.Accuracy('accuracy', dtype=tf.float32)\n",
    "        with tf.GradientTape() as tape:\n",
    "            logits = model(images)\n",
    "            loss_value = tf.losses.sparse_softmax_cross_entropy(labels, logits)\n",
    "            accuracy(tf.argmax(logits, axis=1, output_type=tf.int64),\n",
    "                    tf.cast(labels, tf.int64))\n",
    "\n",
    "        loss_history.append(loss_value.numpy())\n",
    "        acc_history.append(accuracy.result())\n",
    "        grads = tape.gradient(loss_value, model.variables)\n",
    "        optimizer.apply_gradients(zip(grads, model.variables), \n",
    "                                 global_step=tf.train.get_or_create_global_step())\n",
    "        if batch % 20== 0 :\n",
    "            print(\"Loss at step {:03d}: {:.3f}, Accu : {:.3f}\".format(batch, loss_value, accuracy.result()))\n",
    "        "
   ]
  },
  {
   "cell_type": "code",
   "execution_count": 12,
   "metadata": {},
   "outputs": [
    {
     "data": {
      "image/png": "[encoded data removed]",
      "text/plain": [
       "<Figure size 432x288 with 1 Axes>"
      ]
     },
     "metadata": {},
     "output_type": "display_data"
    }
   ],
   "source": [
    "import matplotlib.pyplot as plt\n",
    "plt.plot(acc_history)\n",
    "plt.xlabel('Batch #')\n",
    "plt.ylabel('ACC')\n",
    "plt.show()"
   ]
  },
  {
   "cell_type": "code",
   "execution_count": 13,
   "metadata": {},
   "outputs": [
    {
     "data": {
      "image/png": "[encoded data removed]",
      "text/plain": [
       "<Figure size 432x288 with 1 Axes>"
      ]
     },
     "metadata": {},
     "output_type": "display_data"
    }
   ],
   "source": [
    "import matplotlib.pyplot as plt\n",
    "plt.plot(loss_history)\n",
    "plt.xlabel('Batch #')\n",
    "plt.ylabel('Loss [entropy]')\n",
    "plt.show()\n",
    "#Text(0, 0.5, 'Loss [entropy]')"
   ]
  },
  {
   "cell_type": "code",
   "execution_count": 19,
   "metadata": {
    "collapsed": true
   },
   "outputs": [],
   "source": [
    "class Mnist2(tf.keras.Sequential):\n",
    "    def __init__(self):\n",
    "        super(Mnist2, self).__init__()\n",
    "        self.conv1 = layers.Conv2D(16,[3,3], activation='relu')\n",
    "        self.bn1 = layers.BatchNormalization()\n",
    "        self.conv2 = layers.Conv2D(16,[3,3], activation='relu')\n",
    "        self.bn2 = layers.BatchNormalization()\n",
    "        self.conv3 = layers.Conv2D(16,[3,3], activation='relu')\n",
    "        self.bn3 = layers.BatchNormalization()\n",
    "        self.flat = layers.Flatten()\n",
    "        self.dense = layers.Dense(10)\n",
    "    \n",
    "    def __call__(self, x):\n",
    "        x = self.conv1(x)\n",
    "        x = self.bn1(x)\n",
    "        x = self.conv2(x)\n",
    "        x = self.bn2(x)\n",
    "        x = self.conv3(x)\n",
    "        x = self.bn3(x)\n",
    "        x = self.flat(x)\n",
    "        x = self.dense(x)\n",
    "        return x"
   ]
  },
  {
   "cell_type": "code",
   "execution_count": 21,
   "metadata": {},
   "outputs": [
    {
     "name": "stdout",
     "output_type": "stream",
     "text": [
      "Loss at step 000: 2.302, Accu : 0.094\n",
      "Loss at step 020: 0.387, Accu : 0.875\n",
      "Loss at step 040: 0.280, Accu : 0.906\n",
      "Loss at step 060: 0.547, Accu : 0.812\n",
      "Loss at step 080: 0.143, Accu : 0.938\n",
      "Loss at step 100: 0.242, Accu : 0.906\n",
      "Loss at step 120: 0.120, Accu : 0.938\n",
      "Loss at step 140: 0.027, Accu : 1.000\n",
      "Loss at step 160: 0.190, Accu : 0.938\n",
      "Loss at step 180: 0.176, Accu : 0.938\n",
      "Loss at step 200: 0.175, Accu : 0.938\n",
      "Loss at step 220: 0.084, Accu : 0.969\n",
      "Loss at step 240: 0.276, Accu : 0.938\n",
      "Loss at step 260: 0.035, Accu : 1.000\n",
      "Loss at step 280: 0.068, Accu : 1.000\n",
      "Loss at step 300: 0.076, Accu : 0.938\n",
      "Loss at step 320: 0.045, Accu : 1.000\n",
      "Loss at step 340: 0.191, Accu : 0.938\n",
      "Loss at step 360: 0.115, Accu : 0.969\n",
      "Loss at step 380: 0.038, Accu : 1.000\n",
      "Loss at step 400: 0.189, Accu : 0.938\n",
      "Loss at step 420: 0.051, Accu : 0.969\n",
      "Loss at step 440: 0.097, Accu : 0.969\n",
      "Loss at step 460: 0.097, Accu : 0.969\n",
      "Loss at step 480: 0.059, Accu : 1.000\n",
      "Loss at step 500: 0.060, Accu : 0.969\n",
      "Loss at step 520: 0.014, Accu : 1.000\n",
      "Loss at step 540: 0.012, Accu : 1.000\n",
      "Loss at step 560: 0.073, Accu : 0.969\n",
      "Loss at step 580: 0.103, Accu : 0.969\n",
      "Loss at step 600: 0.119, Accu : 0.969\n",
      "Loss at step 620: 0.037, Accu : 0.969\n",
      "Loss at step 640: 0.020, Accu : 1.000\n",
      "Loss at step 660: 0.124, Accu : 0.969\n",
      "Loss at step 680: 0.182, Accu : 0.969\n",
      "Loss at step 700: 0.270, Accu : 0.969\n",
      "Loss at step 720: 0.245, Accu : 0.969\n",
      "Loss at step 740: 0.034, Accu : 1.000\n",
      "Loss at step 760: 0.079, Accu : 0.969\n",
      "Loss at step 780: 0.041, Accu : 0.969\n",
      "Loss at step 800: 0.114, Accu : 0.906\n",
      "Loss at step 820: 0.006, Accu : 1.000\n",
      "Loss at step 840: 0.007, Accu : 1.000\n",
      "Loss at step 860: 0.276, Accu : 0.938\n",
      "Loss at step 880: 0.025, Accu : 1.000\n",
      "Loss at step 900: 0.099, Accu : 0.938\n",
      "Loss at step 920: 0.023, Accu : 1.000\n",
      "Loss at step 940: 0.026, Accu : 1.000\n",
      "Loss at step 960: 0.009, Accu : 1.000\n",
      "Loss at step 980: 0.022, Accu : 1.000\n",
      "Loss at step 1000: 0.022, Accu : 1.000\n",
      "Loss at step 1020: 0.208, Accu : 0.938\n",
      "Loss at step 1040: 0.007, Accu : 1.000\n",
      "Loss at step 1060: 0.052, Accu : 0.969\n",
      "Loss at step 1080: 0.017, Accu : 1.000\n",
      "Loss at step 1100: 0.007, Accu : 1.000\n",
      "Loss at step 1120: 0.042, Accu : 0.969\n",
      "Loss at step 1140: 0.148, Accu : 0.938\n",
      "Loss at step 1160: 0.083, Accu : 0.969\n",
      "Loss at step 1180: 0.232, Accu : 0.938\n",
      "Loss at step 1200: 0.010, Accu : 1.000\n",
      "Loss at step 1220: 0.570, Accu : 0.938\n",
      "Loss at step 1240: 0.015, Accu : 1.000\n",
      "Loss at step 1260: 0.046, Accu : 0.969\n",
      "Loss at step 1280: 0.025, Accu : 1.000\n",
      "Loss at step 1300: 0.089, Accu : 0.969\n",
      "Loss at step 1320: 0.013, Accu : 1.000\n",
      "Loss at step 1340: 0.009, Accu : 1.000\n",
      "Loss at step 1360: 0.019, Accu : 1.000\n",
      "Loss at step 1380: 0.017, Accu : 1.000\n",
      "Loss at step 1400: 0.047, Accu : 0.969\n",
      "Loss at step 1420: 0.008, Accu : 1.000\n",
      "Loss at step 1440: 0.093, Accu : 0.969\n",
      "Loss at step 1460: 0.141, Accu : 0.969\n",
      "Loss at step 1480: 0.206, Accu : 0.969\n",
      "Loss at step 1500: 0.065, Accu : 0.969\n",
      "Loss at step 1520: 0.268, Accu : 0.969\n",
      "Loss at step 1540: 0.098, Accu : 0.969\n",
      "Loss at step 1560: 0.042, Accu : 0.969\n",
      "Loss at step 1580: 0.004, Accu : 1.000\n",
      "Loss at step 1600: 0.057, Accu : 0.969\n",
      "Loss at step 1620: 0.026, Accu : 1.000\n",
      "Loss at step 1640: 0.004, Accu : 1.000\n",
      "Loss at step 1660: 0.092, Accu : 0.969\n",
      "Loss at step 1680: 0.013, Accu : 1.000\n",
      "Loss at step 1700: 0.011, Accu : 1.000\n",
      "Loss at step 1720: 0.111, Accu : 0.938\n",
      "Loss at step 1740: 0.050, Accu : 0.969\n",
      "Loss at step 1760: 0.012, Accu : 1.000\n",
      "Loss at step 1780: 0.020, Accu : 1.000\n",
      "Loss at step 1800: 0.002, Accu : 1.000\n",
      "Loss at step 1820: 0.057, Accu : 0.969\n",
      "Loss at step 1840: 0.002, Accu : 1.000\n",
      "Loss at step 1860: 0.051, Accu : 0.969\n",
      "Loss at step 000: 0.006, Accu : 1.000\n",
      "Loss at step 020: 0.084, Accu : 0.938\n",
      "Loss at step 040: 0.052, Accu : 0.969\n",
      "Loss at step 060: 0.009, Accu : 1.000\n",
      "Loss at step 080: 0.003, Accu : 1.000\n",
      "Loss at step 100: 0.031, Accu : 1.000\n",
      "Loss at step 120: 0.070, Accu : 0.969\n",
      "Loss at step 140: 0.007, Accu : 1.000\n",
      "Loss at step 160: 0.065, Accu : 0.969\n",
      "Loss at step 180: 0.083, Accu : 0.969\n",
      "Loss at step 200: 0.005, Accu : 1.000\n",
      "Loss at step 220: 0.025, Accu : 1.000\n",
      "Loss at step 240: 0.002, Accu : 1.000\n",
      "Loss at step 260: 0.064, Accu : 0.969\n",
      "Loss at step 280: 0.230, Accu : 0.938\n",
      "Loss at step 300: 0.085, Accu : 0.969\n",
      "Loss at step 320: 0.219, Accu : 0.969\n",
      "Loss at step 340: 0.107, Accu : 0.969\n",
      "Loss at step 360: 0.006, Accu : 1.000\n",
      "Loss at step 380: 0.009, Accu : 1.000\n",
      "Loss at step 400: 0.035, Accu : 0.969\n",
      "Loss at step 420: 0.001, Accu : 1.000\n",
      "Loss at step 440: 0.141, Accu : 0.969\n",
      "Loss at step 460: 0.007, Accu : 1.000\n",
      "Loss at step 480: 0.003, Accu : 1.000\n",
      "Loss at step 500: 0.001, Accu : 1.000\n",
      "Loss at step 520: 0.007, Accu : 1.000\n",
      "Loss at step 540: 0.289, Accu : 0.938\n",
      "Loss at step 560: 0.161, Accu : 0.969\n",
      "Loss at step 580: 0.215, Accu : 0.969\n",
      "Loss at step 600: 0.011, Accu : 1.000\n",
      "Loss at step 620: 0.012, Accu : 1.000\n",
      "Loss at step 640: 0.008, Accu : 1.000\n",
      "Loss at step 660: 0.011, Accu : 1.000\n",
      "Loss at step 680: 0.002, Accu : 1.000\n",
      "Loss at step 700: 0.028, Accu : 1.000\n",
      "Loss at step 720: 0.003, Accu : 1.000\n",
      "Loss at step 740: 0.006, Accu : 1.000\n",
      "Loss at step 760: 0.061, Accu : 0.969\n",
      "Loss at step 780: 0.089, Accu : 0.969\n",
      "Loss at step 800: 0.054, Accu : 1.000\n",
      "Loss at step 820: 0.002, Accu : 1.000\n",
      "Loss at step 840: 0.033, Accu : 1.000\n",
      "Loss at step 860: 0.017, Accu : 1.000\n",
      "Loss at step 880: 0.098, Accu : 0.969\n",
      "Loss at step 900: 0.036, Accu : 0.969\n",
      "Loss at step 920: 0.048, Accu : 0.969\n",
      "Loss at step 940: 0.001, Accu : 1.000\n",
      "Loss at step 960: 0.009, Accu : 1.000\n",
      "Loss at step 980: 0.004, Accu : 1.000\n",
      "Loss at step 1000: 0.071, Accu : 0.969\n",
      "Loss at step 1020: 0.018, Accu : 1.000\n",
      "Loss at step 1040: 0.002, Accu : 1.000\n",
      "Loss at step 1060: 0.014, Accu : 1.000\n",
      "Loss at step 1080: 0.006, Accu : 1.000\n",
      "Loss at step 1100: 0.049, Accu : 0.969\n",
      "Loss at step 1120: 0.014, Accu : 1.000\n",
      "Loss at step 1140: 0.004, Accu : 1.000\n",
      "Loss at step 1160: 0.003, Accu : 1.000\n",
      "Loss at step 1180: 0.007, Accu : 1.000\n",
      "Loss at step 1200: 0.058, Accu : 0.969\n",
      "Loss at step 1220: 0.012, Accu : 1.000\n",
      "Loss at step 1240: 0.006, Accu : 1.000\n",
      "Loss at step 1260: 0.003, Accu : 1.000\n",
      "Loss at step 1280: 0.029, Accu : 1.000\n",
      "Loss at step 1300: 0.003, Accu : 1.000\n",
      "Loss at step 1320: 0.058, Accu : 0.969\n",
      "Loss at step 1340: 0.002, Accu : 1.000\n",
      "Loss at step 1360: 0.012, Accu : 1.000\n",
      "Loss at step 1380: 0.009, Accu : 1.000\n",
      "Loss at step 1400: 0.002, Accu : 1.000\n",
      "Loss at step 1420: 0.009, Accu : 1.000\n",
      "Loss at step 1440: 0.001, Accu : 1.000\n",
      "Loss at step 1460: 0.067, Accu : 0.969\n",
      "Loss at step 1480: 0.047, Accu : 0.969\n",
      "Loss at step 1500: 0.007, Accu : 1.000\n",
      "Loss at step 1520: 0.006, Accu : 1.000\n",
      "Loss at step 1540: 0.019, Accu : 1.000\n",
      "Loss at step 1560: 0.059, Accu : 0.969\n",
      "Loss at step 1580: 0.067, Accu : 0.969\n",
      "Loss at step 1600: 0.182, Accu : 0.969\n",
      "Loss at step 1620: 0.020, Accu : 1.000\n",
      "Loss at step 1640: 0.001, Accu : 1.000\n",
      "Loss at step 1660: 0.008, Accu : 1.000\n",
      "Loss at step 1680: 0.001, Accu : 1.000\n",
      "Loss at step 1700: 0.002, Accu : 1.000\n",
      "Loss at step 1720: 0.006, Accu : 1.000\n",
      "Loss at step 1740: 0.002, Accu : 1.000\n",
      "Loss at step 1760: 0.043, Accu : 0.969\n",
      "Loss at step 1780: 0.008, Accu : 1.000\n",
      "Loss at step 1800: 0.031, Accu : 1.000\n",
      "Loss at step 1820: 0.000, Accu : 1.000\n",
      "Loss at step 1840: 0.006, Accu : 1.000\n",
      "Loss at step 1860: 0.001, Accu : 1.000\n"
     ]
    }
   ],
   "source": [
    "model = Mnist2()\n",
    "epoch=2\n",
    "loss_history = []\n",
    "acc_history = []\n",
    "\n",
    "for _ in range(epoch):\n",
    "    for ( batch, (images, labels)) in enumerate(dataset.take(6000)):\n",
    "        accuracy = tfe.metrics.Accuracy('accuracy', dtype=tf.float32)\n",
    "        with tf.GradientTape() as tape:\n",
    "            logits = model(images)\n",
    "            loss_value = tf.losses.sparse_softmax_cross_entropy(labels, logits)\n",
    "            accuracy(tf.argmax(logits, axis=1, output_type=tf.int64),\n",
    "                    tf.cast(labels, tf.int64))\n",
    "\n",
    "        loss_history.append(loss_value.numpy())\n",
    "        acc_history.append(accuracy.result())\n",
    "        grads = tape.gradient(loss_value, model.variables)\n",
    "        optimizer.apply_gradients(zip(grads, model.variables), \n",
    "                                 global_step=tf.train.get_or_create_global_step())\n",
    "        if batch % 20== 0 :\n",
    "            print(\"Loss at step {:03d}: {:.3f}, Accu : {:.3f}\".format(batch, loss_value, accuracy.result()))\n",
    "        "
   ]
  },
  {
   "cell_type": "code",
   "execution_count": 22,
   "metadata": {},
   "outputs": [
    {
     "data": {
      "image/png": "[encoded data removed]",
      "text/plain": [
       "<Figure size 432x288 with 1 Axes>"
      ]
     },
     "metadata": {},
     "output_type": "display_data"
    }
   ],
   "source": [
    "import matplotlib.pyplot as plt\n",
    "plt.plot(acc_history)\n",
    "plt.xlabel('Batch #')\n",
    "plt.ylabel('ACC')\n",
    "plt.show()"
   ]
  },
  {
   "cell_type": "code",
   "execution_count": 23,
   "metadata": {},
   "outputs": [
    {
     "data": {
      "image/png": "[encoded data removed]",
      "text/plain": [
       "<Figure size 432x288 with 1 Axes>"
      ]
     },
     "metadata": {},
     "output_type": "display_data"
    }
   ],
   "source": [
    "import matplotlib.pyplot as plt\n",
    "plt.plot(loss_history)\n",
    "plt.xlabel('Batch #')\n",
    "plt.ylabel('Loss [entropy]')\n",
    "plt.show()\n",
    "#Text(0, 0.5, 'Loss [entropy]')"
   ]
  },
  {
   "cell_type": "code",
   "execution_count": null,
   "metadata": {
    "collapsed": true
   },
   "outputs": [],
   "source": []
  }
 ],
 "metadata": {
  "kernelspec": {
   "display_name": "Python 3",
   "language": "python",
   "name": "python3"
  },
  "language_info": {
   "codemirror_mode": {
    "name": "ipython",
    "version": 3
   },
   "file_extension": ".py",
   "mimetype": "text/x-python",
   "name": "python",
   "nbconvert_exporter": "python",
   "pygments_lexer": "ipython3",
   "version": "3.5.4"
  }
 },
 "nbformat": 4,
 "nbformat_minor": 2
}
