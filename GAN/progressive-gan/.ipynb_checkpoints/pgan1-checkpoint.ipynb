{
 "cells": [
  {
   "cell_type": "code",
   "execution_count": 4,
   "metadata": {
    "pycharm": {
     "is_executing": false,
     "name": "#%%\n"
    }
   },
   "outputs": [],
   "source": [
    "# import numpy as np \n",
    "import tensorflow as tf \n",
    "import sys\n",
    "sys.path.append('..')\n",
    "from util.common_layer import ConvLayer\n",
    "from tensorflow.keras.layers import Dense"
   ]
  },
  {
   "cell_type": "code",
   "execution_count": null,
   "metadata": {
    "pycharm": {
     "is_executing": false,
     "metadata": false,
     "name": "#%%\n"
    }
   },
   "outputs": [],
   "source": [
    "\n",
    "# for multi dimension to x,y,3 \n",
    "class toRGB(tf.keras.Model):\n",
    "    def __init__(self):\n",
    "        super(toRGB, self).__init__()\n",
    "        self.conv = ConvLayer(filter=3, kernel=(1,1))\n",
    "        \n",
    "    def call(self, x):\n",
    "        return self.conv(x)\n",
    "    \n",
    "class fromRGB(tf.keras.Model):\n",
    "    def __init__(self, **kwargs):\n",
    "        super(fromRGB, self).__init__()\n",
    "        self.conv = ConvLayer(filter=kwargs['filter'], kernel=(1,1))\n",
    "        \n",
    "    def call(self, x):\n",
    "        return self.conv(x)"
   ]
  },
  {
   "cell_type": "code",
   "execution_count": null,
   "metadata": {
    "pycharm": {
     "is_executing": false,
     "metadata": false,
     "name": "#%%\n"
    }
   },
   "outputs": [],
   "source": [
    "class ConvBlock(tf.keras.Model):\n",
    "    def __init__(self, **kwargs):\n",
    "        super(ConvBlock, self).__init__()\n",
    "        key_list = list(kwargs.keys())\n",
    "        if \"kernel\" not in key_list or \"filter\" not in key_list:\n",
    "            raise Exeption(\"need kernel and filter \")\n",
    "        self.conv1 = ConvLayer(filter=kwargs[\"filter\"], kernel=kwargs[\"kernel\"], activation=kwargs['activation'])\n",
    "        self.conv2 = ConvLayer(filter=kwargs[\"filter\"], kernel=kwargs[\"kernel\"], activation=kwargs['activation'])\n",
    "        \n",
    "    def call(self, x):\n",
    "        conv = self.conv1(x)\n",
    "        conv = self.conv2(x)\n",
    "        return conv \n",
    "    "
   ]
  },
  {
   "cell_type": "code",
   "execution_count": null,
   "metadata": {
    "pycharm": {
     "is_executing": false,
     "metadata": false,
     "name": "#%%\n"
    }
   },
   "outputs": [],
   "source": [
    "class Generator_body(tf.keras.Model):\n",
    "    def __init__(self, **kwargs):\n",
    "        super(Generator, self).__init__()\n",
    "        self.conv1 = Dense(512*4*4)\n",
    "        self.conv2 = ConvLayer(filter=512, kernel=(3,3), activation=tf.nn.leaky_relu)\n",
    "        # self.up1 = UpSampleLayer(filter=512, kernel=(2,2))\n",
    "        # \n",
    "        # self.conv_block2 = DownSampleBlock(filter=512, kernel=(3,3), activation=tf.nn.leaky_relu)\n",
    "        # self.up2 = UpSampleLayer(filter=512, kernel=(2,2))\n",
    "        # \n",
    "        # self.conv_block3 = DownSampleBlock(filter=512, kernel=(3,3), activation=tf.nn.leaky_relu)\n",
    "        # self.up3 = UpSampleLayer(filter=512, kernel=(2,2))\n",
    "        # \n",
    "        # self.conv_block4 = DownSampleBlock(filter=512, kernel=(3,3), activation=tf.nn.leaky_relu)\n",
    "        # \n",
    "        self.toRGB = toRGB()\n",
    "        \n",
    "        \n",
    "    def call(self, x, step):\n",
    "        block1 = self.conv1(x)\n",
    "        block1 = self.conv2(block1)\n",
    "        return self.toRGB(block1)\n",
    "        \n",
    "        # if step == 4 :\n",
    "        #     return self.toRGB(block1)\n",
    "        # \n",
    "        # block2 = self.up1(block1)\n",
    "        # block2 = self.conv_block2(block2)   \n",
    "        # \n",
    "        # if step == 8 :\n",
    "        #     return self.toRGB(block2)\n",
    "        # \n",
    "        # block3 = self.up2(block2)\n",
    "        # block3 = self.conv_block3(block3)\n",
    "        # \n",
    "        # if step == 16 :\n",
    "        #     return self.toRGB(block3)\n",
    "        # \n",
    "        # block4 = self.up3(block3)\n",
    "        # block4 = self.conv_block4(block4)\n",
    "        # return self.toRGB(block4)"
   ]
  },
  {
   "cell_type": "code",
   "execution_count": null,
   "metadata": {
    "pycharm": {
     "is_executing": false,
     "metadata": false,
     "name": "#%%\n"
    }
   },
   "outputs": [],
   "source": [
    "#batch, w, h, c \n",
    "img = tf.random.normal(shape=[32,1,1,512])\n",
    "g=Generator()\n",
    "print(g(img, 4))"
   ]
  },
  {
   "cell_type": "code",
   "execution_count": null,
   "metadata": {
    "pycharm": {
     "is_executing": false,
     "metadata": false,
     "name": "#%%\n"
    }
   },
   "outputs": [],
   "source": [
    "class Discriminator():\n",
    "    def __init__(self, **kwargs):\n",
    "        super(Discriminator, self).__init__()\n",
    "        self.fromRGB = fromRGB(filter=kwargs['filter'])\n",
    "        self.conv1 = ConvLayer(filter=4, kernel=(3,3), activation=tf.nn.leaky_relu)\n",
    "        self.conv2 = ConvLayer(filter=4, kernel=(4,4), activation=tf.nn.leaky_relu)\n",
    "        self.fc = Dense(1, activation='linear')\n",
    "        \n",
    "    def call(self,x):\n",
    "        x = self.fromRGB(x)\n",
    "        x = self.conv1(x)\n",
    "        x = self.conv2(x)\n",
    "        x = self.fc(x)\n",
    "        return x"
   ]
  },
  {
   "cell_type": "code",
   "execution_count": null,
   "metadata": {
    "pycharm": {
     "is_executing": false,
     "name": "#%%\n"
    }
   },
   "outputs": [],
   "source": [
    "d = Discriminator(filter=4)\n"
   ]
  },
  {
   "cell_type": "code",
   "execution_count": null,
   "metadata": {
    "pycharm": {
     "name": "#%%\n"
    }
   },
   "outputs": [],
   "source": [
    "\n"
   ]
  }
 ],
 "metadata": {
  "kernelspec": {
   "display_name": "tf2",
   "language": "python",
   "name": "tf2"
  },
  "language_info": {
   "codemirror_mode": {
    "name": "ipython",
    "version": 3
   },
   "file_extension": ".py",
   "mimetype": "text/x-python",
   "name": "python",
   "nbconvert_exporter": "python",
   "pygments_lexer": "ipython3",
   "version": "3.6.8"
  },
  "pycharm": {
   "stem_cell": {
    "cell_type": "raw",
    "metadata": {
     "collapsed": false
    },
    "source": []
   }
  }
 },
 "nbformat": 4,
 "nbformat_minor": 1
}
