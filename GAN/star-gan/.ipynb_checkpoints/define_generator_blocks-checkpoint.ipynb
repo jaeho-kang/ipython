{
 "cells": [
  {
   "cell_type": "code",
   "execution_count": 3,
   "metadata": {},
   "outputs": [],
   "source": [
    "import tensorflow as tf \n",
    "import numpy as np"
   ]
  },
  {
   "cell_type": "markdown",
   "metadata": {},
   "source": [
    "# define Upsample block "
   ]
  },
  {
   "cell_type": "code",
   "execution_count": null,
   "metadata": {},
   "outputs": [],
   "source": [
    "print(tf.__version__)"
   ]
  },
  {
   "cell_type": "code",
   "execution_count": 5,
   "metadata": {},
   "outputs": [],
   "source": [
    "class UpSampleLayer(tf.keras.Model):\n",
    "    def __init__(self, filter, **kwargs):\n",
    "        super(UpSampleLayer, self).__init__()\n",
    "        # set default conv attributes\n",
    "        self.conv_dict = {}\n",
    "        self.conv_dict['filter'] = filter\n",
    "        self.conv_dict['kernel' ] = 4\n",
    "        self.conv_dict['strides'] = 2\n",
    "        self.conv_dict['padding'] = 'same'\n",
    "        self.conv_dict['activation'] = 'relu'\n",
    "        \n",
    "        for key, value in kwargs.items():\n",
    "            self.conv_dict[key] = value\n",
    "\n",
    "        self.conv = tf.keras.layers.Conv2DTranspose(\n",
    "            self.conv_dict['filter'],\n",
    "            kernel_size=self.conv_dict['kernel'], \n",
    "            strides=self.conv_dict['strides'],\n",
    "            padding=self.conv_dict['padding'], \n",
    "            activation=self.conv_dict['activation'])\n",
    "\n",
    "    def call(self, x):\n",
    "        #this for debug\n",
    "        #print(self.conv_dict)\n",
    "        return self.conv(x)"
   ]
  },
  {
   "cell_type": "code",
   "execution_count": 6,
   "metadata": {},
   "outputs": [],
   "source": [
    "class UpSampleBlock(tf.keras.Model):\n",
    "    def __init__(self):\n",
    "        super(UpSampleBlock, self).__init__()\n",
    "        self.cv1 = UpSampleLayer(128, kernel=4, strides=2, padding='same', activation='relu')\n",
    "        self.cv2 = UpSampleLayer(64, kernel=4, strides=2, padding='same', activation='relu')\n",
    "        self.cv3 = UpSampleLayer(3, kernel=7, strides=1, padding='same', activation='relu')\n",
    "\n",
    "    def call(self, x):\n",
    "        x = self.cv1(x)\n",
    "        x = self.cv2(x)\n",
    "        x = self.cv3(x)\n",
    "        return x"
   ]
  },
  {
   "cell_type": "markdown",
   "metadata": {},
   "source": [
    "# Test upsample block"
   ]
  },
  {
   "cell_type": "code",
   "execution_count": 8,
   "metadata": {},
   "outputs": [
    {
     "ename": "RuntimeError",
     "evalue": "dataset.__iter__() is only supported when eager execution is enabled.",
     "output_type": "error",
     "traceback": [
      "\u001b[0;31m---------------------------------------------------------------------------\u001b[0m",
      "\u001b[0;31mRuntimeError\u001b[0m                              Traceback (most recent call last)",
      "\u001b[0;32m<ipython-input-8-ef43f7319767>\u001b[0m in \u001b[0;36m<module>\u001b[0;34m()\u001b[0m\n\u001b[1;32m     14\u001b[0m \u001b[0mtrain_dataset\u001b[0m \u001b[0;34m=\u001b[0m \u001b[0mtrain_dataset\u001b[0m\u001b[0;34m.\u001b[0m\u001b[0mshuffle\u001b[0m\u001b[0;34m(\u001b[0m\u001b[0;36m2\u001b[0m\u001b[0;34m)\u001b[0m\u001b[0;34m.\u001b[0m\u001b[0mbatch\u001b[0m\u001b[0;34m(\u001b[0m\u001b[0;36m2\u001b[0m\u001b[0;34m)\u001b[0m\u001b[0;34m\u001b[0m\u001b[0m\n\u001b[1;32m     15\u001b[0m \u001b[0;34m\u001b[0m\u001b[0m\n\u001b[0;32m---> 16\u001b[0;31m \u001b[0;32mfor\u001b[0m \u001b[0mimg\u001b[0m \u001b[0;32min\u001b[0m \u001b[0mtrain_dataset\u001b[0m\u001b[0;34m.\u001b[0m\u001b[0mtake\u001b[0m\u001b[0;34m(\u001b[0m\u001b[0;36m1\u001b[0m\u001b[0;34m)\u001b[0m \u001b[0;34m:\u001b[0m\u001b[0;34m\u001b[0m\u001b[0m\n\u001b[0m\u001b[1;32m     17\u001b[0m     \u001b[0mprint\u001b[0m\u001b[0;34m(\u001b[0m\u001b[0;34mf'chekck input must be 4 dim :{img.shape}'\u001b[0m\u001b[0;34m)\u001b[0m\u001b[0;34m\u001b[0m\u001b[0m\n\u001b[1;32m     18\u001b[0m \u001b[0;34m\u001b[0m\u001b[0m\n",
      "\u001b[0;32m~/anaconda3/lib/python3.6/site-packages/tensorflow/python/data/ops/dataset_ops.py\u001b[0m in \u001b[0;36m__iter__\u001b[0;34m(self)\u001b[0m\n\u001b[1;32m    165\u001b[0m       \u001b[0;32mreturn\u001b[0m \u001b[0miterator_ops\u001b[0m\u001b[0;34m.\u001b[0m\u001b[0mEagerIterator\u001b[0m\u001b[0;34m(\u001b[0m\u001b[0mself\u001b[0m\u001b[0;34m)\u001b[0m\u001b[0;34m\u001b[0m\u001b[0m\n\u001b[1;32m    166\u001b[0m     \u001b[0;32melse\u001b[0m\u001b[0;34m:\u001b[0m\u001b[0;34m\u001b[0m\u001b[0m\n\u001b[0;32m--> 167\u001b[0;31m       raise RuntimeError(\"dataset.__iter__() is only supported when eager \"\n\u001b[0m\u001b[1;32m    168\u001b[0m                          \"execution is enabled.\")\n\u001b[1;32m    169\u001b[0m \u001b[0;34m\u001b[0m\u001b[0m\n",
      "\u001b[0;31mRuntimeError\u001b[0m: dataset.__iter__() is only supported when eager execution is enabled."
     ]
    }
   ],
   "source": [
    "ub = UpSampleBlock()\n",
    "data_size=10\n",
    "img_width = 128\n",
    "img_height=128\n",
    "img_channel = 3\n",
    "\n",
    "x_data = np.random.normal(size = [data_size, img_width, img_height, img_channel])\n",
    "hair_color = np.random.uniform(low=0, high=3, size=[data_size])\n",
    "gender = np.random.uniform(low=0, high = 1, size=[data_size])\n",
    "old = np.random.uniform(low=0, high=1, size=[data_size])\n",
    "\n",
    "\n",
    "train_dataset = tf.data.Dataset.from_tensor_slices(x_data)\n",
    "train_dataset = train_dataset.shuffle(2).batch(2)\n",
    "\n",
    "for img in train_dataset.take(1) :\n",
    "    print(f'chekck input must be 4 dim :{img.shape}')\n",
    "    \n",
    "    x = ub(img)\n",
    "    print(f'x.shape:{x.shape}')\n",
    "#     l_adv = np.log(d_src(img))\n",
    "    \n",
    "# x = ub(img)"
   ]
  },
  {
   "cell_type": "markdown",
   "metadata": {},
   "source": [
    "# define Down-sample block "
   ]
  },
  {
   "cell_type": "code",
   "execution_count": 5,
   "metadata": {},
   "outputs": [],
   "source": [
    "class DownSampleLayer(tf.keras.Model):\n",
    "    def __init__(self,filter, **kwargs):\n",
    "        super(DownSampleLayer, self).__init__()\n",
    "        # set default conv attributes\n",
    "        self.conv_dict = {}\n",
    "        self.conv_dict['filter'] = filter\n",
    "        self.conv_dict['kernel' ] = 4\n",
    "        self.conv_dict['strides'] = 2\n",
    "        self.conv_dict['padding'] = 'same'\n",
    "        self.conv_dict['activation'] = 'relu'\n",
    "        \n",
    "        for key, value in kwargs.items():\n",
    "            self.conv_dict[key] = value\n",
    "            \n",
    "        self.conv = tf.keras.layers.Conv2D(\n",
    "            self.conv_dict['filter'],\n",
    "            kernel_size=self.conv_dict['kernel'], \n",
    "            strides=self.conv_dict['strides'],\n",
    "            padding=self.conv_dict['padding'], \n",
    "            activation=self.conv_dict['activation'])\n",
    "        \n",
    "    def call(self, x):\n",
    "        return self.conv(x)"
   ]
  },
  {
   "cell_type": "code",
   "execution_count": 6,
   "metadata": {},
   "outputs": [],
   "source": [
    "class DownSampleBlock(tf.keras.Model):\n",
    "    def __init__(self):\n",
    "        super(DownSampleBlock, self).__init__()\n",
    "        self.cv1 = DownSampleLayer(64, kernel=7, strides = 1)\n",
    "        self.cv2 = DownSampleLayer(128, kernel=4, strides = 2)\n",
    "        self.cv3 = DownSampleLayer(256, kernel=4, strides = 2)\n",
    "        \n",
    "    def call(self,x):\n",
    "        x = self.cv1(x)\n",
    "        x = self.cv2(x)\n",
    "        x = self.cv3(x)\n",
    "        return x"
   ]
  },
  {
   "cell_type": "markdown",
   "metadata": {},
   "source": [
    "# Test downsample block"
   ]
  },
  {
   "cell_type": "code",
   "execution_count": 7,
   "metadata": {},
   "outputs": [
    {
     "name": "stdout",
     "output_type": "stream",
     "text": [
      "chekck input must be 4 dim :(2, 128, 128, 3)\n",
      "x.shape:(2, 32, 32, 256)\n"
     ]
    }
   ],
   "source": [
    "db = DownSampleBlock()\n",
    "\n",
    "for img in train_dataset.take(1):\n",
    "    print(f'chekck input must be 4 dim :{img.shape}')\n",
    "    x = db(img)\n",
    "    print(f'x.shape:{x.shape}')"
   ]
  },
  {
   "cell_type": "code",
   "execution_count": 8,
   "metadata": {},
   "outputs": [],
   "source": [
    "class HiddenBlock(tf.keras.Model):\n",
    "    def __init__(self):\n",
    "        super(HiddenBlock, self).__init__()\n",
    "        self.hidden1 = DownSampleLayer(128, kernel=4, strides=2, padding='valid', activation='LeakyReLU')\n",
    "        self.hidden2 = DownSampleLayer(256, kernel=4, strides=2, padding='valid', activation='LeakyReLU')\n",
    "        self.hidden3 = DownSampleLayer(512, kernel=4, strides=2, padding='valid', activation='LeakyReLU')\n",
    "        self.hidden4 = DownSampleLayer(1024, kernel=4, strides=2, padding='valid', activation='LeakyReLU')\n",
    "        self.hidden5 = DownSampleLayer(2048, kernel=4, strides=2, padding='valid', activation='LeakyReLU')\n",
    "\n",
    "    def call(self, input):\n",
    "        output = self.hidden1(input)\n",
    "        output = self.hidden2(output)\n",
    "        output = self.hidden3(output)\n",
    "        output = self.hidden4(output)\n",
    "        output = self.hidden5(output)\n",
    "        return output"
   ]
  },
  {
   "cell_type": "code",
   "execution_count": 9,
   "metadata": {},
   "outputs": [
    {
     "ename": "NameError",
     "evalue": "name 'layers' is not defined",
     "output_type": "error",
     "traceback": [
      "\u001b[0;31m---------------------------------------------------------------------------\u001b[0m",
      "\u001b[0;31mNameError\u001b[0m                                 Traceback (most recent call last)",
      "\u001b[0;32m<ipython-input-9-245bdce4e31f>\u001b[0m in \u001b[0;36m<module>\u001b[0;34m()\u001b[0m\n\u001b[0;32m----> 1\u001b[0;31m \u001b[0;32mclass\u001b[0m \u001b[0mInstanceNormalization\u001b[0m\u001b[0;34m(\u001b[0m\u001b[0mlayers\u001b[0m\u001b[0;34m.\u001b[0m\u001b[0mLayer\u001b[0m\u001b[0;34m)\u001b[0m\u001b[0;34m:\u001b[0m\u001b[0;34m\u001b[0m\u001b[0;34m\u001b[0m\u001b[0m\n\u001b[0m\u001b[1;32m      2\u001b[0m     \"\"\"InstanceNormalization for only 4-rank Tensor (image data)\n\u001b[1;32m      3\u001b[0m     \"\"\"\n\u001b[1;32m      4\u001b[0m     \u001b[0;32mdef\u001b[0m \u001b[0m__init__\u001b[0m\u001b[0;34m(\u001b[0m\u001b[0mself\u001b[0m\u001b[0;34m,\u001b[0m \u001b[0mepsilon\u001b[0m\u001b[0;34m=\u001b[0m\u001b[0;36m1e-5\u001b[0m\u001b[0;34m)\u001b[0m\u001b[0;34m:\u001b[0m\u001b[0;34m\u001b[0m\u001b[0;34m\u001b[0m\u001b[0m\n\u001b[1;32m      5\u001b[0m         \u001b[0msuper\u001b[0m\u001b[0;34m(\u001b[0m\u001b[0mInstanceNormalization\u001b[0m\u001b[0;34m,\u001b[0m \u001b[0mself\u001b[0m\u001b[0;34m)\u001b[0m\u001b[0;34m.\u001b[0m\u001b[0m__init__\u001b[0m\u001b[0;34m(\u001b[0m\u001b[0;34m)\u001b[0m\u001b[0;34m\u001b[0m\u001b[0;34m\u001b[0m\u001b[0m\n",
      "\u001b[0;31mNameError\u001b[0m: name 'layers' is not defined"
     ]
    }
   ],
   "source": [
    "class InstanceNormalization(tf.keras.layers.Layer):\n",
    "    \"\"\"InstanceNormalization for only 4-rank Tensor (image data)\n",
    "    \"\"\"\n",
    "    def __init__(self, epsilon=1e-5):\n",
    "        super(InstanceNormalization, self).__init__()\n",
    "        self.epsilon = epsilon\n",
    "\n",
    "    def build(self, input_shape):\n",
    "        shape = tf.TensorShape(input_shape)\n",
    "        param_shape = shape[-1]\n",
    "        # Create a trainable weight variable for this layer.\n",
    "        self.gamma = self.add_weight(name='gamma',\n",
    "                                     shape=param_shape,\n",
    "                                     initializer='ones',\n",
    "                                     trainable=True)\n",
    "        self.beta = self.add_weight(name='beta',\n",
    "                                    shape=param_shape,\n",
    "                                    initializer='zeros',\n",
    "                                    trainable=True)\n",
    "        # Make sure to call the `build` method at the end\n",
    "        super(InstanceNormalization, self).build(input_shape)\n",
    "        \n",
    "    @tf.function\n",
    "    def call(self, inputs):\n",
    "        # Compute the axes along which to reduce the mean / variance\n",
    "        input_shape = inputs.get_shape()\n",
    "        reduction_axes = [1, 2] # only shape index\n",
    "        mean, variance = tf.nn.moments(inputs, reduction_axes, keep_dims=True)\n",
    "        normalized = (inputs - mean) / tf.sqrt(variance + self.epsilon)\n",
    "        return self.gamma * normalized + self.beta\n"
   ]
  },
  {
   "cell_type": "code",
   "execution_count": null,
   "metadata": {},
   "outputs": [],
   "source": [
    "class ResidualBlock(tf.keras.Model):\n",
    "    def __init__(self, filter, kernel ):\n",
    "        super(ResidualBlock, self).__init__()\n",
    "        self.layer1 = DownSampleLayer(filter, kernel=kernel, activation='relu')\n",
    "        self.bn1 = InstanceNormalization()\n",
    "        self.layer2 = DownSampleLayer(filter, kernel=kernel, activation='none')\n",
    "        self.bn2 = InstanceNormalization()\n",
    "    \n",
    "    @tf.function\n",
    "    def call(self, input):\n",
    "        output = self.layer1(input)\n",
    "        output = self.bn1(output)\n",
    "        output = self.layer2(output)\n",
    "        output = self.bn2(output)\n",
    "        return ReLU(input+output)"
   ]
  },
  {
   "cell_type": "code",
   "execution_count": null,
   "metadata": {},
   "outputs": [],
   "source": [
    "class DiscSrc(tf.keras.Model):\n",
    "    def __init__(self):\n",
    "        super(DiscSrc, self).__init__()\n",
    "        self.cv1 = DownSampleLayer(64, kernel=4, strides=2, padding='valid', activation='LeakyReLU')\n",
    "        self.hidden = HiddenBlock()\n",
    "        self.fc = DownSampleLayer(1, kernel=3, strides=1, padding='valid')\n",
    "\n",
    "    @tf.function\n",
    "    def call(self, input):\n",
    "        output = self.cv1(input)\n",
    "        output = self.hidden(output)\n",
    "        output = self.fc(output)\n",
    "        return output "
   ]
  },
  {
   "cell_type": "code",
   "execution_count": null,
   "metadata": {},
   "outputs": [],
   "source": [
    "class DiscCls(tf.keras.Model):\n",
    "    def __init__(self, unit, kernel):\n",
    "        super(DiscCls, self).__init__()\n",
    "        self.cv1 = DownSampleLayer(64, kernel=4, strides=2, padding='valid', activation='LeakyReLU')\n",
    "        self.hidden = HiddenBlock()\n",
    "        self.fc = DownSampleLayer(unit, kernel=kernel, strides=1, padding='same')\n",
    "\n",
    "    @tf.function\n",
    "    def call(self, input):\n",
    "        output = self.cv1(input)\n",
    "        output = self.hidden(output)\n",
    "        output = self.fc(output)\n",
    "        return output "
   ]
  },
  {
   "cell_type": "code",
   "execution_count": null,
   "metadata": {},
   "outputs": [],
   "source": [
    "class Generator(tf.keras.Model):\n",
    "    def __init__(self, unit, kernel):\n",
    "        super(Generator, self).__init__()\n",
    "        self.ds1 = DownSampleLayer(64, kernel=7, strides=1, padding='valid', activation='ReLU')\n",
    "        self.ds2 = DownSampleLayer(128,kernel=4, strides=2, padding='valid', activation='ReLU')\n",
    "        self.ds3 = DownSampleLayer(256,kernel=4, strides=2, padding='valid', activation='ReLU')\n",
    "        self.hidden1 = HiddenBlock()\n",
    "        self.us1 = UpSampleBlock(128, kernel=4, strides=2, padding='valid', activation='ReLU')\n",
    "        self.us2 = UpSampleBlock(128, kernel=4, strides=2, padding='valid', activation='ReLU')\n",
    "        self.conv = DownSampleLayer(3, kernel=7, strides=1, padding='same', activation='tanh')\n",
    "        \n",
    "    @tf.function       \n",
    "    def call(self, input):\n",
    "        output = self.ds1(input)\n",
    "        output = self.ds2(output)\n",
    "        output = self.ds3(output)\n",
    "        output = self.hidden1(output)\n",
    "        output = self.us1(output)\n",
    "        output = self.us2(output)\n",
    "        output = self.conv(output)\n",
    "        return output "
   ]
  }
 ],
 "metadata": {
  "kernelspec": {
   "display_name": "tf2",
   "language": "python",
   "name": "tf2"
  },
  "language_info": {
   "codemirror_mode": {
    "name": "ipython",
    "version": 3
   },
   "file_extension": ".py",
   "mimetype": "text/x-python",
   "name": "python",
   "nbconvert_exporter": "python",
   "pygments_lexer": "ipython3",
   "version": "3.6.8"
  }
 },
 "nbformat": 4,
 "nbformat_minor": 1
}
