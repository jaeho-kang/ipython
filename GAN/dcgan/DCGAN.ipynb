{
 "cells": [
  {
   "cell_type": "markdown",
   "metadata": {},
   "source": [
    "# DC GAN"
   ]
  },
  {
   "cell_type": "markdown",
   "metadata": {},
   "source": [
    "Deconvolution GAN"
   ]
  },
  {
   "cell_type": "code",
   "execution_count": 1,
   "metadata": {
    "pycharm": {
     "is_executing": false
    }
   },
   "outputs": [
    {
     "name": "stdout",
     "output_type": "stream",
     "text": [
      "2.0.0-alpha0\n"
     ]
    }
   ],
   "source": [
    "import tensorflow as tf\n",
    "tf.enable_eager_execution()\n",
    "import matplotlib.pyplot as plt \n",
    "%matplotlib inline\n",
    "print(tf.__version__)\n",
    "\n",
    "from tensorflow.keras.models import Model \n",
    "from tensorflow.keras.layers import Conv2D, Conv2DTranspose, Dense\n",
    "from tensorflow.keras.layers import BatchNormalization, Reshape, UpSampling2D, MaxPool2D, Flatten\n",
    "import numpy as np \n",
    "\n",
    "import tqdm"
   ]
  },
  {
   "cell_type": "markdown",
   "metadata": {},
   "source": [
    "#  Define Generator"
   ]
  },
  {
   "cell_type": "code",
   "execution_count": 2,
   "metadata": {
    "pycharm": {
     "is_executing": false
    }
   },
   "outputs": [],
   "source": [
    "class Generator(Model):\n",
    "    def __init__(self):\n",
    "        super(Generator, self).__init__()        \n",
    "        self.dense1 = Dense(1024, activation='tanh', input_dim=(100))\n",
    "        self.dense2 = Dense(128*7*7, activation='tanh')\n",
    "        self.bn1 = BatchNormalization()\n",
    "        self.reshape1 = Reshape((7,7,128),input_shape=(128*7*7,))\n",
    "        self.up1 = UpSampling2D(size=(2,2))\n",
    "        self.conv1 = Conv2D(64,(5,5), padding='same', activation='tanh')\n",
    "        self.up2 = UpSampling2D(size=(2,2))\n",
    "        self.conv2 = Conv2D(1,(5,5), padding='same', activation='tanh')\n",
    "        \n",
    "    def __call__(self, x):\n",
    "        x = self.dense1(x)        \n",
    "        x = self.dense2(x)                \n",
    "        x = self.bn1(x)        \n",
    "        x = self.reshape1(x)        \n",
    "        x = self.up1(x)        \n",
    "        x = self.conv1(x)        \n",
    "        x = self.up2(x)        \n",
    "        x = self.conv2(x)        \n",
    "        return x "
   ]
  },
  {
   "cell_type": "code",
   "execution_count": 3,
   "metadata": {
    "pycharm": {
     "is_executing": false
    }
   },
   "outputs": [
    {
     "name": "stdout",
     "output_type": "stream",
     "text": [
      "(1, 100)\n",
      "(1, 28, 28, 1)\n"
     ]
    }
   ],
   "source": [
    "test = tf.random.normal((1,100))\n",
    "print(test.shape)\n",
    "g = Generator()\n",
    "result = g(test[0:])\n",
    "print(result.shape)"
   ]
  },
  {
   "cell_type": "markdown",
   "metadata": {},
   "source": [
    "# Define Discrimator"
   ]
  },
  {
   "cell_type": "code",
   "execution_count": 4,
   "metadata": {
    "pycharm": {
     "is_executing": false
    }
   },
   "outputs": [],
   "source": [
    "class Discrimator(Model):\n",
    "    def __init__(self):\n",
    "        super(Discrimator,self).__init__()\n",
    "        self.conv1 = Conv2D(64, (5,5), padding='same', activation='tanh')\n",
    "        self.maxPool1 = MaxPool2D(pool_size=(2,2))\n",
    "        self.conv2 = Conv2D(128, (5,5), padding='same', activation='tanh')\n",
    "        self.maxPool2 = MaxPool2D(pool_size=(2,2))\n",
    "        self.flatten = Flatten()\n",
    "        self.dense1 = Dense(1024, activation='tanh')\n",
    "        self.dense2 = Dense(1, activation='sigmoid')\n",
    "        \n",
    "    def __call__(self, x):\n",
    "        x = self.conv1(x)\n",
    "        x = self.maxPool1(x)\n",
    "        x = self.conv2(x)\n",
    "        x = self.maxPool2(x)\n",
    "        x = self.flatten(x)\n",
    "        x = self.dense1(x)\n",
    "        x = self.dense2(x)\n",
    "        return x "
   ]
  },
  {
   "cell_type": "code",
   "execution_count": 5,
   "metadata": {
    "pycharm": {
     "is_executing": false
    }
   },
   "outputs": [
    {
     "name": "stdout",
     "output_type": "stream",
     "text": [
      "(1, 28, 28, 1)\n",
      "(1, 1)\n"
     ]
    }
   ],
   "source": [
    "test = tf.random.normal((1,28,28,1))\n",
    "print(test.shape)\n",
    "d = Discrimator()\n",
    "result = d(test)\n",
    "print(result.shape)"
   ]
  },
  {
   "cell_type": "markdown",
   "metadata": {},
   "source": [
    "# Define Z (1024)"
   ]
  },
  {
   "cell_type": "code",
   "execution_count": 6,
   "metadata": {
    "pycharm": {
     "is_executing": false
    }
   },
   "outputs": [],
   "source": [
    "BATCH_SIZE=32\n",
    "LATENT_SIZE=100\n",
    "z = tf.random.uniform(minval=-1,maxval=1,shape=(BATCH_SIZE, LATENT_SIZE), seed=0)"
   ]
  },
  {
   "cell_type": "code",
   "execution_count": 7,
   "metadata": {
    "pycharm": {
     "is_executing": false
    }
   },
   "outputs": [
    {
     "name": "stdout",
     "output_type": "stream",
     "text": [
      "(32, 100)\n"
     ]
    }
   ],
   "source": [
    "print(z.shape)"
   ]
  },
  {
   "cell_type": "code",
   "execution_count": 8,
   "metadata": {},
   "outputs": [],
   "source": [
    "buffer_size =10000 \n",
    "batch_size =1000"
   ]
  },
  {
   "cell_type": "code",
   "execution_count": 9,
   "metadata": {},
   "outputs": [
    {
     "name": "stdout",
     "output_type": "stream",
     "text": [
      "train_imgs : (5923, 28, 28)\n",
      "(5923, 28, 28, 1)\n"
     ]
    }
   ],
   "source": [
    "(train_imgs, train_labels), (_,_)  = tf.keras.datasets.mnist.load_data()\n",
    "train_imgs = train_imgs[train_labels == 0]\n",
    "print(f\"train_imgs : {train_imgs.shape}\")\n",
    "x_train = train_imgs.astype('float32') / 255.0 \n",
    "x_train = x_train.reshape((x_train.shape[0],) + (28, 28, 1)) \n",
    "print(x_train.shape) \n",
    "# Init network \n",
    "\n",
    "train_dataset = tf.data.Dataset.from_tensor_slices(x_train).shuffle(buffer_size).batch(batch_size)"
   ]
  },
  {
   "cell_type": "code",
   "execution_count": 10,
   "metadata": {},
   "outputs": [],
   "source": [
    "def convert_array_to_image(array):\n",
    "    \"\"\"Converts a numpy array to a PIL Image and undoes any rescaling.\"\"\"\n",
    "    img = PIL.Image.fromarray(np.uint8((array + 1.0) / 2.0 * 255), mode='RGB')\n",
    "    return img\n",
    "\n",
    "def generator_loss(generated_output):\n",
    "        return tf.losses.sigmoid_cross_entropy(tf.ones_like(generated_output), logits=generated_output)\n",
    "        \n",
    "def discriminator_loss(real_output, generated_output):\n",
    "    real_loss = tf.losses.sigmoid_cross_entropy(\n",
    "        multi_class_labels=tf.ones_like(real_output), logits=real_output)\n",
    "    \n",
    "    generated_loss = tf.losses.sigmoid_cross_entropy(\n",
    "        multi_class_labels=tf.zeros_like(generated_output), logits=generated_output)\n",
    "    \n",
    "    total_loss = real_loss + generated_loss\n",
    "    return total_loss\n",
    "\n",
    "gen_opt = tf.train.AdamOptimizer(1e-4)\n",
    "dis_opt = tf.train.AdamOptimizer(1e-4)    "
   ]
  },
  {
   "cell_type": "code",
   "execution_count": 11,
   "metadata": {},
   "outputs": [],
   "source": [
    "from tensorflow.losses import sigmoid_cross_entropy\n",
    "\n",
    "@tf.function\n",
    "def train_step(imgs, noise):\n",
    "    total_d_loss = 0.0 \n",
    "    total_a_loss = 0.0 \n",
    "    \n",
    "\n",
    "\n",
    "    with tf.GradientTape() as gen_tape, tf.GradientTape() as dis_tape:\n",
    "        gen_imgs = g(noise)\n",
    "        real_output = d(imgs)\n",
    "        gen_output = d(gen_imgs)\n",
    "        gen_loss = generator_loss(gen_output)\n",
    "        dis_loss= discriminator_loss(real_output, gen_output)\n",
    "\n",
    "    grd_gen = gen_tape.gradient(gen_loss, g.variables)\n",
    "    grd_dis = dis_tape.gradient(dis_loss, d.variables)\n",
    "\n",
    "    gen_opt.apply_gradients(zip(grd_gen, g.variables))\n",
    "    dis_opt.apply_gradients(zip(grd_dis, d.variables))"
   ]
  },
  {
   "cell_type": "code",
   "execution_count": 12,
   "metadata": {
    "pycharm": {
     "is_executing": true
    },
    "scrolled": false
   },
   "outputs": [],
   "source": [
    "def train_and_test(epochs):\n",
    "    tf.reset_default_graph()\n",
    "   \n",
    "    all = 60000\n",
    "    loaded_count = 0\n",
    "\n",
    "    for epoch in range(0, epochs): \n",
    "        if (epoch+1 % 10) == 0 :\n",
    "            print(\"Epoch:\", epoch + 1) \n",
    "        noise = np.random.uniform(-1.0, 1.0, size=[batch_size, 100]) \n",
    "        for imgs in train_dataset:\n",
    "            loaded_count = loaded_count + len(imgs)\n",
    "            train_step(imgs, noise)\n",
    "    noise = np.random.uniform(-1.0, 1.0, size=[batch_size, 100]) \n",
    "    \n",
    "    fake_img = g(noise)\n",
    "    fake_img = np.array(fake_img[0])\n",
    "    fake_img = fake_img.reshape(fake_img.shape[0], fake_img.shape[1])\n",
    "    plt.imshow(fake_img)\n",
    "    plt.show()"
   ]
  },
  {
   "cell_type": "code",
   "execution_count": 19,
   "metadata": {
    "scrolled": false
   },
   "outputs": [
    {
     "data": {
      "image/png": "[encoded data removed]",
      "text/plain": [
       "<Figure size 432x288 with 1 Axes>"
      ]
     },
     "metadata": {
      "needs_background": "light"
     },
     "output_type": "display_data"
    }
   ],
   "source": [
    "plt.imshow(train_imgs[0])\n",
    "plt.show()"
   ]
  },
  {
   "cell_type": "code",
   "execution_count": 14,
   "metadata": {
    "pycharm": {
     "is_executing": false
    }
   },
   "outputs": [
    {
     "data": {
      "image/png": "[encoded data removed]",
      "text/plain": [
       "<Figure size 432x288 with 1 Axes>"
      ]
     },
     "metadata": {
      "needs_background": "light"
     },
     "output_type": "display_data"
    }
   ],
   "source": [
    "train_and_test(1)"
   ]
  },
  {
   "cell_type": "code",
   "execution_count": 15,
   "metadata": {
    "pycharm": {
     "name": "#%%\n"
    }
   },
   "outputs": [
    {
     "data": {
      "image/png": "[encoded data removed]",
      "text/plain": [
       "<Figure size 432x288 with 1 Axes>"
      ]
     },
     "metadata": {
      "needs_background": "light"
     },
     "output_type": "display_data"
    }
   ],
   "source": [
    "train_and_test(10)"
   ]
  },
  {
   "cell_type": "code",
   "execution_count": 16,
   "metadata": {},
   "outputs": [
    {
     "data": {
      "image/png": "[encoded data removed]",
      "text/plain": [
       "<Figure size 432x288 with 1 Axes>"
      ]
     },
     "metadata": {
      "needs_background": "light"
     },
     "output_type": "display_data"
    }
   ],
   "source": [
    "train_and_test(100)"
   ]
  },
  {
   "cell_type": "code",
   "execution_count": 18,
   "metadata": {},
   "outputs": [
    {
     "data": {
      "image/png": "[encoded data removed]",
      "text/plain": [
       "<Figure size 432x288 with 1 Axes>"
      ]
     },
     "metadata": {
      "needs_background": "light"
     },
     "output_type": "display_data"
    }
   ],
   "source": [
    "train_and_test(300)"
   ]
  },
  {
   "cell_type": "code",
   "execution_count": 20,
   "metadata": {},
   "outputs": [
    {
     "data": {
      "image/png": "[encoded data removed]",
      "text/plain": [
       "<Figure size 432x288 with 1 Axes>"
      ]
     },
     "metadata": {
      "needs_background": "light"
     },
     "output_type": "display_data"
    }
   ],
   "source": [
    "train_and_test(500)"
   ]
  },
  {
   "cell_type": "code",
   "execution_count": 21,
   "metadata": {},
   "outputs": [
    {
     "data": {
      "image/png": "[encoded data removed]",
      "text/plain": [
       "<Figure size 432x288 with 1 Axes>"
      ]
     },
     "metadata": {
      "needs_background": "light"
     },
     "output_type": "display_data"
    }
   ],
   "source": [
    "train_and_test(700)"
   ]
  },
  {
   "cell_type": "code",
   "execution_count": null,
   "metadata": {},
   "outputs": [],
   "source": []
  }
 ],
 "metadata": {
  "kernelspec": {
   "display_name": "tf2_py36",
   "language": "python",
   "name": "tf2"
  },
  "language_info": {
   "codemirror_mode": {
    "name": "ipython",
    "version": 3
   },
   "file_extension": ".py",
   "mimetype": "text/x-python",
   "name": "python",
   "nbconvert_exporter": "python",
   "pygments_lexer": "ipython3",
   "version": "3.6.7"
  },
  "latex_envs": {
   "LaTeX_envs_menu_present": true,
   "autoclose": false,
   "autocomplete": true,
   "bibliofile": "biblio.bib",
   "cite_by": "apalike",
   "current_citInitial": 1,
   "eqLabelWithNumbers": true,
   "eqNumInitial": 1,
   "hotkeys": {
    "equation": "Ctrl-E",
    "itemize": "Ctrl-I"
   },
   "labels_anchors": false,
   "latex_user_defs": false,
   "report_style_numbering": false,
   "user_envs_cfg": false
  },
  "pycharm": {
   "stem_cell": {
    "cell_type": "raw",
    "metadata": {
     "collapsed": false
    },
    "source": []
   }
  }
 },
 "nbformat": 4,
 "nbformat_minor": 2
}
