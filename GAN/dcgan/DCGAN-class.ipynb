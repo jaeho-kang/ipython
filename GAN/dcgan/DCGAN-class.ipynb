{
 "cells": [
  {
   "cell_type": "markdown",
   "metadata": {},
   "source": [
    "# DC GAN"
   ]
  },
  {
   "cell_type": "markdown",
   "metadata": {},
   "source": [
    "Deconvolution GAN"
   ]
  },
  {
   "cell_type": "code",
   "execution_count": 102,
   "metadata": {
    "pycharm": {
     "is_executing": false
    }
   },
   "outputs": [
    {
     "name": "stdout",
     "output_type": "stream",
     "text": [
      "2.0.0-alpha0\n"
     ]
    }
   ],
   "source": [
    "import tensorflow as tf\n",
    "# tf.enable_eager_execution()\n",
    "import matplotlib.pyplot as plt \n",
    "import pandas as pd\n",
    "%matplotlib inline\n",
    "print(tf.__version__)"
   ]
  },
  {
   "cell_type": "code",
   "execution_count": 2,
   "metadata": {
    "collapsed": true,
    "pycharm": {
     "is_executing": false,
     "name": "#%%\n"
    }
   },
   "outputs": [],
   "source": [
    "from tensorflow.keras.models import Model \n",
    "from tensorflow.keras.layers import Conv2D, Conv2DTranspose, Dense\n",
    "from tensorflow.keras.layers import BatchNormalization, Reshape, UpSampling2D, MaxPool2D, Flatten\n",
    "import numpy as np \n",
    "\n",
    "import tqdm"
   ]
  },
  {
   "cell_type": "markdown",
   "metadata": {},
   "source": [
    "#  Define Generator"
   ]
  },
  {
   "cell_type": "code",
   "execution_count": 3,
   "metadata": {
    "collapsed": true,
    "pycharm": {
     "is_executing": false
    }
   },
   "outputs": [],
   "source": [
    "class Generator(Model):\n",
    "    def __init__(self):\n",
    "        super(Generator, self).__init__()        \n",
    "        self.dense1 = Dense(1024, activation='tanh', input_dim=(100))\n",
    "        self.dense2 = Dense(128*7*7, activation='tanh')\n",
    "        self.bn1 = BatchNormalization()\n",
    "        self.reshape1 = Reshape((7,7,128),input_shape=(128*7*7,))\n",
    "        self.up1 = UpSampling2D(size=(2,2))\n",
    "        self.conv1 = Conv2D(64,(5,5), padding='same', activation='tanh')\n",
    "        self.up2 = UpSampling2D(size=(2,2))\n",
    "        self.conv2 = Conv2D(1,(5,5), padding='same', activation='tanh')\n",
    "        \n",
    "    def __call__(self, x):\n",
    "        x = self.dense1(x)        \n",
    "        x = self.dense2(x)                \n",
    "        x = self.bn1(x)        \n",
    "        x = self.reshape1(x)        \n",
    "        x = self.up1(x)        \n",
    "        x = self.conv1(x)        \n",
    "        x = self.up2(x)        \n",
    "        x = self.conv2(x)        \n",
    "        return x "
   ]
  },
  {
   "cell_type": "markdown",
   "metadata": {},
   "source": [
    "generator 생성, 동작 테스트 "
   ]
  },
  {
   "cell_type": "code",
   "execution_count": 4,
   "metadata": {
    "pycharm": {
     "is_executing": false
    }
   },
   "outputs": [
    {
     "name": "stdout",
     "output_type": "stream",
     "text": [
      "(1, 100)\n",
      "(1, 28, 28, 1)\n"
     ]
    }
   ],
   "source": [
    "test = tf.random.normal((1,100), dtype=tf.dtypes.float32)\n",
    "print(test.shape)\n",
    "g = Generator()\n",
    "result = g(test[0:])\n",
    "print(result.shape)"
   ]
  },
  {
   "cell_type": "markdown",
   "metadata": {},
   "source": [
    "# Define Discrimator"
   ]
  },
  {
   "cell_type": "code",
   "execution_count": 59,
   "metadata": {
    "collapsed": true,
    "pycharm": {
     "is_executing": false
    }
   },
   "outputs": [],
   "source": [
    "class Discrimator(Model):\n",
    "    def __init__(self):\n",
    "        super(Discrimator,self).__init__()\n",
    "        self.conv1 = Conv2D(64, (5,5), padding='same', activation='tanh')\n",
    "        self.maxPool1 = MaxPool2D(pool_size=(2,2))\n",
    "        self.conv2 = Conv2D(128, (5,5), padding='same', activation='tanh')\n",
    "        self.maxPool2 = MaxPool2D(pool_size=(2,2))\n",
    "        self.flatten = Flatten()\n",
    "        self.dense1 = Dense(1024, activation='tanh')\n",
    "        self.dense2 = Dense(1, activation='sigmoid')\n",
    "        \n",
    "    def __call__(self, x):\n",
    "        x = self.conv1(x)\n",
    "        x = self.maxPool1(x)\n",
    "        x = self.conv2(x)\n",
    "        x = self.maxPool2(x)\n",
    "        x = self.flatten(x)\n",
    "        x = self.dense1(x)\n",
    "        x = self.dense2(x)\n",
    "        return x "
   ]
  },
  {
   "cell_type": "markdown",
   "metadata": {},
   "source": [
    "discrimator 생성, 동작 테스트 "
   ]
  },
  {
   "cell_type": "code",
   "execution_count": 60,
   "metadata": {
    "pycharm": {
     "is_executing": false
    }
   },
   "outputs": [
    {
     "name": "stdout",
     "output_type": "stream",
     "text": [
      "(1, 28, 28, 1)\n",
      "(1, 1)\n",
      "tf.Tensor([[0.40194932]], shape=(1, 1), dtype=float32)\n"
     ]
    }
   ],
   "source": [
    "test = tf.random.normal((1,28,28,1), dtype=tf.dtypes.float32)\n",
    "print(test.shape)\n",
    "d = Discrimator()\n",
    "result = d(test)\n",
    "print(result.shape)\n",
    "print(result)"
   ]
  },
  {
   "cell_type": "markdown",
   "metadata": {},
   "source": [
    "# Define Z (1024)"
   ]
  },
  {
   "cell_type": "code",
   "execution_count": 61,
   "metadata": {
    "collapsed": true,
    "pycharm": {
     "is_executing": false
    }
   },
   "outputs": [],
   "source": [
    "BATCH_SIZE=32\n",
    "LATENT_SIZE=100\n",
    "z = tf.random.uniform(minval=-1,maxval=1,shape=(BATCH_SIZE, LATENT_SIZE), seed=0, dtype=tf.dtypes.float32)"
   ]
  },
  {
   "cell_type": "code",
   "execution_count": 62,
   "metadata": {
    "pycharm": {
     "is_executing": false
    }
   },
   "outputs": [
    {
     "name": "stdout",
     "output_type": "stream",
     "text": [
      "(32, 100)\n"
     ]
    }
   ],
   "source": [
    "print(z.shape)"
   ]
  },
  {
   "cell_type": "code",
   "execution_count": 63,
   "metadata": {
    "collapsed": true,
    "pycharm": {
     "is_executing": false
    }
   },
   "outputs": [],
   "source": [
    "buffer_size =10000 \n",
    "batch_size =1000"
   ]
  },
  {
   "cell_type": "code",
   "execution_count": 64,
   "metadata": {
    "pycharm": {
     "is_executing": false
    }
   },
   "outputs": [
    {
     "name": "stdout",
     "output_type": "stream",
     "text": [
      "train_imgs : (5923, 28, 28)\n",
      "(5923, 28, 28, 1)\n"
     ]
    }
   ],
   "source": [
    "(train_imgs, train_labels), (_,_)  = tf.keras.datasets.mnist.load_data()\n",
    "train_imgs = train_imgs[train_labels == 0]\n",
    "print(f\"train_imgs : {train_imgs.shape}\")\n",
    "x_train = train_imgs.astype('float32') / 255.0 \n",
    "x_train = x_train.reshape((x_train.shape[0],) + (28, 28, 1)) \n",
    "print(x_train.shape) \n",
    "\n",
    "train_dataset = tf.data.Dataset.from_tensor_slices(x_train).shuffle(buffer_size).batch(batch_size)"
   ]
  },
  {
   "cell_type": "code",
   "execution_count": 133,
   "metadata": {},
   "outputs": [
    {
     "name": "stdout",
     "output_type": "stream",
     "text": [
      "tf.Tensor(3.4199001308743755, shape=(), dtype=float64)\n",
      "tf.Tensor(17.678743399222988, shape=(), dtype=float64)\n",
      "tf.Tensor(0.0, shape=(), dtype=float64)\n",
      "tf.Tensor(0.0, shape=(), dtype=float64)\n",
      "tf.Tensor(0.5502294913046434, shape=(), dtype=float64)\n",
      "tf.Tensor(0.8835628246379766, shape=(), dtype=float64)\n",
      "tf.Tensor([0.40318605 0.69314718 0.55435524], shape=(3,), dtype=float64)\n"
     ]
    }
   ],
   "source": [
    "test_array = np.array([0.7,0.0,0.3])\n",
    "print(tf.keras.losses.categorical_crossentropy(\n",
    "            y_true=tf.ones_like(test_array), y_pred=test_array, from_logits=True))\n",
    "\n",
    "print(tf.keras.losses.categorical_crossentropy(\n",
    "            y_true=tf.ones_like(test_array), y_pred=test_array))\n",
    "\n",
    "print(tf.keras.losses.categorical_crossentropy(\n",
    "            y_true=tf.zeros_like(test_array), y_pred=test_array))\n",
    "\n",
    "print(tf.keras.losses.categorical_crossentropy(\n",
    "            y_true=tf.zeros_like(test_array), y_pred=test_array, from_logits=True))\n",
    "\n",
    "print(tf.keras.losses.binary_crossentropy(\n",
    "            y_true=tf.ones_like(test_array), y_pred=test_array, from_logits=True))\n",
    "print(tf.keras.losses.binary_crossentropy(\n",
    "            y_true=tf.zeros_like(test_array), y_pred=test_array, from_logits=True))\n",
    "\n",
    "print(tf.nn.sigmoid_cross_entropy_with_logits(labels=tf.ones_like(test_array), logits=test_array))"
   ]
  },
  {
   "cell_type": "markdown",
   "metadata": {},
   "source": [
    "loss functions"
   ]
  },
  {
   "cell_type": "code",
   "execution_count": 65,
   "metadata": {
    "collapsed": true,
    "pycharm": {
     "is_executing": false
    }
   },
   "outputs": [],
   "source": [
    "def convert_array_to_image(array):\n",
    "    \"\"\"Converts a numpy array to a PIL Image and undoes any rescaling.\"\"\"\n",
    "    img = PIL.Image.fromarray(np.uint8((array + 1.0) / 2.0 * 255), mode='RGB')\n",
    "    return img\n"
   ]
  },
  {
   "cell_type": "code",
   "execution_count": 66,
   "metadata": {
    "collapsed": true,
    "pycharm": {
     "is_executing": false,
     "name": "#%%\n"
    }
   },
   "outputs": [],
   "source": [
    "# ?tf.keras.losses.categorical_crossentropy"
   ]
  },
  {
   "cell_type": "code",
   "execution_count": 141,
   "metadata": {
    "pycharm": {
     "is_executing": true
    }
   },
   "outputs": [],
   "source": [
    "class GAN_Learner:\n",
    "    def __init__(self, batch_size):\n",
    "        self.batch_size = batch_size\n",
    "        self.gen_opt = tf.keras.optimizers.Adam(1e-4)\n",
    "        self.dis_opt = tf.keras.optimizers.Adam(1e-4)\n",
    "        self.gen_loss = tf.keras.metrics.Mean(name=\"gen_loss\")\n",
    "        self.dis_loss = tf.keras.metrics.Mean(name=\"dis_loss\")\n",
    "        self.g_list = []\n",
    "        self.d_list = []\n",
    "        \n",
    "    def generator_loss(self, generated_output):\n",
    "        return tf.nn.sigmoid_cross_entropy_with_logits(labels=tf.ones_like(generated_output), logits=generated_output)\n",
    "       \n",
    "    def discriminator_loss(self, real_output, generated_output):\n",
    "        real_loss = tf.nn.sigmoid_cross_entropy_with_logits(labels=tf.ones_like(real_output), logits=real_output)\n",
    "        generated_loss = tf.nn.sigmoid_cross_entropy_with_logits(labels=tf.zeros_like(generated_output), logits=generated_output)\n",
    "        total_loss = real_loss + generated_loss\n",
    "        return total_loss\n",
    "    \n",
    "    def get_dataset(self):\n",
    "        (train_imgs, train_labels), (_,_)  = tf.keras.datasets.mnist.load_data()\n",
    "        train_imgs = train_imgs[train_labels == 0]\n",
    "        print(f\"train_imgs : {train_imgs.shape}\")\n",
    "        x_train = train_imgs.astype('float32') / 255.0 \n",
    "        x_train = x_train.reshape((x_train.shape[0],) + (28, 28, 1)) \n",
    "        new_len = x_train.shape[0] // batch_size\n",
    "        x_train = x_train[:new_len*batch_size]\n",
    "        train_dataset = tf.data.Dataset.from_tensor_slices(x_train).shuffle(buffer_size).batch(self.batch_size)\n",
    "        return train_dataset\n",
    "        \n",
    "    def train_test(self, epochs):\n",
    "        try :\n",
    "            if tf.reset_default_graph :\n",
    "                tf.reset_default_graph()\n",
    "        except :\n",
    "            pass        \n",
    "\n",
    "        all = 60000\n",
    "        loaded_count = 0\n",
    "        self.g = Generator()\n",
    "        self.d = Discrimator()\n",
    "        train_dataset = self.get_dataset()\n",
    "\n",
    "        for epoch in range(0, epochs): \n",
    "#             if (epoch+1 % 10) == 0 :\n",
    "#                 print(\"Epoch:\", epoch + 1) \n",
    "\n",
    "            noise = tf.random.uniform(minval=-1,maxval=1,shape=(self.batch_size, LATENT_SIZE), seed=0, dtype=tf.dtypes.float32)\n",
    "\n",
    "            for imgs in train_dataset:\n",
    "                if len(imgs) != self.batch_size :\n",
    "                    print(f\"load custom length:{len(imgs)}\")\n",
    "                    noise = tf.random.uniform(minval=-1,maxval=1,shape=(len(imgs), LATENT_SIZE), seed=0, dtype=tf.dtypes.float32)\n",
    "                loaded_count = loaded_count + len(imgs)\n",
    "                self.train_step(imgs, noise)\n",
    "                self.g_list.append(self.gen_loss.result().numpy())\n",
    "                self.d_list.append(self.dis_loss.result().numpy())\n",
    "                \n",
    "            print(f\"epoch:{epoch} gen_loss:{self.gen_loss.result()},dis_loss:{self.dis_loss.result()}\")            \n",
    "#         print(f\"load img count : {loaded_count}\")\n",
    "\n",
    "        noise = np.random.uniform(-1.0, 1.0, size=[self.batch_size, 100])     \n",
    "        fake_img = self.g(noise)\n",
    "        fake_img = np.array(fake_img[0])\n",
    "        fake_img = fake_img.reshape(fake_img.shape[0], fake_img.shape[1])\n",
    "        plt.imshow(fake_img)\n",
    "        plt.show()\n",
    "        df = pd.DataFrame({\"g\":self.g_list,\"d\":self.d_list})\n",
    "#         print(df)\n",
    "        df.plot()\n",
    "        \n",
    "        \n",
    "    @tf.function\n",
    "    def train_step(self, imgs, noise):\n",
    "        total_d_loss = 0.0 \n",
    "        total_a_loss = 0.0 \n",
    "\n",
    "        with tf.GradientTape() as gen_tape, tf.GradientTape() as dis_tape:\n",
    "\n",
    "            gen_imgs = self.g(noise)\n",
    "            # genearator를 통해서 fake 이미지 생성 \n",
    "\n",
    "            real_output = self.d(imgs)\n",
    "            # discrimator를 통해서 이미지에 대한 진짜, 가짜 여부 판별 \n",
    "\n",
    "            gen_output = self.d(gen_imgs)\n",
    "            # 생성된 이미지에 대한 진짜, 가짜 여부 판별 \n",
    "\n",
    "            gen_loss = self.generator_loss(gen_output)\n",
    "            # generator loss \n",
    "\n",
    "            dis_loss= self.discriminator_loss(real_output, gen_output)\n",
    "            # discriminator loss \n",
    "            \n",
    "            self.gen_loss(gen_loss)\n",
    "            self.dis_loss(dis_loss)            \n",
    "\n",
    "        grd_gen = gen_tape.gradient(gen_loss, self.g.trainable_variables)\n",
    "        grd_dis = dis_tape.gradient(dis_loss, self.d.trainable_variables)\n",
    "        # gradient 생성 \n",
    "\n",
    "        self.gen_opt.apply_gradients(zip(grd_gen, self.g.trainable_variables))\n",
    "        self.dis_opt.apply_gradients(zip(grd_dis, self.d.trainable_variables))\n",
    "        # bp 수행 \n",
    "#         print(f\"gen_loss:{gen_loss}, dis_loss:{dis_loss}\")"
   ]
  },
  {
   "cell_type": "code",
   "execution_count": 142,
   "metadata": {
    "pycharm": {
     "is_executing": true
    },
    "scrolled": false
   },
   "outputs": [
    {
     "name": "stdout",
     "output_type": "stream",
     "text": [
      "train_imgs : (5923, 28, 28)\n",
      "epoch:0 gen_loss:0.47263583540916443,dis_loss:1.387082576751709\n"
     ]
    },
    {
     "data": {
      "image/png": "[encoded data removed]",
      "text/plain": [
       "<Figure size 432x288 with 1 Axes>"
      ]
     },
     "metadata": {
      "needs_background": "light"
     },
     "output_type": "display_data"
    },
    {
     "data": {
      "image/png": "[encoded data removed]",
      "text/plain": [
       "<Figure size 432x288 with 1 Axes>"
      ]
     },
     "metadata": {
      "needs_background": "light"
     },
     "output_type": "display_data"
    }
   ],
   "source": [
    "learner = GAN_Learner(100)\n",
    "learner.train_test(1)"
   ]
  },
  {
   "cell_type": "code",
   "execution_count": 143,
   "metadata": {
    "pycharm": {
     "is_executing": false
    },
    "scrolled": true
   },
   "outputs": [
    {
     "data": {
      "image/png": "[encoded data removed]",
      "text/plain": [
       "<Figure size 432x288 with 1 Axes>"
      ]
     },
     "metadata": {
      "needs_background": "light"
     },
     "output_type": "display_data"
    }
   ],
   "source": [
    "plt.imshow(train_imgs[0])\n",
    "plt.show()"
   ]
  },
  {
   "cell_type": "code",
   "execution_count": 148,
   "metadata": {
    "pycharm": {
     "is_executing": false
    }
   },
   "outputs": [
    {
     "name": "stdout",
     "output_type": "stream",
     "text": [
      "train_imgs : (5923, 28, 28)\n",
      "epoch:0 gen_loss:0.48407164216041565,dis_loss:1.3430819511413574\n",
      "epoch:1 gen_loss:0.5120745301246643,dis_loss:1.3019496202468872\n",
      "epoch:2 gen_loss:0.5138278603553772,dis_loss:1.3083720207214355\n",
      "epoch:3 gen_loss:0.508235514163971,dis_loss:1.315145492553711\n",
      "epoch:4 gen_loss:0.5015600919723511,dis_loss:1.3242107629776\n",
      "epoch:5 gen_loss:0.4965462386608124,dis_loss:1.3311302661895752\n",
      "epoch:6 gen_loss:0.5081950426101685,dis_loss:1.3113335371017456\n",
      "epoch:7 gen_loss:0.5175204873085022,dis_loss:1.300062656402588\n",
      "epoch:8 gen_loss:0.5242787599563599,dis_loss:1.2874319553375244\n",
      "epoch:9 gen_loss:0.5287873148918152,dis_loss:1.27882981300354\n",
      "epoch:10 gen_loss:0.5306997299194336,dis_loss:1.274527668952942\n",
      "epoch:11 gen_loss:0.5390092730522156,dis_loss:1.2605230808258057\n",
      "epoch:12 gen_loss:0.5498508214950562,dis_loss:1.2480907440185547\n",
      "epoch:13 gen_loss:0.5566104650497437,dis_loss:1.2380034923553467\n",
      "epoch:14 gen_loss:0.5593300461769104,dis_loss:1.2329778671264648\n",
      "epoch:15 gen_loss:0.5595062971115112,dis_loss:1.2320632934570312\n",
      "epoch:16 gen_loss:0.5590234994888306,dis_loss:1.23256254196167\n",
      "epoch:17 gen_loss:0.5635644793510437,dis_loss:1.228315830230713\n",
      "epoch:18 gen_loss:0.5693598985671997,dis_loss:1.2207802534103394\n",
      "epoch:19 gen_loss:0.572472095489502,dis_loss:1.2147173881530762\n",
      "epoch:20 gen_loss:0.5774702429771423,dis_loss:1.2083717584609985\n",
      "epoch:21 gen_loss:0.581457257270813,dis_loss:1.2025940418243408\n",
      "epoch:22 gen_loss:0.584428071975708,dis_loss:1.1969952583312988\n",
      "epoch:23 gen_loss:0.5871429443359375,dis_loss:1.1922118663787842\n",
      "epoch:24 gen_loss:0.5881994366645813,dis_loss:1.1907440423965454\n",
      "epoch:25 gen_loss:0.585597038269043,dis_loss:1.194803237915039\n",
      "epoch:26 gen_loss:0.5821926593780518,dis_loss:1.2000035047531128\n",
      "epoch:27 gen_loss:0.578825056552887,dis_loss:1.2050626277923584\n",
      "epoch:28 gen_loss:0.575643002986908,dis_loss:1.2098678350448608\n",
      "epoch:29 gen_loss:0.5766244530677795,dis_loss:1.2079490423202515\n",
      "epoch:30 gen_loss:0.5803480744361877,dis_loss:1.2020577192306519\n",
      "epoch:31 gen_loss:0.583482027053833,dis_loss:1.1965389251708984\n",
      "epoch:32 gen_loss:0.5857782959938049,dis_loss:1.192381739616394\n",
      "epoch:33 gen_loss:0.5873243808746338,dis_loss:1.1894433498382568\n",
      "epoch:34 gen_loss:0.5887591242790222,dis_loss:1.1867080926895142\n",
      "epoch:35 gen_loss:0.5908020734786987,dis_loss:1.183090090751648\n",
      "epoch:36 gen_loss:0.5935483574867249,dis_loss:1.1789352893829346\n",
      "epoch:37 gen_loss:0.5960415005683899,dis_loss:1.1745997667312622\n",
      "epoch:38 gen_loss:0.598141610622406,dis_loss:1.170830249786377\n",
      "epoch:39 gen_loss:0.6002338528633118,dis_loss:1.1671162843704224\n",
      "epoch:40 gen_loss:0.6023836731910706,dis_loss:1.1636857986450195\n",
      "epoch:41 gen_loss:0.6043494343757629,dis_loss:1.160375714302063\n",
      "epoch:42 gen_loss:0.6059589385986328,dis_loss:1.157463788986206\n",
      "epoch:43 gen_loss:0.6077120304107666,dis_loss:1.154756784439087\n",
      "epoch:44 gen_loss:0.6091634035110474,dis_loss:1.1522696018218994\n",
      "epoch:45 gen_loss:0.6106047034263611,dis_loss:1.1500582695007324\n",
      "epoch:46 gen_loss:0.6118534803390503,dis_loss:1.1480566263198853\n",
      "epoch:47 gen_loss:0.6131590604782104,dis_loss:1.1461678743362427\n",
      "epoch:48 gen_loss:0.6142498254776001,dis_loss:1.144484043121338\n",
      "epoch:49 gen_loss:0.6152158975601196,dis_loss:1.1432061195373535\n",
      "epoch:50 gen_loss:0.6161302328109741,dis_loss:1.1421438455581665\n",
      "epoch:51 gen_loss:0.6168418526649475,dis_loss:1.1415413618087769\n",
      "epoch:52 gen_loss:0.617547869682312,dis_loss:1.1410269737243652\n",
      "epoch:53 gen_loss:0.6183083653450012,dis_loss:1.1403099298477173\n",
      "epoch:54 gen_loss:0.6191830039024353,dis_loss:1.1391775608062744\n",
      "epoch:55 gen_loss:0.6200611591339111,dis_loss:1.1379832029342651\n",
      "epoch:56 gen_loss:0.6208872199058533,dis_loss:1.1369973421096802\n",
      "epoch:57 gen_loss:0.6215819120407104,dis_loss:1.1365389823913574\n",
      "epoch:58 gen_loss:0.6221982836723328,dis_loss:1.1363273859024048\n",
      "epoch:59 gen_loss:0.6229946613311768,dis_loss:1.1356863975524902\n",
      "epoch:60 gen_loss:0.6238793134689331,dis_loss:1.1346335411071777\n",
      "epoch:61 gen_loss:0.6247571110725403,dis_loss:1.1334267854690552\n",
      "epoch:62 gen_loss:0.6255715489387512,dis_loss:1.1322009563446045\n",
      "epoch:63 gen_loss:0.6263868808746338,dis_loss:1.1310333013534546\n",
      "epoch:64 gen_loss:0.627213180065155,dis_loss:1.1298396587371826\n",
      "epoch:65 gen_loss:0.6280487775802612,dis_loss:1.1285806894302368\n",
      "epoch:66 gen_loss:0.6288912892341614,dis_loss:1.1272523403167725\n",
      "epoch:67 gen_loss:0.6297517418861389,dis_loss:1.125861406326294\n",
      "epoch:68 gen_loss:0.630587100982666,dis_loss:1.1244910955429077\n",
      "epoch:69 gen_loss:0.6313733458518982,dis_loss:1.1231292486190796\n",
      "epoch:70 gen_loss:0.6321679949760437,dis_loss:1.1218323707580566\n",
      "epoch:71 gen_loss:0.6329293847084045,dis_loss:1.12054443359375\n",
      "epoch:72 gen_loss:0.6336517333984375,dis_loss:1.1192822456359863\n",
      "epoch:73 gen_loss:0.6343833208084106,dis_loss:1.1180660724639893\n",
      "epoch:74 gen_loss:0.6351034641265869,dis_loss:1.1168420314788818\n",
      "epoch:75 gen_loss:0.6357669234275818,dis_loss:1.1156564950942993\n",
      "epoch:76 gen_loss:0.6364258527755737,dis_loss:1.1145141124725342\n",
      "epoch:77 gen_loss:0.6370864510536194,dis_loss:1.1134145259857178\n",
      "epoch:78 gen_loss:0.6377063393592834,dis_loss:1.1123411655426025\n",
      "epoch:79 gen_loss:0.6382925510406494,dis_loss:1.1113173961639404\n",
      "epoch:80 gen_loss:0.6388677358627319,dis_loss:1.11037278175354\n",
      "epoch:81 gen_loss:0.639449417591095,dis_loss:1.1094218492507935\n",
      "epoch:82 gen_loss:0.6399927735328674,dis_loss:1.1085221767425537\n",
      "epoch:83 gen_loss:0.6405156254768372,dis_loss:1.1076467037200928\n",
      "epoch:84 gen_loss:0.6410098075866699,dis_loss:1.1068421602249146\n",
      "epoch:85 gen_loss:0.6414834856987,dis_loss:1.1061042547225952\n",
      "epoch:86 gen_loss:0.6419770121574402,dis_loss:1.1053558588027954\n",
      "epoch:87 gen_loss:0.6424716711044312,dis_loss:1.1045855283737183\n",
      "epoch:88 gen_loss:0.6429409980773926,dis_loss:1.103846788406372\n",
      "epoch:89 gen_loss:0.6433848738670349,dis_loss:1.1031605005264282\n",
      "epoch:90 gen_loss:0.6438096165657043,dis_loss:1.1025240421295166\n",
      "epoch:91 gen_loss:0.6442141532897949,dis_loss:1.1019175052642822\n",
      "epoch:92 gen_loss:0.6445985436439514,dis_loss:1.1013634204864502\n",
      "epoch:93 gen_loss:0.6449443101882935,dis_loss:1.1008632183074951\n",
      "epoch:94 gen_loss:0.6452620625495911,dis_loss:1.1004582643508911\n",
      "epoch:95 gen_loss:0.6457409262657166,dis_loss:1.0999680757522583\n",
      "epoch:96 gen_loss:0.6460205316543579,dis_loss:1.0993928909301758\n",
      "epoch:97 gen_loss:0.6464293599128723,dis_loss:1.0989104509353638\n",
      "epoch:98 gen_loss:0.6467587947845459,dis_loss:1.098504662513733\n",
      "epoch:99 gen_loss:0.6470780968666077,dis_loss:1.0979092121124268\n"
     ]
    },
    {
     "data": {
      "image/png": "[encoded data removed]",
      "text/plain": [
       "<Figure size 432x288 with 1 Axes>"
      ]
     },
     "metadata": {
      "needs_background": "light"
     },
     "output_type": "display_data"
    },
    {
     "data": {
      "image/png": "[encoded data removed]",
      "text/plain": [
       "<Figure size 432x288 with 1 Axes>"
      ]
     },
     "metadata": {
      "needs_background": "light"
     },
     "output_type": "display_data"
    }
   ],
   "source": [
    " GAN_Learner(1000).train_test(100)"
   ]
  },
  {
   "cell_type": "code",
   "execution_count": 150,
   "metadata": {
    "pycharm": {
     "name": "#%%\n"
    }
   },
   "outputs": [
    {
     "name": "stdout",
     "output_type": "stream",
     "text": [
      "train_imgs : (5923, 28, 28)\n",
      "epoch:0 gen_loss:0.48647812008857727,dis_loss:1.3383883237838745\n",
      "epoch:1 gen_loss:0.49271026253700256,dis_loss:1.3453096151351929\n",
      "epoch:2 gen_loss:0.4797667860984802,dis_loss:1.3618742227554321\n",
      "epoch:3 gen_loss:0.4825778305530548,dis_loss:1.3533198833465576\n",
      "epoch:4 gen_loss:0.49828043580055237,dis_loss:1.3298453092575073\n",
      "epoch:5 gen_loss:0.5073345303535461,dis_loss:1.3124438524246216\n",
      "epoch:6 gen_loss:0.5251124501228333,dis_loss:1.283160924911499\n",
      "epoch:7 gen_loss:0.5406240224838257,dis_loss:1.2610379457473755\n",
      "epoch:8 gen_loss:0.5415129065513611,dis_loss:1.2588591575622559\n",
      "epoch:9 gen_loss:0.5508663058280945,dis_loss:1.2492761611938477\n",
      "epoch:10 gen_loss:0.5603199005126953,dis_loss:1.2357925176620483\n",
      "epoch:11 gen_loss:0.5680157542228699,dis_loss:1.2229695320129395\n",
      "epoch:12 gen_loss:0.5762739777565002,dis_loss:1.2089312076568604\n",
      "epoch:13 gen_loss:0.5780307650566101,dis_loss:1.205575704574585\n",
      "epoch:14 gen_loss:0.5735544562339783,dis_loss:1.2124199867248535\n",
      "epoch:15 gen_loss:0.5690757036209106,dis_loss:1.219070315361023\n",
      "epoch:16 gen_loss:0.5637959837913513,dis_loss:1.2271232604980469\n",
      "epoch:17 gen_loss:0.5696922540664673,dis_loss:1.2174609899520874\n",
      "epoch:18 gen_loss:0.5741592049598694,dis_loss:1.2095857858657837\n",
      "epoch:19 gen_loss:0.5771013498306274,dis_loss:1.2042500972747803\n",
      "epoch:20 gen_loss:0.5816128253936768,dis_loss:1.196986198425293\n",
      "epoch:21 gen_loss:0.5862029194831848,dis_loss:1.1890325546264648\n",
      "epoch:22 gen_loss:0.5907004475593567,dis_loss:1.1813733577728271\n",
      "epoch:23 gen_loss:0.5948894023895264,dis_loss:1.1743621826171875\n",
      "epoch:24 gen_loss:0.5982390642166138,dis_loss:1.1686359643936157\n",
      "epoch:25 gen_loss:0.6013538241386414,dis_loss:1.1634831428527832\n",
      "epoch:26 gen_loss:0.6043589115142822,dis_loss:1.1586155891418457\n",
      "epoch:27 gen_loss:0.607005774974823,dis_loss:1.1544190645217896\n",
      "epoch:28 gen_loss:0.6094839572906494,dis_loss:1.1505405902862549\n",
      "epoch:29 gen_loss:0.6116662621498108,dis_loss:1.1471524238586426\n",
      "epoch:30 gen_loss:0.6137657165527344,dis_loss:1.1438578367233276\n",
      "epoch:31 gen_loss:0.6157698035240173,dis_loss:1.1408518552780151\n",
      "epoch:32 gen_loss:0.6176462173461914,dis_loss:1.1379979848861694\n",
      "epoch:33 gen_loss:0.6193619966506958,dis_loss:1.135478138923645\n",
      "epoch:34 gen_loss:0.6208789944648743,dis_loss:1.1333985328674316\n",
      "epoch:35 gen_loss:0.6222367286682129,dis_loss:1.1318007707595825\n",
      "epoch:36 gen_loss:0.6236655712127686,dis_loss:1.1299570798873901\n",
      "epoch:37 gen_loss:0.6251324415206909,dis_loss:1.1278350353240967\n",
      "epoch:38 gen_loss:0.6265792846679688,dis_loss:1.125861644744873\n",
      "epoch:39 gen_loss:0.6279120445251465,dis_loss:1.1238056421279907\n",
      "epoch:40 gen_loss:0.6293302774429321,dis_loss:1.1216667890548706\n",
      "epoch:41 gen_loss:0.6306085586547852,dis_loss:1.11960768699646\n",
      "epoch:42 gen_loss:0.6317415237426758,dis_loss:1.117733120918274\n",
      "epoch:43 gen_loss:0.6329923272132874,dis_loss:1.1157528162002563\n",
      "epoch:44 gen_loss:0.6341572999954224,dis_loss:1.1137341260910034\n",
      "epoch:45 gen_loss:0.6353293061256409,dis_loss:1.1117627620697021\n",
      "epoch:46 gen_loss:0.63653165102005,dis_loss:1.109748363494873\n",
      "epoch:47 gen_loss:0.6375620365142822,dis_loss:1.108007788658142\n",
      "epoch:48 gen_loss:0.6385179162025452,dis_loss:1.1063706874847412\n",
      "epoch:49 gen_loss:0.6394205689430237,dis_loss:1.1048780679702759\n",
      "epoch:50 gen_loss:0.6402662396430969,dis_loss:1.1034865379333496\n",
      "epoch:51 gen_loss:0.6412078142166138,dis_loss:1.1020138263702393\n",
      "epoch:52 gen_loss:0.6420791149139404,dis_loss:1.10060453414917\n",
      "epoch:53 gen_loss:0.6427983045578003,dis_loss:1.0992885828018188\n",
      "epoch:54 gen_loss:0.6436242461204529,dis_loss:1.0979350805282593\n",
      "epoch:55 gen_loss:0.6444529294967651,dis_loss:1.0965678691864014\n",
      "epoch:56 gen_loss:0.6451182961463928,dis_loss:1.095276117324829\n",
      "epoch:57 gen_loss:0.6459346413612366,dis_loss:1.0940097570419312\n",
      "epoch:58 gen_loss:0.6465848088264465,dis_loss:1.0930286645889282\n",
      "epoch:59 gen_loss:0.6471118927001953,dis_loss:1.0919742584228516\n",
      "epoch:60 gen_loss:0.6478562951087952,dis_loss:1.0908640623092651\n",
      "epoch:61 gen_loss:0.6484301090240479,dis_loss:1.0898760557174683\n",
      "epoch:62 gen_loss:0.6489859819412231,dis_loss:1.088844895362854\n",
      "epoch:63 gen_loss:0.6496599316596985,dis_loss:1.087677001953125\n",
      "epoch:64 gen_loss:0.6503229141235352,dis_loss:1.0864704847335815\n",
      "epoch:65 gen_loss:0.6508786082267761,dis_loss:1.0854077339172363\n",
      "epoch:66 gen_loss:0.6515085697174072,dis_loss:1.084357738494873\n",
      "epoch:67 gen_loss:0.6520048379898071,dis_loss:1.0833948850631714\n",
      "epoch:68 gen_loss:0.6525887846946716,dis_loss:1.082439661026001\n",
      "epoch:69 gen_loss:0.6530864238739014,dis_loss:1.0815989971160889\n",
      "epoch:70 gen_loss:0.6535353660583496,dis_loss:1.0807271003723145\n",
      "epoch:71 gen_loss:0.654083788394928,dis_loss:1.0798635482788086\n",
      "epoch:72 gen_loss:0.6544904112815857,dis_loss:1.0791025161743164\n",
      "epoch:73 gen_loss:0.654994010925293,dis_loss:1.0782619714736938\n",
      "epoch:74 gen_loss:0.6554177403450012,dis_loss:1.0776115655899048\n",
      "epoch:75 gen_loss:0.6557612419128418,dis_loss:1.0768840312957764\n",
      "epoch:76 gen_loss:0.6562463641166687,dis_loss:1.0762219429016113\n",
      "epoch:77 gen_loss:0.6564968824386597,dis_loss:1.0756360292434692\n",
      "epoch:78 gen_loss:0.6569601893424988,dis_loss:1.0749948024749756\n",
      "epoch:79 gen_loss:0.6572491526603699,dis_loss:1.0743759870529175\n",
      "epoch:80 gen_loss:0.6576912999153137,dis_loss:1.0736923217773438\n",
      "epoch:81 gen_loss:0.6579826474189758,dis_loss:1.0730842351913452\n",
      "epoch:82 gen_loss:0.6584059596061707,dis_loss:1.072371244430542\n",
      "epoch:83 gen_loss:0.6588161587715149,dis_loss:1.0716221332550049\n",
      "epoch:84 gen_loss:0.6591581702232361,dis_loss:1.070951223373413\n",
      "epoch:85 gen_loss:0.6595531105995178,dis_loss:1.0702787637710571\n",
      "epoch:86 gen_loss:0.659906804561615,dis_loss:1.0696028470993042\n",
      "epoch:87 gen_loss:0.660266637802124,dis_loss:1.06892728805542\n",
      "epoch:88 gen_loss:0.6606358289718628,dis_loss:1.0682611465454102\n",
      "epoch:89 gen_loss:0.6609964370727539,dis_loss:1.0675855875015259\n",
      "epoch:90 gen_loss:0.6613332629203796,dis_loss:1.0669392347335815\n",
      "epoch:91 gen_loss:0.6616703867912292,dis_loss:1.0663015842437744\n",
      "epoch:92 gen_loss:0.6620085835456848,dis_loss:1.0656776428222656\n",
      "epoch:93 gen_loss:0.6623392701148987,dis_loss:1.0650593042373657\n",
      "epoch:94 gen_loss:0.6626479029655457,dis_loss:1.0644676685333252\n",
      "epoch:95 gen_loss:0.6629640460014343,dis_loss:1.0638798475265503\n",
      "epoch:96 gen_loss:0.663274347782135,dis_loss:1.0633022785186768\n",
      "epoch:97 gen_loss:0.6635627746582031,dis_loss:1.062750220298767\n",
      "epoch:98 gen_loss:0.6638580560684204,dis_loss:1.062206745147705\n",
      "epoch:99 gen_loss:0.6641461849212646,dis_loss:1.0616693496704102\n"
     ]
    },
    {
     "data": {
      "image/png": "[encoded data removed]",
      "text/plain": [
       "<Figure size 432x288 with 1 Axes>"
      ]
     },
     "metadata": {
      "needs_background": "light"
     },
     "output_type": "display_data"
    },
    {
     "data": {
      "image/png": "[encoded data removed]",
      "text/plain": [
       "<Figure size 432x288 with 1 Axes>"
      ]
     },
     "metadata": {
      "needs_background": "light"
     },
     "output_type": "display_data"
    }
   ],
   "source": [
    " GAN_Learner(500).train_test(100)"
   ]
  },
  {
   "cell_type": "code",
   "execution_count": 146,
   "metadata": {
    "scrolled": false
   },
   "outputs": [
    {
     "name": "stdout",
     "output_type": "stream",
     "text": [
      "train_imgs : (5923, 28, 28)\n",
      "epoch:0 gen_loss:0.4699274003505707,dis_loss:1.4435230493545532\n",
      "epoch:1 gen_loss:0.5145872831344604,dis_loss:1.3450536727905273\n",
      "epoch:2 gen_loss:0.5059530735015869,dis_loss:1.343394160270691\n",
      "epoch:3 gen_loss:0.4950457513332367,dis_loss:1.3534783124923706\n",
      "epoch:4 gen_loss:0.5021901726722717,dis_loss:1.3391529321670532\n",
      "epoch:5 gen_loss:0.5218912959098816,dis_loss:1.3045926094055176\n",
      "epoch:6 gen_loss:0.5425583720207214,dis_loss:1.2684990167617798\n",
      "epoch:7 gen_loss:0.5613816380500793,dis_loss:1.2358818054199219\n",
      "epoch:8 gen_loss:0.5756638050079346,dis_loss:1.2111573219299316\n",
      "epoch:9 gen_loss:0.5874118804931641,dis_loss:1.1906977891921997\n",
      "epoch:10 gen_loss:0.5967457890510559,dis_loss:1.174411416053772\n",
      "epoch:11 gen_loss:0.6047806739807129,dis_loss:1.1604198217391968\n",
      "epoch:12 gen_loss:0.6113768219947815,dis_loss:1.1489700078964233\n",
      "epoch:13 gen_loss:0.6172187328338623,dis_loss:1.1387962102890015\n",
      "epoch:14 gen_loss:0.6222817897796631,dis_loss:1.1299715042114258\n",
      "epoch:15 gen_loss:0.626711905002594,dis_loss:1.1222493648529053\n",
      "epoch:16 gen_loss:0.6306208372116089,dis_loss:1.1154354810714722\n",
      "epoch:17 gen_loss:0.6340529918670654,dis_loss:1.1094434261322021\n",
      "epoch:18 gen_loss:0.6371641159057617,dis_loss:1.1040226221084595\n",
      "epoch:19 gen_loss:0.6399641036987305,dis_loss:1.0991427898406982\n",
      "epoch:20 gen_loss:0.6424964070320129,dis_loss:1.0947271585464478\n",
      "epoch:21 gen_loss:0.6447324156761169,dis_loss:1.0908198356628418\n",
      "epoch:22 gen_loss:0.6468364000320435,dis_loss:1.0871542692184448\n",
      "epoch:23 gen_loss:0.6487650871276855,dis_loss:1.0837901830673218\n",
      "epoch:24 gen_loss:0.6505395174026489,dis_loss:1.0806950330734253\n",
      "epoch:25 gen_loss:0.6520510315895081,dis_loss:1.0780467987060547\n",
      "epoch:26 gen_loss:0.6535722613334656,dis_loss:1.0753939151763916\n",
      "epoch:27 gen_loss:0.6549848914146423,dis_loss:1.072930097579956\n",
      "epoch:28 gen_loss:0.6563000679016113,dis_loss:1.07063627243042\n",
      "epoch:29 gen_loss:0.6575230956077576,dis_loss:1.0685017108917236\n",
      "epoch:30 gen_loss:0.658671498298645,dis_loss:1.066500186920166\n",
      "epoch:31 gen_loss:0.6597481966018677,dis_loss:1.064622402191162\n",
      "epoch:32 gen_loss:0.6607596278190613,dis_loss:1.0628582239151\n",
      "epoch:33 gen_loss:0.661709189414978,dis_loss:1.0612010955810547\n",
      "epoch:34 gen_loss:0.6626067757606506,dis_loss:1.059635877609253\n",
      "epoch:35 gen_loss:0.6634516716003418,dis_loss:1.0581610202789307\n",
      "epoch:36 gen_loss:0.6642536520957947,dis_loss:1.0567628145217896\n",
      "epoch:37 gen_loss:0.6650134325027466,dis_loss:1.055437684059143\n",
      "epoch:38 gen_loss:0.6657342314720154,dis_loss:1.0541805028915405\n",
      "epoch:39 gen_loss:0.6664189696311951,dis_loss:1.0529861450195312\n",
      "epoch:40 gen_loss:0.6670703291893005,dis_loss:1.0518499612808228\n",
      "epoch:41 gen_loss:0.6676906943321228,dis_loss:1.0507680177688599\n",
      "epoch:42 gen_loss:0.6682372689247131,dis_loss:1.049816608428955\n",
      "epoch:43 gen_loss:0.6687057614326477,dis_loss:1.0489944219589233\n",
      "epoch:44 gen_loss:0.6691533327102661,dis_loss:1.048216700553894\n",
      "epoch:45 gen_loss:0.6691359281539917,dis_loss:1.0483310222625732\n",
      "epoch:46 gen_loss:0.6694251894950867,dis_loss:1.0478309392929077\n",
      "epoch:47 gen_loss:0.669918954372406,dis_loss:1.0469679832458496\n",
      "epoch:48 gen_loss:0.6703206896781921,dis_loss:1.0462595224380493\n",
      "epoch:49 gen_loss:0.6707557439804077,dis_loss:1.0454959869384766\n",
      "epoch:50 gen_loss:0.6711943745613098,dis_loss:1.0447328090667725\n",
      "epoch:51 gen_loss:0.671613335609436,dis_loss:1.0440025329589844\n",
      "epoch:52 gen_loss:0.6720192432403564,dis_loss:1.0432965755462646\n",
      "epoch:53 gen_loss:0.6724100708961487,dis_loss:1.042616367340088\n",
      "epoch:54 gen_loss:0.6727867126464844,dis_loss:1.0419608354568481\n",
      "epoch:55 gen_loss:0.6731424927711487,dis_loss:1.041339635848999\n",
      "epoch:56 gen_loss:0.6734930276870728,dis_loss:1.0407302379608154\n",
      "epoch:57 gen_loss:0.6738315224647522,dis_loss:1.0401411056518555\n",
      "epoch:58 gen_loss:0.67415851354599,dis_loss:1.03957200050354\n",
      "epoch:59 gen_loss:0.6744746565818787,dis_loss:1.0390218496322632\n",
      "epoch:60 gen_loss:0.6747803688049316,dis_loss:1.0384896993637085\n",
      "epoch:61 gen_loss:0.6750762462615967,dis_loss:1.0379748344421387\n",
      "epoch:62 gen_loss:0.6753175854682922,dis_loss:1.0375571250915527\n",
      "epoch:63 gen_loss:0.6755487322807312,dis_loss:1.0371512174606323\n",
      "epoch:64 gen_loss:0.6757665872573853,dis_loss:1.036766529083252\n",
      "epoch:65 gen_loss:0.676029622554779,dis_loss:1.0363088846206665\n",
      "epoch:66 gen_loss:0.6762847304344177,dis_loss:1.0358649492263794\n",
      "epoch:67 gen_loss:0.6764864921569824,dis_loss:1.035512924194336\n",
      "epoch:68 gen_loss:0.6767276525497437,dis_loss:1.0350934267044067\n",
      "epoch:69 gen_loss:0.6769618988037109,dis_loss:1.0346858501434326\n",
      "epoch:70 gen_loss:0.6771895289421082,dis_loss:1.0342897176742554\n",
      "epoch:71 gen_loss:0.6774108409881592,dis_loss:1.0339045524597168\n",
      "epoch:72 gen_loss:0.6776261329650879,dis_loss:1.0335299968719482\n",
      "epoch:73 gen_loss:0.6777900457382202,dis_loss:1.0332401990890503\n",
      "epoch:74 gen_loss:0.6779944896697998,dis_loss:1.0328844785690308\n",
      "epoch:75 gen_loss:0.6781598329544067,dis_loss:1.0325936079025269\n",
      "epoch:76 gen_loss:0.6783542037010193,dis_loss:1.0322555303573608\n",
      "epoch:77 gen_loss:0.6785435676574707,dis_loss:1.031926155090332\n",
      "epoch:78 gen_loss:0.6787097454071045,dis_loss:1.0316368341445923\n",
      "epoch:79 gen_loss:0.6788564324378967,dis_loss:1.0313771963119507\n",
      "epoch:80 gen_loss:0.679016649723053,dis_loss:1.0310978889465332\n",
      "epoch:81 gen_loss:0.6791572570800781,dis_loss:1.03085458278656\n",
      "epoch:82 gen_loss:0.6792864203453064,dis_loss:1.0306298732757568\n",
      "epoch:83 gen_loss:0.6793780326843262,dis_loss:1.0304769277572632\n",
      "epoch:84 gen_loss:0.6794479489326477,dis_loss:1.0303720235824585\n",
      "epoch:85 gen_loss:0.6794670820236206,dis_loss:1.030341625213623\n",
      "epoch:86 gen_loss:0.679624080657959,dis_loss:1.0300711393356323\n",
      "epoch:87 gen_loss:0.6797775030136108,dis_loss:1.029803991317749\n",
      "epoch:88 gen_loss:0.6799274682998657,dis_loss:1.0295429229736328\n",
      "epoch:89 gen_loss:0.6800575852394104,dis_loss:1.0293132066726685\n",
      "epoch:90 gen_loss:0.6802011728286743,dis_loss:1.02906334400177\n",
      "epoch:91 gen_loss:0.6803416609764099,dis_loss:1.0288188457489014\n",
      "epoch:92 gen_loss:0.680479109287262,dis_loss:1.0285794734954834\n",
      "epoch:93 gen_loss:0.68061363697052,dis_loss:1.0283452272415161\n",
      "epoch:94 gen_loss:0.6807453036308289,dis_loss:1.02811598777771\n",
      "epoch:95 gen_loss:0.6808742880821228,dis_loss:1.0278915166854858\n",
      "epoch:96 gen_loss:0.6810005903244019,dis_loss:1.0276715755462646\n",
      "epoch:97 gen_loss:0.6811242699623108,dis_loss:1.0274561643600464\n",
      "epoch:98 gen_loss:0.6812455058097839,dis_loss:1.0272451639175415\n",
      "epoch:99 gen_loss:0.6813642978668213,dis_loss:1.027038335800171\n"
     ]
    },
    {
     "data": {
      "image/png": "[encoded data removed]",
      "text/plain": [
       "<Figure size 432x288 with 1 Axes>"
      ]
     },
     "metadata": {
      "needs_background": "light"
     },
     "output_type": "display_data"
    },
    {
     "data": {
      "image/png": "[encoded data removed]",
      "text/plain": [
       "<Figure size 432x288 with 1 Axes>"
      ]
     },
     "metadata": {
      "needs_background": "light"
     },
     "output_type": "display_data"
    }
   ],
   "source": [
    " GAN_Learner(100).train_test(100)"
   ]
  },
  {
   "cell_type": "code",
   "execution_count": 129,
   "metadata": {},
   "outputs": [
    {
     "name": "stdout",
     "output_type": "stream",
     "text": [
      "train_imgs : (5923, 28, 28)\n",
      "epoch:0 gen_loss:0.4151301383972168,dis_loss:1.5145729780197144\n",
      "epoch:1 gen_loss:0.4131266176700592,dis_loss:1.4906898736953735\n",
      "epoch:2 gen_loss:0.41952869296073914,dis_loss:1.4712045192718506\n",
      "epoch:3 gen_loss:0.41670382022857666,dis_loss:1.4712762832641602\n",
      "epoch:4 gen_loss:0.41121479868888855,dis_loss:1.4775278568267822\n",
      "epoch:5 gen_loss:0.404712975025177,dis_loss:1.486338496208191\n",
      "epoch:6 gen_loss:0.4305347204208374,dis_loss:1.4430615901947021\n",
      "epoch:7 gen_loss:0.46327778697013855,dis_loss:1.3886830806732178\n",
      "epoch:8 gen_loss:0.4888207018375397,dis_loss:1.3462122678756714\n",
      "epoch:9 gen_loss:0.5092464685440063,dis_loss:1.312248945236206\n",
      "epoch:10 gen_loss:0.525966227054596,dis_loss:1.284432053565979\n",
      "epoch:11 gen_loss:0.5398994088172913,dis_loss:1.2612508535385132\n",
      "epoch:12 gen_loss:0.5515515804290771,dis_loss:1.2418770790100098\n",
      "epoch:13 gen_loss:0.56166672706604,dis_loss:1.2250465154647827\n",
      "epoch:14 gen_loss:0.5704331994056702,dis_loss:1.2104600667953491\n",
      "epoch:15 gen_loss:0.5781038999557495,dis_loss:1.1976969242095947\n",
      "epoch:16 gen_loss:0.5848721265792847,dis_loss:1.186435341835022\n",
      "epoch:17 gen_loss:0.5908883810043335,dis_loss:1.1764250993728638\n",
      "epoch:18 gen_loss:0.596271276473999,dis_loss:1.167468547821045\n",
      "epoch:19 gen_loss:0.6011159420013428,dis_loss:1.159407615661621\n",
      "epoch:20 gen_loss:0.6054992079734802,dis_loss:1.1521143913269043\n",
      "epoch:21 gen_loss:0.6094801425933838,dis_loss:1.145484209060669\n",
      "epoch:22 gen_loss:0.6131100654602051,dis_loss:1.1394305229187012\n",
      "epoch:23 gen_loss:0.6164374947547913,dis_loss:1.1338813304901123\n",
      "epoch:24 gen_loss:0.6194987297058105,dis_loss:1.1287760734558105\n",
      "epoch:25 gen_loss:0.622324526309967,dis_loss:1.1240636110305786\n",
      "epoch:26 gen_loss:0.6249409914016724,dis_loss:1.1197000741958618\n",
      "epoch:27 gen_loss:0.6273705363273621,dis_loss:1.1156482696533203\n",
      "epoch:28 gen_loss:0.6296325325965881,dis_loss:1.1118760108947754\n",
      "epoch:29 gen_loss:0.6317437291145325,dis_loss:1.1083550453186035\n",
      "epoch:30 gen_loss:0.633718729019165,dis_loss:1.105061411857605\n",
      "epoch:31 gen_loss:0.6355702877044678,dis_loss:1.101973533630371\n",
      "epoch:32 gen_loss:0.6373096704483032,dis_loss:1.099072813987732\n",
      "epoch:33 gen_loss:0.6389467120170593,dis_loss:1.09634268283844\n",
      "epoch:34 gen_loss:0.6404901742935181,dis_loss:1.0937687158584595\n",
      "epoch:35 gen_loss:0.6419479250907898,dis_loss:1.0913375616073608\n",
      "epoch:36 gen_loss:0.6433267593383789,dis_loss:1.0890382528305054\n",
      "epoch:37 gen_loss:0.6446331143379211,dis_loss:1.0868595838546753\n",
      "epoch:38 gen_loss:0.6458724737167358,dis_loss:1.0847927331924438\n",
      "epoch:39 gen_loss:0.6470499038696289,dis_loss:1.0828291177749634\n",
      "epoch:40 gen_loss:0.6481698751449585,dis_loss:1.0809613466262817\n",
      "epoch:41 gen_loss:0.6492365598678589,dis_loss:1.079182505607605\n",
      "epoch:42 gen_loss:0.6502535343170166,dis_loss:1.0774863958358765\n",
      "epoch:43 gen_loss:0.6512243747711182,dis_loss:1.0758674144744873\n",
      "epoch:44 gen_loss:0.6521520018577576,dis_loss:1.0743203163146973\n",
      "epoch:45 gen_loss:0.6530393362045288,dis_loss:1.0728405714035034\n",
      "epoch:46 gen_loss:0.6538888812065125,dis_loss:1.0714237689971924\n",
      "epoch:47 gen_loss:0.6546541452407837,dis_loss:1.0701518058776855\n",
      "epoch:48 gen_loss:0.655436098575592,dis_loss:1.06884765625\n",
      "epoch:49 gen_loss:0.6561867594718933,dis_loss:1.0675957202911377\n",
      "epoch:50 gen_loss:0.6569079756736755,dis_loss:1.0663928985595703\n",
      "epoch:51 gen_loss:0.6576014161109924,dis_loss:1.0652363300323486\n",
      "epoch:52 gen_loss:0.6582687497138977,dis_loss:1.0641233921051025\n",
      "epoch:53 gen_loss:0.6589113473892212,dis_loss:1.0630515813827515\n",
      "epoch:54 gen_loss:0.6595305800437927,dis_loss:1.062018871307373\n",
      "epoch:55 gen_loss:0.6601276993751526,dis_loss:1.0610229969024658\n",
      "epoch:56 gen_loss:0.6607038378715515,dis_loss:1.060062050819397\n",
      "epoch:57 gen_loss:0.6612601280212402,dis_loss:1.0591342449188232\n",
      "epoch:58 gen_loss:0.6617975831031799,dis_loss:1.058237910270691\n",
      "epoch:59 gen_loss:0.6623170971870422,dis_loss:1.0573714971542358\n",
      "epoch:60 gen_loss:0.6628195643424988,dis_loss:1.0565334558486938\n",
      "epoch:61 gen_loss:0.6633058190345764,dis_loss:1.0557223558425903\n",
      "epoch:62 gen_loss:0.663776695728302,dis_loss:1.0549371242523193\n",
      "epoch:63 gen_loss:0.6642327904701233,dis_loss:1.0541763305664062\n",
      "epoch:64 gen_loss:0.6646748781204224,dis_loss:1.0534390211105347\n",
      "epoch:65 gen_loss:0.6651036143302917,dis_loss:1.052724003791809\n",
      "epoch:66 gen_loss:0.6655194759368896,dis_loss:1.0520304441452026\n",
      "epoch:67 gen_loss:0.6659231781959534,dis_loss:1.0513571500778198\n",
      "epoch:68 gen_loss:0.6663151383399963,dis_loss:1.0507034063339233\n",
      "epoch:69 gen_loss:0.6666958928108215,dis_loss:1.0500683784484863\n",
      "epoch:70 gen_loss:0.6670659184455872,dis_loss:1.049451231956482\n",
      "epoch:71 gen_loss:0.6674256920814514,dis_loss:1.0488512516021729\n",
      "epoch:72 gen_loss:0.667775571346283,dis_loss:1.0482676029205322\n",
      "epoch:73 gen_loss:0.66811603307724,dis_loss:1.0476998090744019\n",
      "epoch:74 gen_loss:0.6684474349021912,dis_loss:1.0471471548080444\n",
      "epoch:75 gen_loss:0.6687700748443604,dis_loss:1.0466090440750122\n",
      "epoch:76 gen_loss:0.6690843105316162,dis_loss:1.0460848808288574\n",
      "epoch:77 gen_loss:0.6693905591964722,dis_loss:1.0455741882324219\n",
      "epoch:78 gen_loss:0.6696957945823669,dis_loss:1.0450763702392578\n",
      "epoch:79 gen_loss:0.6699965000152588,dis_loss:1.0445910692214966\n",
      "epoch:80 gen_loss:0.6702897548675537,dis_loss:1.0441176891326904\n",
      "epoch:81 gen_loss:0.6705758571624756,dis_loss:1.0436559915542603\n",
      "epoch:82 gen_loss:0.6708550453186035,dis_loss:1.0432052612304688\n",
      "epoch:83 gen_loss:0.6711276173591614,dis_loss:1.0427653789520264\n",
      "epoch:84 gen_loss:0.6713937520980835,dis_loss:1.0423357486724854\n",
      "epoch:85 gen_loss:0.671653687953949,dis_loss:1.0419161319732666\n",
      "epoch:86 gen_loss:0.6719076633453369,dis_loss:1.0415061712265015\n",
      "epoch:87 gen_loss:0.6721559166908264,dis_loss:1.0411055088043213\n",
      "epoch:88 gen_loss:0.6723985075950623,dis_loss:1.040713906288147\n",
      "epoch:89 gen_loss:0.6726357936859131,dis_loss:1.0403310060501099\n",
      "epoch:90 gen_loss:0.6728677749633789,dis_loss:1.0399564504623413\n",
      "epoch:91 gen_loss:0.6730947494506836,dis_loss:1.0395901203155518\n",
      "epoch:92 gen_loss:0.6733168959617615,dis_loss:1.039231538772583\n",
      "epoch:93 gen_loss:0.6735342144966125,dis_loss:1.038880705833435\n",
      "epoch:94 gen_loss:0.6737470626831055,dis_loss:1.0385372638702393\n",
      "epoch:95 gen_loss:0.6739553809165955,dis_loss:1.038200855255127\n",
      "epoch:96 gen_loss:0.6741594672203064,dis_loss:1.0378714799880981\n",
      "epoch:97 gen_loss:0.6743593811988831,dis_loss:1.0375488996505737\n",
      "epoch:98 gen_loss:0.674555242061615,dis_loss:1.037232756614685\n",
      "epoch:99 gen_loss:0.6747471690177917,dis_loss:1.0369229316711426\n",
      "epoch:100 gen_loss:0.6749353408813477,dis_loss:1.0366191864013672\n",
      "epoch:101 gen_loss:0.6751198172569275,dis_loss:1.0363214015960693\n",
      "epoch:102 gen_loss:0.675300657749176,dis_loss:1.0360294580459595\n",
      "epoch:103 gen_loss:0.6754780411720276,dis_loss:1.0357431173324585\n",
      "epoch:104 gen_loss:0.6756520867347717,dis_loss:1.0354622602462769\n",
      "epoch:105 gen_loss:0.6758227944374084,dis_loss:1.0351866483688354\n",
      "epoch:106 gen_loss:0.6759903430938721,dis_loss:1.0349162817001343\n",
      "epoch:107 gen_loss:0.6761547923088074,dis_loss:1.0346508026123047\n",
      "epoch:108 gen_loss:0.6763162016868591,dis_loss:1.0343902111053467\n",
      "epoch:109 gen_loss:0.6764746904373169,dis_loss:1.0341343879699707\n",
      "epoch:110 gen_loss:0.6766303777694702,dis_loss:1.0338832139968872\n",
      "epoch:111 gen_loss:0.6767832040786743,dis_loss:1.033636450767517\n",
      "epoch:112 gen_loss:0.6769333481788635,dis_loss:1.0333940982818604\n",
      "epoch:113 gen_loss:0.6770808696746826,dis_loss:1.0331560373306274\n",
      "epoch:114 gen_loss:0.6772258281707764,dis_loss:1.0329220294952393\n",
      "epoch:115 gen_loss:0.6773682832717896,dis_loss:1.0326920747756958\n",
      "epoch:116 gen_loss:0.6775082945823669,dis_loss:1.032466173171997\n",
      "epoch:117 gen_loss:0.6776459217071533,dis_loss:1.0322439670562744\n",
      "epoch:118 gen_loss:0.6777812242507935,dis_loss:1.0320255756378174\n",
      "epoch:119 gen_loss:0.6779143214225769,dis_loss:1.0318107604980469\n",
      "epoch:120 gen_loss:0.6780452132225037,dis_loss:1.031599521636963\n",
      "epoch:121 gen_loss:0.6781738996505737,dis_loss:1.0313917398452759\n",
      "epoch:122 gen_loss:0.6783005595207214,dis_loss:1.0311872959136963\n",
      "epoch:123 gen_loss:0.678425133228302,dis_loss:1.0309861898422241\n",
      "epoch:124 gen_loss:0.678547739982605,dis_loss:1.0307883024215698\n",
      "epoch:125 gen_loss:0.6786683797836304,dis_loss:1.0305935144424438\n",
      "epoch:126 gen_loss:0.6787871718406677,dis_loss:1.0304018259048462\n"
     ]
    },
    {
     "name": "stdout",
     "output_type": "stream",
     "text": [
      "epoch:127 gen_loss:0.6789040565490723,dis_loss:1.0302132368087769\n",
      "epoch:128 gen_loss:0.6790191531181335,dis_loss:1.0300273895263672\n",
      "epoch:129 gen_loss:0.6791324615478516,dis_loss:1.0298445224761963\n",
      "epoch:130 gen_loss:0.6792440414428711,dis_loss:1.029664397239685\n",
      "epoch:131 gen_loss:0.6793539524078369,dis_loss:1.0294870138168335\n",
      "epoch:132 gen_loss:0.679462194442749,dis_loss:1.029312252998352\n",
      "epoch:133 gen_loss:0.6795687675476074,dis_loss:1.0291402339935303\n",
      "epoch:134 gen_loss:0.6796738505363464,dis_loss:1.0289705991744995\n",
      "epoch:135 gen_loss:0.6797773241996765,dis_loss:1.0288035869598389\n",
      "epoch:136 gen_loss:0.6798793077468872,dis_loss:1.0286389589309692\n",
      "epoch:137 gen_loss:0.6799798607826233,dis_loss:1.0284767150878906\n",
      "epoch:138 gen_loss:0.68007892370224,dis_loss:1.028316855430603\n",
      "epoch:139 gen_loss:0.6801765561103821,dis_loss:1.0281591415405273\n",
      "epoch:140 gen_loss:0.6802728176116943,dis_loss:1.0280038118362427\n",
      "epoch:141 gen_loss:0.6803677082061768,dis_loss:1.02785062789917\n",
      "epoch:142 gen_loss:0.6804613471031189,dis_loss:1.027699589729309\n",
      "epoch:143 gen_loss:0.6805536150932312,dis_loss:1.0275505781173706\n",
      "epoch:144 gen_loss:0.6806446313858032,dis_loss:1.027403712272644\n",
      "epoch:145 gen_loss:0.680734395980835,dis_loss:1.0272588729858398\n",
      "epoch:146 gen_loss:0.6808229088783264,dis_loss:1.0271159410476685\n",
      "epoch:147 gen_loss:0.6809102892875671,dis_loss:1.0269749164581299\n",
      "epoch:148 gen_loss:0.6809964179992676,dis_loss:1.0268357992172241\n",
      "epoch:149 gen_loss:0.6810814738273621,dis_loss:1.0266985893249512\n",
      "epoch:150 gen_loss:0.681165337562561,dis_loss:1.0265631675720215\n",
      "epoch:151 gen_loss:0.681248128414154,dis_loss:1.026429533958435\n",
      "epoch:152 gen_loss:0.6813298463821411,dis_loss:1.026297688484192\n",
      "epoch:153 gen_loss:0.6814104914665222,dis_loss:1.026167392730713\n",
      "epoch:154 gen_loss:0.6814900636672974,dis_loss:1.0260390043258667\n",
      "epoch:155 gen_loss:0.6815686821937561,dis_loss:1.0259120464324951\n",
      "epoch:156 gen_loss:0.6816462874412537,dis_loss:1.0257868766784668\n",
      "epoch:157 gen_loss:0.68172287940979,dis_loss:1.0256632566452026\n",
      "epoch:158 gen_loss:0.68179851770401,dis_loss:1.025541067123413\n",
      "epoch:159 gen_loss:0.6818732023239136,dis_loss:1.0254205465316772\n",
      "epoch:160 gen_loss:0.6819469928741455,dis_loss:1.025301456451416\n",
      "epoch:161 gen_loss:0.682019829750061,dis_loss:1.025183916091919\n",
      "epoch:162 gen_loss:0.6820917725563049,dis_loss:1.025067687034607\n",
      "epoch:163 gen_loss:0.682162880897522,dis_loss:1.024953007698059\n",
      "epoch:164 gen_loss:0.6822330951690674,dis_loss:1.0248396396636963\n",
      "epoch:165 gen_loss:0.6823024749755859,dis_loss:1.0247275829315186\n",
      "epoch:166 gen_loss:0.6823710203170776,dis_loss:1.0246169567108154\n",
      "epoch:167 gen_loss:0.6824387907981873,dis_loss:1.0245076417922974\n",
      "epoch:168 gen_loss:0.6825056672096252,dis_loss:1.0243996381759644\n",
      "epoch:169 gen_loss:0.6825718283653259,dis_loss:1.0242928266525269\n",
      "epoch:170 gen_loss:0.6826372146606445,dis_loss:1.0241873264312744\n",
      "epoch:171 gen_loss:0.682701826095581,dis_loss:1.0240830183029175\n",
      "epoch:172 gen_loss:0.6827656626701355,dis_loss:1.0239800214767456\n",
      "epoch:173 gen_loss:0.6828287839889526,dis_loss:1.0238780975341797\n",
      "epoch:174 gen_loss:0.6828911900520325,dis_loss:1.0237773656845093\n",
      "epoch:175 gen_loss:0.6829529404640198,dis_loss:1.0236778259277344\n",
      "epoch:176 gen_loss:0.683013916015625,dis_loss:1.0235793590545654\n",
      "epoch:177 gen_loss:0.6830742359161377,dis_loss:1.0234819650650024\n",
      "epoch:178 gen_loss:0.6831338405609131,dis_loss:1.0233856439590454\n",
      "epoch:179 gen_loss:0.6831928491592407,dis_loss:1.0232905149459839\n",
      "epoch:180 gen_loss:0.6832512021064758,dis_loss:1.0231963396072388\n",
      "epoch:181 gen_loss:0.6833088397979736,dis_loss:1.0231032371520996\n",
      "epoch:182 gen_loss:0.6833659410476685,dis_loss:1.0230110883712769\n",
      "epoch:183 gen_loss:0.683422327041626,dis_loss:1.02292001247406\n",
      "epoch:184 gen_loss:0.6834781765937805,dis_loss:1.0228298902511597\n",
      "epoch:185 gen_loss:0.6835334300994873,dis_loss:1.0227408409118652\n",
      "epoch:186 gen_loss:0.6835880279541016,dis_loss:1.0226526260375977\n",
      "epoch:187 gen_loss:0.6836420893669128,dis_loss:1.0225653648376465\n",
      "epoch:188 gen_loss:0.6836955547332764,dis_loss:1.0224790573120117\n",
      "epoch:189 gen_loss:0.6837484836578369,dis_loss:1.0223935842514038\n",
      "epoch:190 gen_loss:0.6838008761405945,dis_loss:1.0223090648651123\n",
      "epoch:191 gen_loss:0.6838526725769043,dis_loss:1.0222254991531372\n",
      "epoch:192 gen_loss:0.6839039325714111,dis_loss:1.0221426486968994\n",
      "epoch:193 gen_loss:0.6839547157287598,dis_loss:1.022060751914978\n",
      "epoch:194 gen_loss:0.6840049624443054,dis_loss:1.0219796895980835\n",
      "epoch:195 gen_loss:0.6840546727180481,dis_loss:1.0218994617462158\n",
      "epoch:196 gen_loss:0.6841038465499878,dis_loss:1.0218199491500854\n",
      "epoch:197 gen_loss:0.6841526031494141,dis_loss:1.0217413902282715\n",
      "epoch:198 gen_loss:0.6842008233070374,dis_loss:1.0216635465621948\n",
      "epoch:199 gen_loss:0.6842485666275024,dis_loss:1.0215864181518555\n",
      "epoch:200 gen_loss:0.6842958331108093,dis_loss:1.021510124206543\n",
      "epoch:201 gen_loss:0.684342622756958,dis_loss:1.0214345455169678\n",
      "epoch:202 gen_loss:0.6843889951705933,dis_loss:1.0213598012924194\n",
      "epoch:203 gen_loss:0.6844348907470703,dis_loss:1.0212857723236084\n",
      "epoch:204 gen_loss:0.6844803094863892,dis_loss:1.0212123394012451\n",
      "epoch:205 gen_loss:0.6845253109931946,dis_loss:1.0211398601531982\n",
      "epoch:206 gen_loss:0.6845698952674866,dis_loss:1.0210678577423096\n",
      "epoch:207 gen_loss:0.6846140027046204,dis_loss:1.0209966897964478\n",
      "epoch:208 gen_loss:0.6846576929092407,dis_loss:1.0209261178970337\n",
      "epoch:209 gen_loss:0.6847010254859924,dis_loss:1.0208561420440674\n",
      "epoch:210 gen_loss:0.6847438812255859,dis_loss:1.020787000656128\n",
      "epoch:211 gen_loss:0.6847863793373108,dis_loss:1.0207184553146362\n",
      "epoch:212 gen_loss:0.6848284602165222,dis_loss:1.0206505060195923\n",
      "epoch:213 gen_loss:0.6848701238632202,dis_loss:1.020583152770996\n",
      "epoch:214 gen_loss:0.6849114298820496,dis_loss:1.0205165147781372\n",
      "epoch:215 gen_loss:0.6849523782730103,dis_loss:1.020450472831726\n",
      "epoch:216 gen_loss:0.6849929094314575,dis_loss:1.0203850269317627\n",
      "epoch:217 gen_loss:0.6850330829620361,dis_loss:1.020320177078247\n",
      "epoch:218 gen_loss:0.6850728988647461,dis_loss:1.0202559232711792\n",
      "epoch:219 gen_loss:0.6851123571395874,dis_loss:1.020192265510559\n",
      "epoch:220 gen_loss:0.6851513981819153,dis_loss:1.0201292037963867\n",
      "epoch:221 gen_loss:0.6851901412010193,dis_loss:1.0200666189193726\n",
      "epoch:222 gen_loss:0.6852285265922546,dis_loss:1.0200047492980957\n",
      "epoch:223 gen_loss:0.6852665543556213,dis_loss:1.019943356513977\n",
      "epoch:224 gen_loss:0.6853042840957642,dis_loss:1.0198824405670166\n",
      "epoch:225 gen_loss:0.6853416562080383,dis_loss:1.019822120666504\n",
      "epoch:226 gen_loss:0.6853786706924438,dis_loss:1.0197622776031494\n",
      "epoch:227 gen_loss:0.6854153871536255,dis_loss:1.0197030305862427\n",
      "epoch:228 gen_loss:0.6854518055915833,dis_loss:1.0196443796157837\n",
      "epoch:229 gen_loss:0.6854878664016724,dis_loss:1.0195860862731934\n",
      "epoch:230 gen_loss:0.6855236291885376,dis_loss:1.0195283889770508\n",
      "epoch:231 gen_loss:0.685559093952179,dis_loss:1.0194711685180664\n",
      "epoch:232 gen_loss:0.6855942606925964,dis_loss:1.0194144248962402\n",
      "epoch:233 gen_loss:0.68562912940979,dis_loss:1.0193581581115723\n",
      "epoch:234 gen_loss:0.685663640499115,dis_loss:1.0193023681640625\n",
      "epoch:235 gen_loss:0.6856979131698608,dis_loss:1.019247055053711\n",
      "epoch:236 gen_loss:0.6857318878173828,dis_loss:1.0191922187805176\n",
      "epoch:237 gen_loss:0.6857656240463257,dis_loss:1.0191378593444824\n",
      "epoch:238 gen_loss:0.6857990026473999,dis_loss:1.019083857536316\n",
      "epoch:239 gen_loss:0.685832142829895,dis_loss:1.0190304517745972\n",
      "epoch:240 gen_loss:0.6858649849891663,dis_loss:1.018977403640747\n",
      "epoch:241 gen_loss:0.6858975887298584,dis_loss:1.0189248323440552\n",
      "epoch:242 gen_loss:0.6859298944473267,dis_loss:1.018872618675232\n",
      "epoch:243 gen_loss:0.6859619617462158,dis_loss:1.018820881843567\n",
      "epoch:244 gen_loss:0.6859937310218811,dis_loss:1.01876962184906\n",
      "epoch:245 gen_loss:0.6860252618789673,dis_loss:1.0187187194824219\n",
      "epoch:246 gen_loss:0.6860565543174744,dis_loss:1.0186681747436523\n",
      "epoch:247 gen_loss:0.6860875487327576,dis_loss:1.018618106842041\n",
      "epoch:248 gen_loss:0.6861183047294617,dis_loss:1.018568515777588\n",
      "epoch:249 gen_loss:0.6861488223075867,dis_loss:1.0185191631317139\n",
      "epoch:250 gen_loss:0.6861791610717773,dis_loss:1.018470287322998\n",
      "epoch:251 gen_loss:0.6862092018127441,dis_loss:1.0184217691421509\n"
     ]
    },
    {
     "name": "stdout",
     "output_type": "stream",
     "text": [
      "epoch:252 gen_loss:0.6862390041351318,dis_loss:1.018373727798462\n",
      "epoch:253 gen_loss:0.6862685680389404,dis_loss:1.018325924873352\n",
      "epoch:254 gen_loss:0.6862978935241699,dis_loss:1.0182785987854004\n",
      "epoch:255 gen_loss:0.6863269805908203,dis_loss:1.0182316303253174\n",
      "epoch:256 gen_loss:0.6863558888435364,dis_loss:1.018185019493103\n",
      "epoch:257 gen_loss:0.6863845586776733,dis_loss:1.0181387662887573\n",
      "epoch:258 gen_loss:0.6864129900932312,dis_loss:1.0180928707122803\n",
      "epoch:259 gen_loss:0.68644118309021,dis_loss:1.0180473327636719\n",
      "epoch:260 gen_loss:0.6864691972732544,dis_loss:1.0180021524429321\n",
      "epoch:261 gen_loss:0.6864969730377197,dis_loss:1.0179572105407715\n",
      "epoch:262 gen_loss:0.6865245699882507,dis_loss:1.017912745475769\n",
      "epoch:263 gen_loss:0.6865519285202026,dis_loss:1.0178685188293457\n",
      "epoch:264 gen_loss:0.6865791082382202,dis_loss:1.0178247690200806\n",
      "epoch:265 gen_loss:0.6866060495376587,dis_loss:1.0177812576293945\n",
      "epoch:266 gen_loss:0.6866328120231628,dis_loss:1.0177379846572876\n",
      "epoch:267 gen_loss:0.6866593956947327,dis_loss:1.0176951885223389\n",
      "epoch:268 gen_loss:0.6866857409477234,dis_loss:1.0176526308059692\n",
      "epoch:269 gen_loss:0.6867119073867798,dis_loss:1.0176103115081787\n",
      "epoch:270 gen_loss:0.6867378950119019,dis_loss:1.0175684690475464\n",
      "epoch:271 gen_loss:0.6867636442184448,dis_loss:1.0175268650054932\n",
      "epoch:272 gen_loss:0.6867892146110535,dis_loss:1.017485499382019\n",
      "epoch:273 gen_loss:0.6868146657943726,dis_loss:1.0174444913864136\n",
      "epoch:274 gen_loss:0.6868398785591125,dis_loss:1.0174038410186768\n",
      "epoch:275 gen_loss:0.6868649125099182,dis_loss:1.017363429069519\n",
      "epoch:276 gen_loss:0.6868897676467896,dis_loss:1.0173232555389404\n",
      "epoch:277 gen_loss:0.6869144439697266,dis_loss:1.0172834396362305\n",
      "epoch:278 gen_loss:0.6869389414787292,dis_loss:1.0172438621520996\n",
      "epoch:279 gen_loss:0.6869632601737976,dis_loss:1.0172046422958374\n",
      "epoch:280 gen_loss:0.6869874000549316,dis_loss:1.0171656608581543\n",
      "epoch:281 gen_loss:0.6870114207267761,dis_loss:1.0171269178390503\n",
      "epoch:282 gen_loss:0.6870352029800415,dis_loss:1.017088532447815\n",
      "epoch:283 gen_loss:0.6870588660240173,dis_loss:1.0170503854751587\n",
      "epoch:284 gen_loss:0.6870823502540588,dis_loss:1.0170124769210815\n",
      "epoch:285 gen_loss:0.687105655670166,dis_loss:1.0169748067855835\n",
      "epoch:286 gen_loss:0.6871287822723389,dis_loss:1.016937494277954\n",
      "epoch:287 gen_loss:0.6871517896652222,dis_loss:1.0169003009796143\n",
      "epoch:288 gen_loss:0.6871746182441711,dis_loss:1.016863465309143\n",
      "epoch:289 gen_loss:0.6871972680091858,dis_loss:1.016826868057251\n",
      "epoch:290 gen_loss:0.6872197985649109,dis_loss:1.016790509223938\n",
      "epoch:291 gen_loss:0.6872421503067017,dis_loss:1.0167545080184937\n",
      "epoch:292 gen_loss:0.6872643828392029,dis_loss:1.0167186260223389\n",
      "epoch:293 gen_loss:0.6872864365577698,dis_loss:1.0166829824447632\n",
      "epoch:294 gen_loss:0.6873083710670471,dis_loss:1.0166475772857666\n",
      "epoch:295 gen_loss:0.6873301267623901,dis_loss:1.0166125297546387\n",
      "epoch:296 gen_loss:0.6873517036437988,dis_loss:1.0165776014328003\n",
      "epoch:297 gen_loss:0.6873732209205627,dis_loss:1.016542911529541\n",
      "epoch:298 gen_loss:0.6873944997787476,dis_loss:1.0165085792541504\n",
      "epoch:299 gen_loss:0.6874157190322876,dis_loss:1.0164743661880493\n",
      "epoch:300 gen_loss:0.6874367594718933,dis_loss:1.0164403915405273\n",
      "epoch:301 gen_loss:0.6874576807022095,dis_loss:1.0164066553115845\n",
      "epoch:302 gen_loss:0.6874784231185913,dis_loss:1.0163731575012207\n",
      "epoch:303 gen_loss:0.6874990463256836,dis_loss:1.0163397789001465\n",
      "epoch:304 gen_loss:0.6875195503234863,dis_loss:1.016306757926941\n",
      "epoch:305 gen_loss:0.6875398755073547,dis_loss:1.016273856163025\n",
      "epoch:306 gen_loss:0.6875600814819336,dis_loss:1.016241192817688\n",
      "epoch:307 gen_loss:0.6875801682472229,dis_loss:1.0162087678909302\n",
      "epoch:308 gen_loss:0.6876001358032227,dis_loss:1.0161765813827515\n",
      "epoch:309 gen_loss:0.6876199841499329,dis_loss:1.0161445140838623\n",
      "epoch:310 gen_loss:0.6876397132873535,dis_loss:1.0161126852035522\n",
      "epoch:311 gen_loss:0.6876593232154846,dis_loss:1.0160810947418213\n",
      "epoch:312 gen_loss:0.6876787543296814,dis_loss:1.0160496234893799\n",
      "epoch:313 gen_loss:0.6876980662345886,dis_loss:1.0160185098648071\n",
      "epoch:314 gen_loss:0.6877173185348511,dis_loss:1.015987515449524\n",
      "epoch:315 gen_loss:0.6877363920211792,dis_loss:1.0159566402435303\n",
      "epoch:316 gen_loss:0.6877553462982178,dis_loss:1.0159260034561157\n",
      "epoch:317 gen_loss:0.6877742409706116,dis_loss:1.0158956050872803\n",
      "epoch:318 gen_loss:0.687792956829071,dis_loss:1.0158653259277344\n",
      "epoch:319 gen_loss:0.687811553478241,dis_loss:1.0158352851867676\n",
      "epoch:320 gen_loss:0.6878300905227661,dis_loss:1.0158054828643799\n",
      "epoch:321 gen_loss:0.6878484487533569,dis_loss:1.0157757997512817\n",
      "epoch:322 gen_loss:0.687866747379303,dis_loss:1.0157462358474731\n",
      "epoch:323 gen_loss:0.6878848671913147,dis_loss:1.0157170295715332\n",
      "epoch:324 gen_loss:0.6879029273986816,dis_loss:1.0156878232955933\n",
      "epoch:325 gen_loss:0.687920868396759,dis_loss:1.0156588554382324\n",
      "epoch:326 gen_loss:0.6879386901855469,dis_loss:1.0156301259994507\n",
      "epoch:327 gen_loss:0.6879563927650452,dis_loss:1.0156015157699585\n",
      "epoch:328 gen_loss:0.6879740357398987,dis_loss:1.0155731439590454\n",
      "epoch:329 gen_loss:0.6879914999008179,dis_loss:1.0155448913574219\n",
      "epoch:330 gen_loss:0.6880089044570923,dis_loss:1.015516757965088\n",
      "epoch:331 gen_loss:0.6880261898040771,dis_loss:1.015488862991333\n",
      "epoch:332 gen_loss:0.6880434155464172,dis_loss:1.0154610872268677\n",
      "epoch:333 gen_loss:0.688060462474823,dis_loss:1.0154335498809814\n",
      "epoch:334 gen_loss:0.688077449798584,dis_loss:1.0154061317443848\n",
      "epoch:335 gen_loss:0.6880943179130554,dis_loss:1.0153788328170776\n",
      "epoch:336 gen_loss:0.6881111264228821,dis_loss:1.0153517723083496\n",
      "epoch:337 gen_loss:0.6881278157234192,dis_loss:1.0153248310089111\n",
      "epoch:338 gen_loss:0.6881443858146667,dis_loss:1.0152981281280518\n",
      "epoch:339 gen_loss:0.6881608963012695,dis_loss:1.0152714252471924\n",
      "epoch:340 gen_loss:0.6881772875785828,dis_loss:1.015244960784912\n",
      "epoch:341 gen_loss:0.6881935596466064,dis_loss:1.015218734741211\n",
      "epoch:342 gen_loss:0.6882097721099854,dis_loss:1.0151925086975098\n",
      "epoch:343 gen_loss:0.6882258653640747,dis_loss:1.0151665210723877\n",
      "epoch:344 gen_loss:0.6882418990135193,dis_loss:1.0151407718658447\n",
      "epoch:345 gen_loss:0.6882578134536743,dis_loss:1.0151150226593018\n",
      "epoch:346 gen_loss:0.6882736086845398,dis_loss:1.015089511871338\n",
      "epoch:347 gen_loss:0.6882893443107605,dis_loss:1.0150641202926636\n",
      "epoch:348 gen_loss:0.6883050203323364,dis_loss:1.0150388479232788\n",
      "epoch:349 gen_loss:0.6883205771446228,dis_loss:1.0150136947631836\n",
      "epoch:350 gen_loss:0.6883360147476196,dis_loss:1.0149887800216675\n",
      "epoch:351 gen_loss:0.6883513927459717,dis_loss:1.0149638652801514\n",
      "epoch:352 gen_loss:0.688366711139679,dis_loss:1.0149391889572144\n",
      "epoch:353 gen_loss:0.6883819103240967,dis_loss:1.014914631843567\n",
      "epoch:354 gen_loss:0.6883970499038696,dis_loss:1.0148903131484985\n",
      "epoch:355 gen_loss:0.688412070274353,dis_loss:1.0148659944534302\n",
      "epoch:356 gen_loss:0.6884270310401917,dis_loss:1.014841914176941\n",
      "epoch:357 gen_loss:0.6884418725967407,dis_loss:1.0148178339004517\n",
      "epoch:358 gen_loss:0.6884567141532898,dis_loss:1.0147939920425415\n",
      "epoch:359 gen_loss:0.6884713768959045,dis_loss:1.014770269393921\n",
      "epoch:360 gen_loss:0.6884860396385193,dis_loss:1.0147466659545898\n",
      "epoch:361 gen_loss:0.6885005235671997,dis_loss:1.0147231817245483\n",
      "epoch:362 gen_loss:0.6885150074958801,dis_loss:1.0146998167037964\n",
      "epoch:363 gen_loss:0.688529372215271,dis_loss:1.0146766901016235\n",
      "epoch:364 gen_loss:0.6885436773300171,dis_loss:1.0146535634994507\n",
      "epoch:365 gen_loss:0.6885579228401184,dis_loss:1.0146305561065674\n",
      "epoch:366 gen_loss:0.6885720491409302,dis_loss:1.0146077871322632\n",
      "epoch:367 gen_loss:0.6885861158370972,dis_loss:1.014585018157959\n",
      "epoch:368 gen_loss:0.6886001229286194,dis_loss:1.0145624876022339\n",
      "epoch:369 gen_loss:0.6886140704154968,dis_loss:1.0145399570465088\n",
      "epoch:370 gen_loss:0.6886278986930847,dis_loss:1.0145176649093628\n",
      "epoch:371 gen_loss:0.6886416673660278,dis_loss:1.0144953727722168\n",
      "epoch:372 gen_loss:0.6886553764343262,dis_loss:1.01447331905365\n",
      "epoch:373 gen_loss:0.688668966293335,dis_loss:1.0144513845443726\n",
      "epoch:374 gen_loss:0.6886825561523438,dis_loss:1.0144294500350952\n",
      "epoch:375 gen_loss:0.688696026802063,dis_loss:1.014407753944397\n",
      "epoch:376 gen_loss:0.6887094378471375,dis_loss:1.0143860578536987\n"
     ]
    },
    {
     "name": "stdout",
     "output_type": "stream",
     "text": [
      "epoch:377 gen_loss:0.6887227296829224,dis_loss:1.0143646001815796\n",
      "epoch:378 gen_loss:0.6887360215187073,dis_loss:1.0143431425094604\n",
      "epoch:379 gen_loss:0.6887491941452026,dis_loss:1.0143218040466309\n",
      "epoch:380 gen_loss:0.6887623071670532,dis_loss:1.0143007040023804\n",
      "epoch:381 gen_loss:0.6887754201889038,dis_loss:1.0142796039581299\n",
      "epoch:382 gen_loss:0.6887883543968201,dis_loss:1.014258623123169\n",
      "epoch:383 gen_loss:0.6888012886047363,dis_loss:1.0142377614974976\n",
      "epoch:384 gen_loss:0.6888141632080078,dis_loss:1.0142170190811157\n",
      "epoch:385 gen_loss:0.6888269186019897,dis_loss:1.0141963958740234\n",
      "epoch:386 gen_loss:0.6888396739959717,dis_loss:1.0141758918762207\n",
      "epoch:387 gen_loss:0.6888523101806641,dis_loss:1.014155387878418\n",
      "epoch:388 gen_loss:0.6888648867607117,dis_loss:1.0141351222991943\n",
      "epoch:389 gen_loss:0.6888774633407593,dis_loss:1.0141148567199707\n",
      "epoch:390 gen_loss:0.6888899207115173,dis_loss:1.0140947103500366\n",
      "epoch:391 gen_loss:0.6889023184776306,dis_loss:1.0140748023986816\n",
      "epoch:392 gen_loss:0.6889146566390991,dis_loss:1.014054775238037\n",
      "epoch:393 gen_loss:0.6889268755912781,dis_loss:1.0140349864959717\n",
      "epoch:394 gen_loss:0.688939094543457,dis_loss:1.0140153169631958\n",
      "epoch:395 gen_loss:0.6889512538909912,dis_loss:1.0139957666397095\n",
      "epoch:396 gen_loss:0.6889633536338806,dis_loss:1.0139762163162231\n",
      "epoch:397 gen_loss:0.6889753937721252,dis_loss:1.0139567852020264\n",
      "epoch:398 gen_loss:0.6889873147010803,dis_loss:1.0139374732971191\n",
      "epoch:399 gen_loss:0.6889992356300354,dis_loss:1.0139182806015015\n",
      "epoch:400 gen_loss:0.6890110969543457,dis_loss:1.0138990879058838\n",
      "epoch:401 gen_loss:0.6890228986740112,dis_loss:1.0138801336288452\n",
      "epoch:402 gen_loss:0.689034640789032,dis_loss:1.0138611793518066\n",
      "epoch:403 gen_loss:0.6890462636947632,dis_loss:1.0138423442840576\n",
      "epoch:404 gen_loss:0.6890578866004944,dis_loss:1.0138236284255981\n",
      "epoch:405 gen_loss:0.6890694499015808,dis_loss:1.0138049125671387\n",
      "epoch:406 gen_loss:0.6890809535980225,dis_loss:1.0137863159179688\n",
      "epoch:407 gen_loss:0.6890923976898193,dis_loss:1.0137678384780884\n",
      "epoch:408 gen_loss:0.6891037821769714,dis_loss:1.0137494802474976\n",
      "epoch:409 gen_loss:0.6891151070594788,dis_loss:1.0137312412261963\n",
      "epoch:410 gen_loss:0.6891263723373413,dis_loss:1.013713002204895\n",
      "epoch:411 gen_loss:0.6891376376152039,dis_loss:1.0136948823928833\n",
      "epoch:412 gen_loss:0.6891487836837769,dis_loss:1.0136768817901611\n",
      "epoch:413 gen_loss:0.6891599297523499,dis_loss:1.013662338256836\n",
      "epoch:414 gen_loss:0.6891709566116333,dis_loss:1.0136594772338867\n",
      "epoch:415 gen_loss:0.6891819834709167,dis_loss:1.013656735420227\n",
      "epoch:416 gen_loss:0.6891929507255554,dis_loss:1.0136539936065674\n",
      "epoch:417 gen_loss:0.6892037987709045,dis_loss:1.0136512517929077\n",
      "epoch:418 gen_loss:0.6892147064208984,dis_loss:1.0136483907699585\n",
      "epoch:419 gen_loss:0.6892254948616028,dis_loss:1.0136457681655884\n",
      "epoch:420 gen_loss:0.6892362236976624,dis_loss:1.0136430263519287\n",
      "epoch:421 gen_loss:0.6892468929290771,dis_loss:1.013640284538269\n",
      "epoch:422 gen_loss:0.6892575621604919,dis_loss:1.0136375427246094\n",
      "epoch:423 gen_loss:0.689268171787262,dis_loss:1.0136349201202393\n",
      "epoch:424 gen_loss:0.6892787218093872,dis_loss:1.0136321783065796\n",
      "epoch:425 gen_loss:0.6892892122268677,dis_loss:1.0136295557022095\n",
      "epoch:426 gen_loss:0.6892996430397034,dis_loss:1.0136269330978394\n",
      "epoch:427 gen_loss:0.6893100738525391,dis_loss:1.0136243104934692\n",
      "epoch:428 gen_loss:0.6893203854560852,dis_loss:1.0136216878890991\n",
      "epoch:429 gen_loss:0.6893306970596313,dis_loss:1.013619065284729\n",
      "epoch:430 gen_loss:0.6893409490585327,dis_loss:1.0136164426803589\n",
      "epoch:431 gen_loss:0.6893511414527893,dis_loss:1.0136139392852783\n",
      "epoch:432 gen_loss:0.6893613338470459,dis_loss:1.0136113166809082\n",
      "epoch:433 gen_loss:0.6893714070320129,dis_loss:1.0136088132858276\n",
      "epoch:434 gen_loss:0.68938148021698,dis_loss:1.0136061906814575\n",
      "epoch:435 gen_loss:0.6893914937973022,dis_loss:1.013603687286377\n",
      "epoch:436 gen_loss:0.6894015073776245,dis_loss:1.0136011838912964\n",
      "epoch:437 gen_loss:0.6894114017486572,dis_loss:1.0135986804962158\n",
      "epoch:438 gen_loss:0.6894212961196899,dis_loss:1.0135961771011353\n",
      "epoch:439 gen_loss:0.6894311308860779,dis_loss:1.0135936737060547\n",
      "epoch:440 gen_loss:0.689440906047821,dis_loss:1.0135911703109741\n",
      "epoch:441 gen_loss:0.6894506812095642,dis_loss:1.0135886669158936\n",
      "epoch:442 gen_loss:0.6894603967666626,dis_loss:1.0135862827301025\n",
      "epoch:443 gen_loss:0.6894700527191162,dis_loss:1.013583779335022\n",
      "epoch:444 gen_loss:0.689479649066925,dis_loss:1.013581395149231\n",
      "epoch:445 gen_loss:0.6894892454147339,dis_loss:1.0135788917541504\n",
      "epoch:446 gen_loss:0.689498782157898,dis_loss:1.0135765075683594\n",
      "epoch:447 gen_loss:0.6895082592964172,dis_loss:1.0135741233825684\n",
      "epoch:448 gen_loss:0.6895176768302917,dis_loss:1.0135717391967773\n",
      "epoch:449 gen_loss:0.6895270943641663,dis_loss:1.0135693550109863\n",
      "epoch:450 gen_loss:0.689536452293396,dis_loss:1.0135669708251953\n",
      "epoch:451 gen_loss:0.6895458102226257,dis_loss:1.0135645866394043\n",
      "epoch:452 gen_loss:0.6895550489425659,dis_loss:1.0135622024536133\n",
      "epoch:453 gen_loss:0.6895642876625061,dis_loss:1.0135599374771118\n",
      "epoch:454 gen_loss:0.6895735263824463,dis_loss:1.0135575532913208\n",
      "epoch:455 gen_loss:0.6895826458930969,dis_loss:1.0135552883148193\n",
      "epoch:456 gen_loss:0.6895917654037476,dis_loss:1.0135529041290283\n",
      "epoch:457 gen_loss:0.6896008849143982,dis_loss:1.0135506391525269\n",
      "epoch:458 gen_loss:0.6896098852157593,dis_loss:1.0135483741760254\n",
      "epoch:459 gen_loss:0.6896188855171204,dis_loss:1.013546109199524\n",
      "epoch:460 gen_loss:0.6896278858184814,dis_loss:1.0135438442230225\n",
      "epoch:461 gen_loss:0.689636766910553,dis_loss:1.013541579246521\n",
      "epoch:462 gen_loss:0.6896457076072693,dis_loss:1.0135393142700195\n",
      "epoch:463 gen_loss:0.689654529094696,dis_loss:1.013537049293518\n",
      "epoch:464 gen_loss:0.6896633505821228,dis_loss:1.0135347843170166\n",
      "epoch:465 gen_loss:0.6896721124649048,dis_loss:1.0135326385498047\n",
      "epoch:466 gen_loss:0.689680814743042,dis_loss:1.0135303735733032\n",
      "epoch:467 gen_loss:0.6896895170211792,dis_loss:1.0135282278060913\n",
      "epoch:468 gen_loss:0.6896981596946716,dis_loss:1.0135259628295898\n",
      "epoch:469 gen_loss:0.6897068023681641,dis_loss:1.013523817062378\n",
      "epoch:470 gen_loss:0.6897153854370117,dis_loss:1.013521671295166\n",
      "epoch:471 gen_loss:0.6897239685058594,dis_loss:1.013519525527954\n",
      "epoch:472 gen_loss:0.6897324323654175,dis_loss:1.0135173797607422\n",
      "epoch:473 gen_loss:0.6897409558296204,dis_loss:1.0135152339935303\n",
      "epoch:474 gen_loss:0.6897493600845337,dis_loss:1.0135130882263184\n",
      "epoch:475 gen_loss:0.689757764339447,dis_loss:1.0135109424591064\n",
      "epoch:476 gen_loss:0.6897661685943604,dis_loss:1.0135087966918945\n",
      "epoch:477 gen_loss:0.6897744536399841,dis_loss:1.0135066509246826\n",
      "epoch:478 gen_loss:0.6897827982902527,dis_loss:1.0135046243667603\n",
      "epoch:479 gen_loss:0.6897910237312317,dis_loss:1.0135024785995483\n",
      "epoch:480 gen_loss:0.6897992491722107,dis_loss:1.013500452041626\n",
      "epoch:481 gen_loss:0.6898074746131897,dis_loss:1.013498306274414\n",
      "epoch:482 gen_loss:0.6898156404495239,dis_loss:1.0134962797164917\n",
      "epoch:483 gen_loss:0.6898237466812134,dis_loss:1.0134942531585693\n",
      "epoch:484 gen_loss:0.6898318529129028,dis_loss:1.0134921073913574\n",
      "epoch:485 gen_loss:0.6898398995399475,dis_loss:1.013490080833435\n",
      "epoch:486 gen_loss:0.6898479461669922,dis_loss:1.0134880542755127\n",
      "epoch:487 gen_loss:0.6898559331893921,dis_loss:1.0134860277175903\n",
      "epoch:488 gen_loss:0.689863920211792,dis_loss:1.013484001159668\n",
      "epoch:489 gen_loss:0.6898718476295471,dis_loss:1.0134820938110352\n",
      "epoch:490 gen_loss:0.6898797154426575,dis_loss:1.0134800672531128\n",
      "epoch:491 gen_loss:0.6898875832557678,dis_loss:1.0134780406951904\n",
      "epoch:492 gen_loss:0.6898954510688782,dis_loss:1.013476014137268\n",
      "epoch:493 gen_loss:0.6899032592773438,dis_loss:1.0134741067886353\n",
      "epoch:494 gen_loss:0.6899110078811646,dis_loss:1.013472080230713\n",
      "epoch:495 gen_loss:0.6899187564849854,dis_loss:1.01347017288208\n",
      "epoch:496 gen_loss:0.6899264454841614,dis_loss:1.0134682655334473\n",
      "epoch:497 gen_loss:0.6899341344833374,dis_loss:1.013466238975525\n",
      "epoch:498 gen_loss:0.6899417638778687,dis_loss:1.013464331626892\n",
      "epoch:499 gen_loss:0.6899493932723999,dis_loss:1.0134624242782593\n"
     ]
    },
    {
     "data": {
      "image/png": "[encoded data removed]",
      "text/plain": [
       "<Figure size 432x288 with 1 Axes>"
      ]
     },
     "metadata": {
      "needs_background": "light"
     },
     "output_type": "display_data"
    },
    {
     "data": {
      "image/png": "[encoded data removed]",
      "text/plain": [
       "<Figure size 432x288 with 1 Axes>"
      ]
     },
     "metadata": {
      "needs_background": "light"
     },
     "output_type": "display_data"
    }
   ],
   "source": [
    " GAN_Learner(20).train_test(500)"
   ]
  },
  {
   "cell_type": "code",
   "execution_count": 130,
   "metadata": {},
   "outputs": [
    {
     "name": "stdout",
     "output_type": "stream",
     "text": [
      "train_imgs : (5923, 28, 28)\n",
      "epoch:0 gen_loss:0.3757006824016571,dis_loss:1.543468952178955\n"
     ]
    },
    {
     "data": {
      "image/png": "[encoded data removed]",
      "text/plain": [
       "<Figure size 432x288 with 1 Axes>"
      ]
     },
     "metadata": {
      "needs_background": "light"
     },
     "output_type": "display_data"
    },
    {
     "data": {
      "image/png": "[encoded data removed]",
      "text/plain": [
       "<Figure size 432x288 with 1 Axes>"
      ]
     },
     "metadata": {
      "needs_background": "light"
     },
     "output_type": "display_data"
    }
   ],
   "source": [
    " GAN_Learner(40).train_test(1)"
   ]
  },
  {
   "cell_type": "code",
   "execution_count": 131,
   "metadata": {},
   "outputs": [
    {
     "name": "stdout",
     "output_type": "stream",
     "text": [
      "train_imgs : (5923, 28, 28)\n",
      "epoch:0 gen_loss:0.5476975440979004,dis_loss:1.2997674942016602\n",
      "epoch:1 gen_loss:0.4775819778442383,dis_loss:1.386391282081604\n",
      "epoch:2 gen_loss:0.46773308515548706,dis_loss:1.3931186199188232\n",
      "epoch:3 gen_loss:0.4549153447151184,dis_loss:1.4093878269195557\n",
      "epoch:4 gen_loss:0.4513792097568512,dis_loss:1.4123440980911255\n",
      "epoch:5 gen_loss:0.4521014988422394,dis_loss:1.4092825651168823\n",
      "epoch:6 gen_loss:0.45139044523239136,dis_loss:1.4090982675552368\n",
      "epoch:7 gen_loss:0.44871580600738525,dis_loss:1.4124643802642822\n",
      "epoch:8 gen_loss:0.44421982765197754,dis_loss:1.419022798538208\n",
      "epoch:9 gen_loss:0.43702754378318787,dis_loss:1.430144190788269\n"
     ]
    },
    {
     "data": {
      "image/png": "[encoded data removed]",
      "text/plain": [
       "<Figure size 432x288 with 1 Axes>"
      ]
     },
     "metadata": {
      "needs_background": "light"
     },
     "output_type": "display_data"
    },
    {
     "data": {
      "image/png": "[encoded data removed]",
      "text/plain": [
       "<Figure size 432x288 with 1 Axes>"
      ]
     },
     "metadata": {
      "needs_background": "light"
     },
     "output_type": "display_data"
    }
   ],
   "source": [
    " GAN_Learner(40).train_test(10)"
   ]
  },
  {
   "cell_type": "code",
   "execution_count": null,
   "metadata": {
    "collapsed": true
   },
   "outputs": [],
   "source": []
  }
 ],
 "metadata": {
  "kernelspec": {
   "display_name": "tf2",
   "language": "python",
   "name": "tf2"
  },
  "language_info": {
   "codemirror_mode": {
    "name": "ipython",
    "version": 3
   },
   "file_extension": ".py",
   "mimetype": "text/x-python",
   "name": "python",
   "nbconvert_exporter": "python",
   "pygments_lexer": "ipython3",
   "version": "3.6.8"
  },
  "latex_envs": {
   "LaTeX_envs_menu_present": true,
   "autoclose": false,
   "autocomplete": true,
   "bibliofile": "biblio.bib",
   "cite_by": "apalike",
   "current_citInitial": 1,
   "eqLabelWithNumbers": true,
   "eqNumInitial": 1,
   "hotkeys": {
    "equation": "Ctrl-E",
    "itemize": "Ctrl-I"
   },
   "labels_anchors": false,
   "latex_user_defs": false,
   "report_style_numbering": false,
   "user_envs_cfg": false
  },
  "pycharm": {
   "stem_cell": {
    "cell_type": "raw",
    "metadata": {
     "collapsed": false
    },
    "source": []
   }
  }
 },
 "nbformat": 4,
 "nbformat_minor": 2
}
